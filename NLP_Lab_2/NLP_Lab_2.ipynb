{
  "cells": [
    {
      "cell_type": "markdown",
      "id": "f485743b-f1e5-4273-9ab1-f90f4c6a3081",
      "metadata": {
        "id": "f485743b-f1e5-4273-9ab1-f90f4c6a3081"
      },
      "source": [
        "# wrote by : **Idriss Khattabi**, framed by : Pr . **ELAACHAk LOTFI**"
      ]
    },
    {
      "cell_type": "markdown",
      "id": "bfde69c3-c17b-45a1-bce5-13e43a6ef723",
      "metadata": {
        "id": "bfde69c3-c17b-45a1-bce5-13e43a6ef723"
      },
      "source": [
        "## Part 1: Rule Based NLP and Regex"
      ]
    },
    {
      "cell_type": "code",
      "execution_count": null,
      "id": "06a7be64-3817-4a4f-bfcb-c76c89323540",
      "metadata": {
        "id": "06a7be64-3817-4a4f-bfcb-c76c89323540",
        "outputId": "3b8a42cc-28b3-4c2e-8be4-0018a0067a07"
      },
      "outputs": [
        {
          "name": "stdout",
          "output_type": "stream",
          "text": [
            "Splited text: ['I bought three Samsung smartphones 150 $ ', 'four kilos of fresh banana for 1,2 dollar a kilogram', 'one Hamburger with 4,5 dollar.']\n",
            "cleaned_splited_text :  ['bought 3 samsung smartphones 150 $', '4 banana 1,2 kilogram', '1 hamburger 4,5']\n",
            "\n",
            "Product\t\t\tQuantity\tUnit Price\tTotal Price\n",
            "samsung smartphones      3           \t150         \t450.00\n",
            "banana                   4           \t1,2         \t4.80\n",
            "hamburger                1           \t4,5         \t4.50\n",
            "\n",
            "Total Cost: 459.30 dollars\n"
          ]
        }
      ],
      "source": [
        "import re\n",
        "import nltk\n",
        "from nltk.corpus import stopwords\n",
        "\n",
        "words_to_int = {\"one\": 1, \"three\": 3, \"four\": 4}\n",
        "\n",
        "# Define my custom stopwords\n",
        "custom_stopwords = {\"dollar\", \"kilos\", \"dollar.\", \"fresh\"}\n",
        "\n",
        "def text_processing(text):\n",
        "    # convert to lowercases\n",
        "    text = text.lower()\n",
        "\n",
        "    # replace teh string number with intiger number\n",
        "    words = text.split()\n",
        "    replaced_text = \"\"\n",
        "    for word in words:\n",
        "        if word in words_to_int:\n",
        "            replaced_text += str(words_to_int[word]) + \" \"\n",
        "        else:\n",
        "            replaced_text += word + \" \"\n",
        "\n",
        "    text = replaced_text.strip()\n",
        "\n",
        "    # remove stop words\n",
        "    stop_words = set(stopwords.words('english'))\n",
        "    words = text.split()\n",
        "    filtered_text = [word for word in words if word not in stop_words]\n",
        "    # remove my custom stopwords\n",
        "    filtered_text = [word for word in filtered_text if word not in custom_stopwords]\n",
        "    return ' '.join(filtered_text)\n",
        "\n",
        "def generate_bill(text):\n",
        "\n",
        "    # Splitting the text based on commas and \"and\"\n",
        "    splited_text = re.split(r'\\w*,\\s+| and ', text)\n",
        "\n",
        "    print(\"Splited text:\", splited_text)\n",
        "\n",
        "    cleaned_splited_text = [text_processing(split) for split in splited_text]\n",
        "    print(\"cleaned_splited_text : \", cleaned_splited_text)\n",
        "\n",
        "    print(\"\\nProduct\\t\\t\\tQuantity\\tUnit Price\\tTotal Price\")\n",
        "    total_cost = 0\n",
        "\n",
        "    for sentence in cleaned_splited_text:\n",
        "        match = re.search(r'(\\d+)\\s+(\\w+\\s*\\w*)\\s+(\\d+[,.]?\\d*)\\s*', sentence)\n",
        "        if match:\n",
        "            quantity, product, unit_price = match.groups()\n",
        "            total_price = float(quantity) * float(unit_price.replace(',', '.'))\n",
        "            total_cost += total_price\n",
        "            print(f\"{product.ljust(25, \" \")}{quantity.ljust(12, \" \")}\\t{unit_price.ljust(12, \" \")}\\t{total_price:.2f}\")\n",
        "\n",
        "    print(f\"\\nTotal Cost: {total_cost:.2f} dollars\")\n",
        "\n",
        "# Example usage\n",
        "text = \"I bought three Samsung smartphones 150 $ each, four kilos of fresh banana for 1,2 dollar a kilogram and one Hamburger with 4,5 dollar.\"\n",
        "generate_bill(text)\n"
      ]
    },
    {
      "cell_type": "markdown",
      "id": "954ccf5f-4a83-4f14-9434-97cc0fa1acec",
      "metadata": {
        "id": "954ccf5f-4a83-4f14-9434-97cc0fa1acec"
      },
      "source": [
        "## Part 2 : word Embedding"
      ]
    },
    {
      "cell_type": "code",
      "execution_count": 2,
      "id": "d31a7e24-1e85-45a3-a279-289cca723dcc",
      "metadata": {
        "id": "d31a7e24-1e85-45a3-a279-289cca723dcc"
      },
      "outputs": [],
      "source": [
        "from pymongo import MongoClient\n",
        "import pandas as pd\n",
        "import numpy as np"
      ]
    },
    {
      "cell_type": "code",
      "execution_count": 3,
      "id": "a23da01b-1e55-49e7-9c8d-6f14b20b624d",
      "metadata": {
        "colab": {
          "base_uri": "https://localhost:8080/",
          "height": 408
        },
        "id": "a23da01b-1e55-49e7-9c8d-6f14b20b624d",
        "outputId": "c57c448b-6d79-4547-eee5-557a3bc92df8"
      },
      "outputs": [
        {
          "data": {
            "text/html": [
              "<div>\n",
              "<style scoped>\n",
              "    .dataframe tbody tr th:only-of-type {\n",
              "        vertical-align: middle;\n",
              "    }\n",
              "\n",
              "    .dataframe tbody tr th {\n",
              "        vertical-align: top;\n",
              "    }\n",
              "\n",
              "    .dataframe thead th {\n",
              "        text-align: right;\n",
              "    }\n",
              "</style>\n",
              "<table border=\"1\" class=\"dataframe\">\n",
              "  <thead>\n",
              "    <tr style=\"text-align: right;\">\n",
              "      <th></th>\n",
              "      <th>cleaned_posts</th>\n",
              "    </tr>\n",
              "  </thead>\n",
              "  <tbody>\n",
              "    <tr>\n",
              "      <th>0</th>\n",
              "      <td>ﺿﻤﻦ ﺍﻟﺘﻘﺮﻳﺮ ﺗﺴﻠﻤﻪ ﻋﺰﻳﺰ ﺃﺧﻨﻮﺵ، ﺭﺋﻴﺲ ﺍﻟﺤﻜﻮﻣﺔ، ﻧﻬ...</td>\n",
              "    </tr>\n",
              "    <tr>\n",
              "      <th>1</th>\n",
              "      <td>ﻳﺘﺠﺪﺩ ﺍﻟﻨﻘﺎﺵ ﺃﻭﺳﺎﻁ ﺍﻟﻤﻬﺘﻤﻴﻦ ﺑﺸﺆﻭﻥ ﺍﻟﻤﺮﺃﺓ ﻭﺣﻘﻮﻗ...</td>\n",
              "    </tr>\n",
              "    <tr>\n",
              "      <th>2</th>\n",
              "      <td>ﺃﻋﻠﻦ ﺷﻜﻴﺐ ﺑﻨﻤﻮﺳﻰ، ﻭﺯﻳﺮ ﺍﻟﺘﺮﺑﻴﺔ ﺍﻟﻮﻃﻨﻴﺔ ﻭﺍﻟﺘﻌﻠﻴ...</td>\n",
              "    </tr>\n",
              "    <tr>\n",
              "      <th>3</th>\n",
              "      <td>ﺗﺘﺠﻪ ﺃﻧﻈﺎﺭ ﺷﺒﻜﺎﺕ ﺍﻟﻬﺠﺮﺓ ﺍﻟﺴﺮﻳﺔ ﺑﺎﻟﻤﻐﺮﺏ ﻣﻮﻋﺪ ﻋﻴ...</td>\n",
              "    </tr>\n",
              "    <tr>\n",
              "      <th>4</th>\n",
              "      <td>ﺗﻮﺻﻠﺖ ﺟﺮﻳﺪﺓ ﻫﺴﺒﺮﻳﺲ ﺍﻹﻟﻜﺘﺮﻭﻧﻴﺔ ﺑﺮﺩ ﺟﻤﻌﻴﺔ ﺍﻷﻋﻤﺎﻝ...</td>\n",
              "    </tr>\n",
              "  </tbody>\n",
              "</table>\n",
              "</div>"
            ],
            "text/plain": [
              "                                       cleaned_posts\n",
              "0  ﺿﻤﻦ ﺍﻟﺘﻘﺮﻳﺮ ﺗﺴﻠﻤﻪ ﻋﺰﻳﺰ ﺃﺧﻨﻮﺵ، ﺭﺋﻴﺲ ﺍﻟﺤﻜﻮﻣﺔ، ﻧﻬ...\n",
              "1  ﻳﺘﺠﺪﺩ ﺍﻟﻨﻘﺎﺵ ﺃﻭﺳﺎﻁ ﺍﻟﻤﻬﺘﻤﻴﻦ ﺑﺸﺆﻭﻥ ﺍﻟﻤﺮﺃﺓ ﻭﺣﻘﻮﻗ...\n",
              "2  ﺃﻋﻠﻦ ﺷﻜﻴﺐ ﺑﻨﻤﻮﺳﻰ، ﻭﺯﻳﺮ ﺍﻟﺘﺮﺑﻴﺔ ﺍﻟﻮﻃﻨﻴﺔ ﻭﺍﻟﺘﻌﻠﻴ...\n",
              "3  ﺗﺘﺠﻪ ﺃﻧﻈﺎﺭ ﺷﺒﻜﺎﺕ ﺍﻟﻬﺠﺮﺓ ﺍﻟﺴﺮﻳﺔ ﺑﺎﻟﻤﻐﺮﺏ ﻣﻮﻋﺪ ﻋﻴ...\n",
              "4  ﺗﻮﺻﻠﺖ ﺟﺮﻳﺪﺓ ﻫﺴﺒﺮﻳﺲ ﺍﻹﻟﻜﺘﺮﻭﻧﻴﺔ ﺑﺮﺩ ﺟﻤﻌﻴﺔ ﺍﻷﻋﻤﺎﻝ..."
            ]
          },
          "execution_count": 3,
          "metadata": {},
          "output_type": "execute_result"
        }
      ],
      "source": [
        "# First, load the data from MongoDB\n",
        "\n",
        "# Connect to MongoDB server\n",
        "client = MongoClient('mongodb://localhost:27017/')\n",
        "\n",
        "# Select the database\n",
        "db = client['NLP_DB1']\n",
        "\n",
        "# Select the collection\n",
        "collection = db['cleaned_hespress_posts']\n",
        "\n",
        "projection = {'_id': 0, 'cleaned_posts': 1}\n",
        "\n",
        "# Query the collection to retrieve documents\n",
        "all_posts = collection.find({}, projection)\n",
        "\n",
        "# Convert the data to pandas's DataFrame\n",
        "all_posts = pd.DataFrame(list(all_posts))\n",
        "\n",
        "all_posts.head()"
      ]
    },
    {
      "cell_type": "code",
      "execution_count": 17,
      "id": "sUGHLRvudQJ3",
      "metadata": {
        "colab": {
          "base_uri": "https://localhost:8080/",
          "height": 426
        },
        "id": "sUGHLRvudQJ3",
        "outputId": "2364087f-cf93-45ee-f8f5-3af259575a1c"
      },
      "outputs": [
        {
          "data": {
            "application/vnd.google.colaboratory.intrinsic+json": {
              "summary": "{\n  \"name\": \"all_posts\",\n  \"rows\": 12,\n  \"fields\": [\n    {\n      \"column\": \"cleaned_data\",\n      \"properties\": {\n        \"dtype\": \"string\",\n        \"num_unique_values\": 12,\n        \"samples\": [\n          \"\\ufea9\\ufe8d\\ufed3\\ufeca \\ufeb7\\ufedc\\ufef4\\ufe90 \\ufe91\\ufee8\\ufee4\\ufeee\\ufeb3\\ufef0\\u060c \\ufeed\\ufeaf\\ufef3\\ufeae \\ufe8d\\ufedf\\ufe98\\ufeae\\ufe91\\ufef4\\ufe94 \\ufe8d\\ufedf\\ufeee\\ufec3\\ufee8\\ufef4\\ufe94 \\ufeed\\ufe8d\\ufedf\\ufe98\\ufecc\\ufee0\\ufef4\\ufee2 \\ufe8d\\ufef7\\ufeed\\ufedf\\ufef2 \\ufeed\\ufe8d\\ufedf\\ufeae\\ufef3\\ufe8e\\ufebf\\ufe94\\u060c \\ufed7\\ufeae\\ufe8d\\ufead \\ufe8d\\ufefb\\ufed7\\ufe98\\ufec4\\ufe8e\\ufec9 \\ufe83\\ufe9f\\ufeee\\ufead \\ufe8d\\ufef7\\ufeb3\\ufe8e\\ufe97\\ufeac\\ufe93 \\ufe8d\\ufedf\\ufee4\\ufec0\\ufeae\\ufe91\\ufef4\\ufee6\\u060c \\ufee3\\ufed4\\ufef4\\ufeaa\\ufe8d \\ufe91\\ufe84\\ufee7\\ufeea \\ufef3\\ufeec\\ufee2 \\ufee3\\ufee0\\ufed2 \\ufe8d\\ufef7\\ufeb3\\ufe8e\\ufe97\\ufeac\\ufe93 \\ufe8d\\ufedf\\ufee4\\ufeee\\ufed7\\ufeee\\ufed3\\ufef4\\ufee6 \\ufe97\\ufeb4\\ufeee \\ufeed\\ufebf\\ufecc\\ufef4\\ufe98\\ufeec\\ufee2 \\ufed3\\ufeb4\\ufef4\\ufe98\\ufee2 \\ufecb\\ufeae\\ufebf\\ufeec\\ufee2 \\ufe8d\\ufedf\\ufee4\\ufea0\\ufe8e\\ufedf\\ufeb2 \\ufe8d\\ufedf\\ufe98\\ufe84\\ufea9\\ufef3\\ufe92\\ufef4\\ufe94 \\ufed7\\ufeae\\ufef3\\ufe92\\ufe8e \\ufeed\\ufed7\\ufe8e\\ufedd \\ufe91\\ufee8\\ufee4\\ufeee\\ufeb3\\ufef0\\u060c \\ufebf\\ufee4\\ufee6 \\ufe9f\\ufeee\\ufe8d\\ufe8f \\ufedb\\ufe98\\ufe8e\\ufe91\\ufef2 \\ufeb3\\ufe86\\ufe8d\\ufedd \\ufedf\\ufefc\\ufe97\\ufea4\\ufe8e\\ufea9 \\ufe8d\\ufedf\\ufeee\\ufec3\\ufee8\\ufef2 \\ufedf\\ufee0\\ufeb8\\ufed0\\ufede \\ufe91\\ufe8e\\ufedf\\ufee4\\ufed0\\ufeae\\ufe8f \\ufee3\\ufea0\\ufee0\\ufeb2 \\ufe8d\\ufedf\\ufee4\\ufeb4\\ufe98\\ufeb8\\ufe8e\\ufead\\ufef3\\ufee6\\u060c \\ufed7\\ufeae\\ufe8d\\ufead\\ufe8d\\ufe95 \\ufe8d\\ufefb\\ufed7\\ufe98\\ufec4\\ufe8e\\ufec9 \\ufe83\\ufe9f\\ufeee\\ufead \\ufe8d\\ufef7\\ufeb3\\ufe8e\\ufe97\\ufeac\\ufe93 \\ufe97\\ufee4\\ufe96 \\ufeed\\ufed3\\ufed6 \\ufe8d\\ufedf\\ufed8\\ufeee\\ufe8d\\ufee7\\ufef4\\ufee6 \\ufe8d\\ufedf\\ufea0\\ufe8e\\ufead\\ufef1 \\ufe8d\\ufedf\\ufecc\\ufee4\\ufede\\u060c \\ufeed\\ufea7\\ufe8e\\ufebb\\ufe94 \\ufed7\\ufe8e\\ufecb\\ufeaa\\ufe93 \\ufe8d\\ufef7\\ufe9f\\ufeae \\ufee3\\ufed8\\ufe8e\\ufe91\\ufede \\ufe8d\\ufedf\\ufecc\\ufee4\\ufede \\ufe9f\\ufe8e\\ufe80\\ufe95 \\ufe87\\ufec3\\ufe8e\\ufead \\ufea3\\ufeae\\ufeb9 \\ufe8d\\ufedf\\ufeee\\ufeaf\\ufe8d\\ufead\\ufe93\\u060c \\ufe87\\ufed7\\ufee0\\ufef4\\ufee4\\ufef4\\ufe8e \\ufeed\\ufe9f\\ufeec\\ufeee\\ufef3\\ufe8e \\ufeed\\ufee3\\ufeae\\ufedb\\ufeb0\\ufef3\\ufe8e\\u060c \\ufe8d\\ufeb3\\ufe98\\ufeaa\\ufe8d\\ufee3\\ufe94 \\ufe8d\\ufedf\\ufea8\\ufeaa\\ufee3\\ufe94 \\ufe8d\\ufedf\\ufecc\\ufee4\\ufeee\\ufee3\\ufef4\\ufe94 \\ufedf\\ufee0\\ufee4\\ufeae\\ufed3\\ufed6 \\ufe8d\\ufedf\\ufe98\\ufeae\\ufe91\\ufeee\\ufef1 \\ufe8d\\ufedf\\ufe98\\ufecc\\ufee0\\ufef4\\ufee4\\ufef2 \\ufeed\\ufea3\\ufee4\\ufe8e\\ufef3\\ufe94 \\ufea3\\ufed6 \\ufe8d\\ufedf\\ufe98\\ufee4\\ufeaa\\ufead\\ufeb1 \\ufef3\\ufecc\\ufe98\\ufe92\\ufeae \\ufea9\\ufeb3\\ufe98\\ufeee\\ufead\\ufef3\\ufe8e \\ufef3\\ufee4\\ufedc\\ufee6 \\ufe8d\\ufedf\\ufee4\\ufeb4\\ufe8e\\ufeb1 \\ufeed\\ufe83\\ufeed\\ufebf\\ufea2 \\ufe8d\\ufedf\\ufeee\\ufeaf\\ufef3\\ufeae \\ufe8d\\ufedf\\ufeee\\ufebb\\ufef2 \\ufed7\\ufec4\\ufe8e\\ufec9 \\ufe8d\\ufedf\\ufe98\\ufeae\\ufe91\\ufef4\\ufe94 \\ufe8d\\ufedf\\ufeee\\ufec3\\ufee8\\ufef4\\ufe94 \\ufea3\\ufe8e\\ufefb\\ufe95 \\ufe8d\\ufedf\\ufe98\\ufed0\\ufef4\\ufe90 \\ufe8d\\ufedf\\ufecc\\ufee4\\ufede \\ufe83\\ufea9\\ufe95 \\ufe8d\\ufefb\\ufed7\\ufe98\\ufec4\\ufe8e\\ufec9 \\ufe8d\\ufef7\\ufe9f\\ufeae \\ufe97\\ufed8\\ufeca \\ufea7\\ufe8e\\ufead\\ufe9d \\ufe8d\\ufedf\\ufea4\\ufe8e\\ufefb\\ufe95 \\ufe8d\\ufedf\\ufee4\\ufee8\\ufebc\\ufeee\\ufeb9 \\ufecb\\ufee0\\ufef4\\ufeec\\ufe8e \\ufe8d\\ufedf\\ufed4\\ufebc\\ufede \\ufe8d\\ufedf\\ufee8\\ufec8\\ufe8e\\ufee1 \\ufe8d\\ufef7\\ufeb3\\ufe8e\\ufeb3\\ufef2 \\ufedf\\ufee0\\ufeee\\ufec7\\ufef4\\ufed4\\ufe94 \\ufe8d\\ufedf\\ufecc\\ufee4\\ufeee\\ufee3\\ufef4\\ufe94\\u060c \\ufeed\\ufe8d\\ufedf\\ufe98\\ufef2 \\ufe97\\ufecc\\ufe98\\ufe92\\ufeae \\ufe87\\ufea7\\ufefc\\ufefb \\ufe91\\ufe8e\\ufefb\\ufedf\\ufe98\\ufeb0\\ufe8d\\ufee3\\ufe8e\\ufe95 \\ufe8d\\ufedf\\ufeee\\ufec7\\ufef4\\ufed4\\ufef4\\ufe94\\u061b \\ufef3\\ufeb4\\ufe98\\ufeee\\ufe9f\\ufe90 \\ufe97\\ufed4\\ufecc\\ufef4\\ufede \\ufe8d\\ufedf\\ufee4\\ufed8\\ufe98\\ufec0\\ufef4\\ufe8e\\ufe95 \\ufeed\\ufe8d\\ufedf\\ufee4\\ufeb4\\ufe8e\\ufec3\\ufeae \\ufe8d\\ufedf\\ufebc\\ufee0\\ufe94\\u060c \\ufefb\\ufed3\\ufe98\\ufe8e \\ufe8d\\ufedf\\ufea4\\ufedc\\ufeee\\ufee3\\ufe94 \\ufe8d\\ufecb\\ufe98\\ufee4\\ufeaa\\ufe95 \\ufee3\\ufed8\\ufe8e\\ufead\\ufee7\\ufe94 \\ufee3\\ufeae\\ufee7\\ufe94 \\ufe8d\\ufedf\\ufe98\\ufecc\\ufe8e\\ufee3\\ufede \\ufe8d\\ufefb\\ufed7\\ufe98\\ufec4\\ufe8e\\ufecb\\ufe8e\\ufe95\\u060c \\ufe8d\\ufedf\\ufe98\\ufeb0\\ufee3\\ufe96 \\ufeb7\\ufeec\\ufeae \\ufea9\\ufe9f\\ufee8\\ufe92\\ufeae \\ufe91\\ufecc\\ufeaa\\ufee1 \\ufe97\\ufec4\\ufe92\\ufef4\\ufed8\\ufeec\\ufe8e \\ufe91\\ufe8e\\ufedf\\ufee8\\ufeb4\\ufe92\\ufe94 \\ufedf\\ufef8\\ufeb3\\ufe8e\\ufe97\\ufeac\\ufe93 \\ufe8d\\ufedf\\ufe98\\ufea4\\ufed8\\ufeee\\ufe8d \\ufe91\\ufecc\\ufee4\\ufee0\\ufeec\\ufee2 \\ufe8d\\ufedf\\ufecc\\ufec4\\ufee0\\ufe94 \\ufe8d\\ufedf\\ufe92\\ufef4\\ufee8\\ufef4\\ufe94 \\ufeed\\ufed3\\ufef4\\ufee4\\ufe8e \\ufef3\\ufeec\\ufee2 \\ufee3\\ufee0\\ufed2 \\ufe8d\\ufef7\\ufeb3\\ufe8e\\ufe97\\ufeac\\ufe93 \\ufe8d\\ufedf\\ufee4\\ufeee\\ufed7\\ufeee\\ufed3\\ufef4\\ufee6\\u060c \\ufe83\\ufeed\\ufead\\ufea9 \\ufe91\\ufee8\\ufee4\\ufeee\\ufeb3\\ufef0 \\ufe83\\ufee7\\ufeea \\ufe97\\ufee2 \\ufe97\\ufeb8\\ufedc\\ufef4\\ufede \\ufedf\\ufea0\\ufe8e\\ufee5 \\ufe9f\\ufeec\\ufeee\\ufef3\\ufe94 \\ufe91\\ufe8e\\ufef7\\ufedb\\ufe8e\\ufea9\\ufef3\\ufee4\\ufef4\\ufe8e\\ufe95 \\ufe8d\\ufedf\\ufea0\\ufeec\\ufeee\\ufef3\\ufe94 \\ufedf\\ufee0\\ufe98\\ufeae\\ufe91\\ufef4\\ufe94 \\ufeed\\ufe8d\\ufedf\\ufe98\\ufedc\\ufeee\\ufef3\\ufee6 \\ufecb\\ufeec\\ufeaa \\ufe87\\ufedf\\ufef4\\ufeec\\ufe8e \\ufe91\\ufeaa\\ufead\\ufe8d\\ufeb3\\ufe94 \\ufee3\\ufee0\\ufed2 \\ufea3\\ufeaa\\ufe93 \\ufeed\\ufe97\\ufebc\\ufee8\\ufef4\\ufed4\\ufeea \\ufe8d\\ufedf\\ufee4\\ufe86\\ufe8d\\ufea7\\ufeac\\ufe8d\\ufe95 \\ufe8d\\ufedf\\ufee4\\ufeb4\\ufea0\\ufee0\\ufe94 \\ufe8d\\ufedf\\ufee4\\ufecc\\ufee8\\ufef2 \\ufe91\\ufe8e\\ufef7\\ufee3\\ufeae \\ufeed\\ufe97\\ufee4\\ufe96 \\ufee3\\ufecc\\ufe8e\\ufedf\\ufea0\\ufe94 \\ufe8d\\ufedf\\ufeee\\ufebf\\ufecc\\ufef4\\ufe94 \\ufe8d\\ufef9\\ufea9\\ufe8d\\ufead\\ufef3\\ufe94 \\ufeed\\ufe8d\\ufedf\\ufee4\\ufe8e\\ufedf\\ufef4\\ufe94 \\ufedf\\ufee0\\ufecc\\ufeaa\\ufef3\\ufeaa \\ufee3\\ufee8\\ufeec\\ufee2\\u061b \\ufe87\\ufecb\\ufe8e\\ufea9\\ufe93 \\ufebb\\ufeae\\ufed1 \\ufe83\\ufe9f\\ufeee\\ufead\\ufeeb\\ufee2 \\ufe8d\\ufe91\\ufe98\\ufeaa\\ufe8d\\ufe80 \\ufe91\\ufe8e\\ufed7\\ufef2 \\ufe8d\\ufedf\\ufea4\\ufe8e\\ufefb\\ufe95 \\ufed3\\ufeb4\\ufef4\\ufe98\\ufee2 \\ufecb\\ufeae\\ufebf\\ufeec\\ufe8e \\ufe8d\\ufedf\\ufee4\\ufea0\\ufe8e\\ufedf\\ufeb2 \\ufe8d\\ufedf\\ufe98\\ufe84\\ufea9\\ufef3\\ufe92\\ufef4\\ufe94\\u060c \\ufeb3\\ufe98\\ufecc\\ufed8\\ufeaa \\ufed7\\ufeae\\ufef3\\ufe92\\ufe8e\\u060c \\ufefb\\ufe97\\ufea8\\ufe8e\\ufeab \\ufe8d\\ufedf\\ufe98\\ufeaa\\ufe8d\\ufe91\\ufef4\\ufeae \\ufe8d\\ufedf\\ufee4\\ufee8\\ufe8e\\ufeb3\\ufe92\\ufe94 \\ufea3\\ufed8\\ufeec\\ufe8e \\ufeed\\ufecb\\ufee0\\ufed6 \\ufe8d\\ufedf\\ufee4\\ufeb4\\ufe86\\ufeed\\ufedd \\ufe8d\\ufedf\\ufea4\\ufedc\\ufeee\\ufee3\\ufef2 \\ufeab\\ufe8d\\ufe97\\ufeea \\ufed7\\ufe8e\\ufe8b\\ufefc \\ufe8d\\ufef9\\ufe9f\\ufeae\\ufe8d\\ufe80\\ufe8d\\ufe95 \\ufeed\\ufe8d\\ufedf\\ufe98\\ufeaa\\ufe8d\\ufe91\\ufef4\\ufeae \\ufe97\\ufe98\\ufea8\\ufeac\\ufeeb\\ufe8e \\ufee3\\ufebc\\ufe8e\\ufedf\\ufea2 \\ufe8d\\ufedf\\ufeee\\ufeaf\\ufe8d\\ufead\\ufe93 \\ufe97\\ufee8\\ufeaa\\ufead\\ufe9d \\ufebf\\ufee4\\ufee6 \\ufe8d\\ufedf\\ufee4\\ufeb4\\ufe86\\ufeed\\ufedf\\ufef4\\ufe8e\\ufe95 \\ufe8d\\ufedf\\ufee4\\ufee8\\ufeee\\ufec3\\ufe94 \\ufeed\\ufe8d\\ufedf\\ufeae\\ufe8d\\ufee3\\ufef4\\ufe94 \\ufebb\\ufeee\\ufee5 \\ufe8d\\ufedf\\ufeb0\\ufee3\\ufee6 \\ufe8d\\ufedf\\ufe98\\ufeae\\ufe91\\ufeee\\ufef1 \\ufeed\\ufebf\\ufee4\\ufe8e\\ufee5 \\ufe8d\\ufedf\\ufea4\\ufed6 \\ufe8d\\ufedf\\ufe98\\ufee4\\ufeaa\\ufead\\ufeb1 \\ufedf\\ufecc\\ufee4\\ufeee\\ufee1 \\ufe8d\\ufedf\\ufe98\\ufefc\\ufee3\\ufef4\\ufeac \\ufe91\\ufee4\\ufe86\\ufeb3\\ufeb4\\ufe8e\\ufe95 \\ufe8d\\ufedf\\ufe98\\ufeae\\ufe91\\ufef4\\ufe94 \\ufeed\\ufe8d\\ufedf\\ufe98\\ufecc\\ufee0\\ufef4\\ufee2 \\ufe8d\\ufedf\\ufecc\\ufee4\\ufeee\\ufee3\\ufef2 \\ufeed\\ufe8d\\ufedf\\ufe98\\ufebc\\ufeaa\\ufef1 \\ufedf\\ufecc\\ufeaa\\ufea9 \\ufe8d\\ufedf\\ufee4\\ufee4\\ufe8e\\ufead\\ufeb3\\ufe8e\\ufe95 \\ufe97\\ufe86\\ufea9\\ufef1 \\ufea3\\ufeae\\ufee3\\ufe8e\\ufee5 \\ufe8d\\ufedf\\ufe98\\ufefc\\ufee3\\ufef4\\ufeac \\ufea3\\ufed8\\ufeec\\ufee2 \\ufe97\\ufeaa\\ufead\\ufef3\\ufeb2 \\ufed7\\ufe8e\\ufead \\ufeed\\ufee3\\ufeb4\\ufe98\\ufee4\\ufeae\",\n          \"\\ufecb\\ufee0\\ufee4\\ufe96 \\ufe9f\\ufeae\\ufef3\\ufeaa\\ufe93 \\ufeeb\\ufeb4\\ufe92\\ufeae\\ufef3\\ufeb2 \\ufed7\\ufef4\\ufe8e\\ufea9\\ufe8d\\ufe95 \\ufee7\\ufed8\\ufe8e\\ufe91\\ufef4\\ufe94 \\ufe8d\\ufedf\\ufea4\\ufedc\\ufeee\\ufee3\\ufe94 \\ufeb7\\ufeae\\ufecb\\ufe96 \\ufe87\\ufecb\\ufeaa\\ufe8d\\ufea9 \\ufeb3\\ufef4\\ufee8\\ufe8e\\ufead\\ufef3\\ufeee\\ufeeb\\ufe8e\\ufe95 \\ufe97\\ufea4\\ufeb4\\ufef4\\ufee6 \\ufe8d\\ufedf\\ufeaa\\ufea7\\ufede\\u060c \\ufeed\\ufedb\\ufe8e\\ufee5 \\ufee3\\ufeb0\\ufee3\\ufecc\\ufe8e \\ufecb\\ufeae\\ufebf\\ufeec\\ufe8e \\ufe83\\ufee7\\ufec8\\ufe8e\\ufead \\ufe8d\\ufedf\\ufee8\\ufed8\\ufe8e\\ufe91\\ufe8e\\ufe95 \\ufe8d\\ufedf\\ufee4\\ufeae\\ufedb\\ufeb0\\ufef3\\ufe94 \\ufe8d\\ufef7\\ufeb3\\ufe92\\ufeee\\ufec9 \\ufe8d\\ufedf\\ufee4\\ufee8\\ufed8\\ufec0\\ufef2\\u061b \\ufe8d\\ufedf\\ufeb4\\ufee0\\ufec4\\ufe94 \\ufe8d\\ufedf\\ufe98\\ufee8\\ufed4\\ufef4\\ufeac\\ufef3\\ufe94 \\ufe83\\ufead\\ufe9f\\ufe84\\ufe95 \\ufe8d\\ufedf\\ufee0\\ufed8\\ufe8e\\ufe80 \\ufe8d\\ufef7\\ufef3\\ufe8e\\ufee1 \\ufe8d\\ufedf\\ufee4\\ufed8\\ufe92\\ufee0\\ufe94 \\ufe91\\ufea4\\ufedc\\ufee2 \\ufe8d\\ufedf\\ufe98\\ufebc\\ufeee\\ufead \\ufef3\\ufee4\\ufedc\\ufee6 \\ufe97\\ufee8\\ufec4\\ufee0\\ufed6 \\ufe8d\\ufedf\\ufee4\\ufed4\\ufe8e\\ufeed\\ufebf\\ufe8e\\ufe95 \\ufe9f\\ufe8e\\ufeeb\\ufeb0\\ufe8d \\ufee7\\ufeec\\ufe8e\\ufe8b\\ufef2 \\ufedf\\ufeec\\ufeac\\ufe8d \\ufe8d\\ufedf\\ufed0\\ufeae\\ufebd \\ufeed\\ufe83\\ufedb\\ufeaa\\ufe95 \\ufee3\\ufebc\\ufe8e\\ufea9\\ufead \\ufe8d\\ufedf\\ufea0\\ufeae\\ufef3\\ufeaa\\ufe93 \\ufe8d\\ufef7\\ufeed\\ufedf\\ufeee\\ufef3\\ufe94 \\ufe8d\\ufedf\\ufee4\\ufed8\\ufeae\\ufead \\ufef3\\ufe92\\ufeaa\\ufe83 \\ufe91\\ufeb8\\ufe84\\ufee7\\ufeec\\ufe8e \\ufe8d\\ufedf\\ufea4\\ufeee\\ufe8d\\ufead \\ufe8d\\ufefb\\ufe9f\\ufe98\\ufee4\\ufe8e\\ufecb\\ufef2 \\ufe8d\\ufedf\\ufee4\\ufeae\\ufedb\\ufeb0\\ufef1 \\ufedf\\ufeec\\ufeac\\ufee9 \\ufe8d\\ufedf\\ufeb4\\ufee8\\ufe94 \\ufe8d\\ufedf\\ufee4\\ufee0\\ufed4\\ufe8e\\ufe95 \\ufe8d\\ufef7\\ufe9b\\ufeae \\ufe8d\\ufedf\\ufee4\\ufe8e\\ufedf\\ufef2\\u060c \\ufea7\\ufebc\\ufeee\\ufebb\\ufe8e \\ufe8d\\ufedf\\ufeb0\\ufef3\\ufe8e\\ufea9\\ufe93 \\ufe8d\\ufedf\\ufecc\\ufe8e\\ufee3\\ufe94 \\ufe8d\\ufef7\\ufe9f\\ufeee\\ufead\\u060c \\ufee3\\ufeb4\\ufea0\\ufee0\\ufe94 \\ufea9\\ufea7\\ufeee\\ufedd \\ufe8d\\ufedf\\ufea4\\ufedc\\ufeee\\ufee3\\ufe94 \\ufee3\\ufeae\\ufea3\\ufee0\\ufe94 \\ufe8d\\ufeb3\\ufe98\\ufeaa\\ufee3\\ufe8e\\ufe9d \\ufe97\\ufed8\\ufeaa\\ufee3\\ufe96 \\ufe8d\\ufedf\\ufee8\\ufed8\\ufe8e\\ufe91\\ufe8e\\ufe95 \\ufe8d\\ufef7\\ufedb\\ufe9c\\ufeae \\ufe97\\ufee4\\ufe9c\\ufef4\\ufee0\\ufef4\\ufe94 \\ufee3\\ufec4\\ufe8e\\ufedf\\ufe90 \\ufed7\\ufebc\\ufeaa \\ufee3\\ufefc\\ufe80\\ufee3\\ufe98\\ufeec\\ufe8e \\ufe97\\ufed8\\ufe98\\ufeae\\ufea3\\ufeea \\ufeb3\\ufee0\\ufec4\\ufe8e\\ufe95 \\ufe8d\\ufedf\\ufee4\\ufe8e\\ufedf\\ufef4\\ufe94 \\ufeed\\ufed3\\ufe98\\ufea2 \\ufe8d\\ufedf\\ufee4\\ufed4\\ufe8e\\ufeed\\ufebf\\ufe8e\\ufe95 \\ufe91\\ufeb8\\ufe84\\ufee7\\ufeea \\ufedf\\ufee4\\ufecc\\ufeae\\ufed3\\ufe94 \\ufea3\\ufeaa\\ufeed\\ufea9 \\ufef3\\ufee4\\ufedc\\ufee6 \\ufe97\\ufea4\\ufed8\\ufef4\\ufed8\\ufeea \\ufe8d\\ufedf\\ufee4\\ufee0\\ufed4\\ufe8e\\ufe95 \\ufe8d\\ufedf\\ufea4\\ufef4\\ufeee\\ufef3\\ufe94 \\ufeed\\ufef3\\ufe84\\ufe97\\ufef2 \\ufe91\\ufecc\\ufeaa\\ufee3\\ufe8e \\ufeb3\\ufea0\\ufede \\ufee3\\ufebc\\ufec4\\ufed4\\ufef0 \\ufe91\\ufe8e\\ufef3\\ufe98\\ufe8e\\ufeb1\\u060c \\ufe8d\\ufedf\\ufeee\\ufeaf\\ufef3\\ufeae \\ufe8d\\ufedf\\ufee4\\ufee8\\ufe98\\ufeaa\\ufe8f \\ufead\\ufe8b\\ufef4\\ufeb2 \\ufe8d\\ufedf\\ufea4\\ufedc\\ufeee\\ufee3\\ufe94 \\ufe8d\\ufedf\\ufee4\\ufedc\\ufee0\\ufed2 \\ufe91\\ufe8e\\ufedf\\ufecc\\ufefc\\ufed7\\ufe8e\\ufe95 \\ufe8d\\ufedf\\ufe92\\ufeae\\ufedf\\ufee4\\ufe8e\\ufee5 \\ufe8d\\ufedf\\ufee8\\ufe8e\\ufec3\\ufed6 \\ufe8d\\ufedf\\ufeae\\ufeb3\\ufee4\\ufef2 \\ufe91\\ufe8e\\ufeb3\\ufee2 \\ufe8d\\ufedf\\ufea4\\ufedc\\ufeee\\ufee3\\ufe94\\u060c \\ufea7\\ufefc\\ufedd \\ufe8d\\ufedf\\ufee8\\ufeaa\\ufeed\\ufe93 \\ufe8d\\ufedf\\ufebc\\ufea4\\ufe8e\\ufed3\\ufef4\\ufe94 \\ufe8d\\ufef7\\ufeb3\\ufe92\\ufeee\\ufecb\\ufef4\\ufe94 \\ufe8d\\ufef7\\ufea7\\ufef4\\ufeae\\ufe93 \\ufecb\\ufed8\\ufe90 \\ufe8d\\ufee7\\ufecc\\ufed8\\ufe8e\\ufea9 \\ufe8d\\ufedf\\ufee4\\ufea0\\ufee0\\ufeb2 \\ufe8d\\ufedf\\ufea4\\ufedc\\ufeee\\ufee3\\ufef2\\u060c \\ufe8d\\ufedf\\ufee0\\ufea0\\ufe8e\\ufee5 \\ufedb\\ufee0\\ufed4\\ufeec\\ufe8e \\ufead\\ufe8b\\ufef4\\ufeb2 \\ufe8d\\ufedf\\ufea4\\ufedc\\ufeee\\ufee3\\ufe94 \\ufe91\\ufe8e\\ufefb\\ufeb7\\ufe98\\ufed0\\ufe8e\\ufedd \\ufe8d\\ufedf\\ufee8\\ufed8\\ufe8e\\ufe91\\ufe8e\\ufe95 \\ufea3\\ufeee\\ufedd \\ufe8d\\ufedf\\ufe98\\ufebc\\ufeee\\ufead \\ufe8d\\ufedf\\ufee4\\ufe98\\ufecc\\ufee0\\ufed6 \\ufe91\\ufe8e\\ufedf\\ufea4\\ufeee\\ufe8d\\ufead \\ufe8d\\ufefb\\ufe9f\\ufe98\\ufee4\\ufe8e\\ufecb\\ufef2 \\ufedf\\ufeec\\ufeac\\ufe8d \\ufe8d\\ufedf\\ufeb4\\ufee8\\ufe94 \\ufe97\\ufeb8\\ufe98\\ufed0\\ufede \\ufe8d\\ufedf\\ufeee\\ufebb\\ufeee\\ufedd \\ufe8d\\ufe97\\ufed4\\ufe8e\\ufed5 \\ufeb3\\ufef4\\ufe98\\ufee2 \\ufe8d\\ufef9\\ufecb\\ufefc\\ufee5 \\ufecb\\ufee8\\ufeea \\ufed7\\ufeae\\ufef3\\ufe92\\ufe8e \\ufe8d\\ufefb\\ufee7\\ufecc\\ufedc\\ufe8e\\ufeb1 \\ufe8d\\ufedf\\ufee4\\ufe8e\\ufedf\\ufef2 \\ufe83\\ufeed\\ufefb \\ufea7\\ufe8e\\ufedf\\ufeaa \\ufe8d\\ufedf\\ufecc\\ufee0\\ufee4\\ufef2 \\ufedf\\ufeec\\ufeee\\ufef3\\ufeae\\u060c \\ufee7\\ufe8e\\ufe8b\\ufe90 \\ufe8d\\ufedf\\ufedc\\ufe8e\\ufe97\\ufe90 \\ufe8d\\ufedf\\ufecc\\ufe8e\\ufee1 \\ufedf\\ufee0\\ufedc\\ufeee\\ufee7\\ufed4\\ufeaa\\ufead\\ufe8d\\ufedf\\ufef4\\ufe94 \\ufe8d\\ufedf\\ufeaa\\ufef3\\ufee4\\ufed8\\ufeae\\ufe8d\\ufec3\\ufef4\\ufe94 \\ufedf\\ufee0\\ufeb8\\ufed0\\ufede\\u060c \\ufed7\\ufe8e\\ufedd \\ufe8d\\ufefb\\ufe97\\ufed4\\ufe8e\\ufed5 \\ufe8d\\ufedf\\ufea4\\ufedc\\ufeee\\ufee3\\ufe94 \\ufea7\\ufefc\\ufedd \\ufe8d\\ufedf\\ufee0\\ufed8\\ufe8e\\ufe80 \\ufe8d\\ufef7\\ufeed\\ufedd \\ufebf\\ufee4\\ufee6 \\ufe8d\\ufedf\\ufea4\\ufeee\\ufe8d\\ufead \\ufe8d\\ufefb\\ufe9f\\ufe98\\ufee4\\ufe8e\\ufecb\\ufef2 \\ufedf\\ufeec\\ufeac\\ufee9 \\ufe8d\\ufedf\\ufeb4\\ufee8\\ufe94 \\ufe83\\ufed3\\ufec0\\ufef0 \\ufe83\\ufee7\\ufeea \\ufeb3\\ufe98\\ufedc\\ufeee\\ufee5 \\ufe9f\\ufee0\\ufeb4\\ufe94 \\ufe8d\\ufef7\\ufeb3\\ufe92\\ufeee\\ufec9 \\ufedf\\ufee4\\ufee8\\ufe8e\\ufed7\\ufeb8\\ufe94 \\ufedb\\ufede \\ufe8d\\ufee7\\ufecc\\ufedc\\ufe8e\\ufeb1 \\ufee3\\ufe8e\\ufedf\\ufef2\\u060c \\ufefb\\ufed3\\ufe98\\ufe8e \\ufe8d\\ufedf\\ufed0\\ufe8e\\ufef3\\ufe94 \\ufeed\\ufebf\\ufeca \\ufe8d\\ufef7\\ufead\\ufebf\\ufef4\\ufe94 \\ufe8d\\ufefb\\ufe97\\ufed4\\ufe8e\\ufed5 \\ufea3\\ufeee\\ufedd \\ufee3\\ufee8\\ufeec\\ufea0\\ufef4\\ufe94 \\ufedf\\ufee0\\ufea4\\ufeee\\ufe8d\\ufead \\ufe8d\\ufefb\\ufe9f\\ufe98\\ufee4\\ufe8e\\ufecb\\ufef2\\u060c \\ufef7\\ufee5 \\ufe8d\\ufef7\\ufeed\\ufedf\\ufeee\\ufef3\\ufe94 \\ufedf\\ufee0\\ufea0\\ufe8e\\ufee7\\ufe90 \\ufe8d\\ufedf\\ufee4\\ufe8e\\ufedf\\ufef2\\u060c \\ufeed\\ufeeb\\ufee8\\ufe8e\\ufed9 \\ufebf\\ufeae\\ufeed\\ufead\\ufe93 \\ufedf\\ufe98\\ufeaa\\ufed7\\ufef4\\ufed6 \\ufecb\\ufee8\\ufe8e\\ufebb\\ufeae\\ufee9 \\ufeed\\ufe83\\ufebf\\ufe8e\\ufed1 \\ufedf\\ufeec\\ufeee\\ufef3\\ufeae \\ufe97\\ufebc\\ufeae\\ufef3\\ufea2 \\ufedf\\ufeec\\ufeb4\\ufe92\\ufeae\\ufef3\\ufeb2 \\ufe8d\\ufedf\\ufea0\\ufee0\\ufeb4\\ufe94 \\ufe8d\\ufef7\\ufeed\\ufedf\\ufef0 \\ufee7\\ufeee\\ufea9 \\ufee7\\ufecc\\ufeae\\ufed1 \\ufe97\\ufed8\\ufe98\\ufeae\\ufea1 \\ufe8d\\ufedf\\ufea4\\ufedc\\ufeee\\ufee3\\ufe94 \\ufe8d\\ufedf\\ufeb4\\ufef4\\ufe8e\\ufed5\\u060c \\ufeed\\ufeaf\\ufe8d\\ufea9 \\ufe8d\\ufedf\\ufeb0\\ufef3\\ufe8e\\ufea9\\ufe93 \\ufe8d\\ufedf\\ufecc\\ufe8e\\ufee3\\ufe94 \\ufe8d\\ufef7\\ufe9f\\ufeee\\ufead \\ufe8d\\ufedf\\ufed8\\ufec4\\ufe8e\\ufec9 \\ufe8d\\ufedf\\ufecc\\ufe8e\\ufee1 \\ufe8d\\ufed7\\ufe98\\ufeae\\ufea3\\ufee8\\ufe8e \\ufe97\\ufedc\\ufeee\\ufee5 \\ufe83\\ufed3\\ufec0\\ufede \\ufe97\\ufea4\\ufed8\\ufed6 \\ufed7\\ufec4\\ufe8e\\ufec9 \\ufe8d\\ufedf\\ufe98\\ufeae\\ufe91\\ufef4\\ufe94 \\ufe8d\\ufedf\\ufeee\\ufec3\\ufee8\\ufef4\\ufe94 \\ufeed\\ufe8d\\ufedf\\ufe98\\ufecc\\ufee0\\ufef4\\ufee2\\u060c \\ufef7\\ufee5 \\ufe8d\\ufedf\\ufea4\\ufeaa \\ufe8d\\ufef7\\ufea9\\ufee7\\ufef0\\u060c \\ufe91\\ufef4\\ufee8\\ufee4\\ufe8e \\ufeb3\\ufed8\\ufed2 \\ufe8d\\ufedf\\ufeb0\\ufef3\\ufe8e\\ufea9\\ufe93 \\ufe8d\\ufedf\\ufea4\\ufeee\\ufe8d\\ufead \\ufe8d\\ufedf\\ufee4\\ufeae\\ufedb\\ufeb0\\ufef1 \\ufe83\\ufedb\\ufe92\\ufeae\\u060c \\ufeed\\ufef3\\ufee4\\ufedc\\ufee6 \\ufee7\\ufed8\\ufe98\\ufeae\\ufea1 \\ufee3\\ufe9c\\ufefc \\ufedb\\ufeb0\\ufef3\\ufe8e\\ufea9\\ufe93 \\ufe8d\\ufedf\\ufed8\\ufec4\\ufe8e\\ufecb\\ufe8e\\ufe95 \\ufeed\\ufeb3\\ufea0\\ufede \\ufe8d\\ufedf\\ufed8\\ufef4\\ufe8e\\ufea9\\ufef1 \\ufe8d\\ufedf\\ufee8\\ufed8\\ufe8e\\ufe91\\ufef2 \\ufe8d\\ufedf\\ufe98\\ufee4\\ufeb4\\ufeda \\ufe91\\u0640\\ufee4\\ufecc\\ufe8e\\ufedf\\ufea0\\ufe94 \\ufe8d\\ufedf\\ufed4\\ufeae\\ufed5 \\ufe8d\\ufedf\\ufea4\\ufeaa \\ufe8d\\ufef7\\ufea9\\ufee7\\ufef0 \\ufedf\\ufef8\\ufe9f\\ufeee\\ufead \\ufe8d\\ufedf\\ufed8\\ufec4\\ufe8e\\ufec9 \\ufe8d\\ufedf\\ufecc\\ufe8e\\ufee1 \\ufeed\\ufe91\\ufef4\\ufee6 \\ufee3\\ufecc\\ufee4\\ufeee\\ufedd \\ufe8d\\ufedf\\ufed8\\ufec4\\ufe8e\\ufec9 \\ufe8d\\ufedf\\ufebc\\ufee8\\ufe8e\\ufecb\\ufef2 \\ufeed\\ufe8d\\ufedf\\ufed4\\ufefc\\ufea3\\ufef2\\u060c \\ufeed\\ufe97\\ufeee\\ufea3\\ufef4\\ufeaa\\ufee9 \\ufedf\\ufe98\\ufeb4\\ufe98\\ufec4\\ufef4\\ufeca \\ufe8d\\ufedf\\ufed4\\ufe8c\\ufe8e\\ufe95 \\ufe8d\\ufedf\\ufecc\\ufe8e\\ufee3\\ufee0\\ufe94 \\ufe97\\ufe84\\ufea9\\ufef3\\ufe94 \\ufee3\\ufe98\\ufec4\\ufee0\\ufe92\\ufe8e\\ufe95 \\ufe8d\\ufedf\\ufea4\\ufef4\\ufe8e\\ufe93\\u060c \\ufee3\\ufecc\\ufeae\\ufe9f\\ufe8e \\ufee3\\ufeee\\ufebf\\ufeee\\ufec9 \\ufe8d\\ufedf\\ufec0\\ufeae\\ufef3\\ufe92\\ufe94 \\ufe8d\\ufedf\\ufeaa\\ufea7\\ufede \\ufecb\\ufeaa\\ufeeb\\ufe8e \\ufee3\\ufeae\\ufe97\\ufe92\\ufec4\\ufe94 \\ufe91\\ufed8\\ufe8e\\ufee7\\ufeee\\ufee5 \\ufe8d\\ufedf\\ufee4\\ufe8e\\ufedf\\ufef4\\ufe94\\u060c \\ufeed\\ufe8d\\ufeb3\\ufe98\\ufeaa\\ufead\\ufed9 \\ufe8d\\ufef7\\ufed7\\ufede \\ufee7\\ufe98\\ufed4\\ufed6 \\ufea3\\ufeee\\ufedd \\ufe8d\\ufedf\\ufeb4\\ufed8\\ufed2 \\ufe8d\\ufedf\\ufee4\\ufecc\\ufed4\\ufef0\\u061b \\ufed3\\ufee8\\ufea4\\ufee6 \\ufe8d\\ufed7\\ufe98\\ufeae\\ufea3\\ufee8\\ufe8e \\ufe87\\ufecb\\ufed4\\ufe8e\\ufe80 \\ufef3\\ufe98\\ufeee\\ufed7\\ufed2 \\ufea9\\ufea7\\ufee0\\ufeea \\ufe8d\\ufedf\\ufec0\\ufeae\\ufef3\\ufe92\\ufe94\\u060c \\ufeed\\ufe83\\ufee5 \\ufee7\\ufed0\\ufef4\\ufeae \\ufe8d\\ufef7\\ufeb7\\ufec4\\ufeae \\ufedf\\ufee8\\ufec0\\ufee4\\ufee6 \\ufee7\\ufeee\\ufecb\\ufe8e \\ufe8d\\ufedf\\ufecc\\ufeaa\\ufe8d\\ufedf\\ufe94 \\ufe8d\\ufedf\\ufea0\\ufe92\\ufe8e\\ufe8b\\ufef4\\ufe94 \\ufee3\\ufee0\\ufed4\\ufe8e\\ufe95 \\ufe9b\\ufed8\\ufef4\\ufee0\\ufe94 \\ufeb3\\ufecc\\ufef4\\ufeaa \\ufea7\\ufef4\\ufeae \\ufdf2\\u060c \\ufecb\\ufec0\\ufeee \\ufe8d\\ufef7\\ufee3\\ufe8e\\ufee7\\ufe94 \\ufe8d\\ufedf\\ufeee\\ufec3\\ufee8\\ufef4\\ufe94 \\ufedf\\ufefc\\ufe97\\ufea4\\ufe8e\\ufea9 \\ufe8d\\ufedf\\ufee4\\ufed0\\ufeae\\ufe91\\ufef2 \\ufedf\\ufee0\\ufeb8\\ufed0\\ufede\\u060c \\ufed7\\ufe8e\\ufedd \\ufee3\\ufed8\\ufeae\\ufead\\ufe8d \\ufe8d\\ufef7\\ufeb3\\ufe92\\ufeee\\ufec9 \\ufe8d\\ufedf\\ufee4\\ufee8\\ufed8\\ufec0\\ufef2 \\ufecb\\ufed8\\ufeaa \\ufe9f\\ufee0\\ufeb4\\ufe94 \\ufedf\\ufea0\\ufee8\\ufe94 \\ufecb\\ufef4\\ufee8\\ufeec\\ufe8e \\ufead\\ufe8b\\ufef4\\ufeb2 \\ufe8d\\ufedf\\ufea4\\ufedc\\ufeee\\ufee3\\ufe94\\u060c \\ufef3\\ufea4\\ufec0\\ufeae \\ufeed\\ufeaf\\ufef3\\ufeae \\ufe8d\\ufef9\\ufea9\\ufee3\\ufe8e\\ufe9d \\ufe8d\\ufefb\\ufed7\\ufe98\\ufebc\\ufe8e\\ufea9\\ufef1 \\ufeed\\ufe8d\\ufedf\\ufee4\\ufed8\\ufe8e\\ufeed\\ufedf\\ufe94 \\ufe8d\\ufedf\\ufebc\\ufed0\\ufeae\\ufeef \\ufeed\\ufe8d\\ufedf\\ufeb8\\ufed0\\ufede \\ufeed\\ufe8d\\ufedf\\ufedc\\ufed4\\ufe8e\\ufe80\\ufe8d\\ufe95\\u060c \\ufeed\\ufe8d\\ufedf\\ufeee\\ufeaf\\ufef3\\ufeae \\ufe8d\\ufedf\\ufee4\\ufee8\\ufe98\\ufeaa\\ufe8f \\ufe8d\\ufedf\\ufee4\\ufedc\\ufee0\\ufed2 \\ufe91\\ufe8e\\ufedf\\ufee4\\ufef4\\ufeb0\\ufe8d\\ufee7\\ufef4\\ufe94 \\ufe8d\\ufedf\\ufea0\\ufeec\\ufe94 \\ufe8d\\ufedf\\ufea4\\ufedc\\ufeee\\ufee3\\ufef4\\ufe94\\u060c \\ufef3\\ufe98\\ufee2 \\ufe97\\ufed8\\ufeaa\\ufef3\\ufee2 \\ufea9\\ufecb\\ufeee\\ufe93 \\ufead\\ufeb3\\ufee4\\ufef4\\ufe94 \\ufedf\\ufeec\\ufeac\\ufe8d \\ufe8d\\ufedf\\ufed0\\ufeae\\ufebd\\u060c \\ufee3\\ufe86\\ufedb\\ufeaa\\ufe8d \\ufe87\\ufead\\ufe9f\\ufe8e\\ufe80\\ufeeb\\ufe8e \\ufeed\\ufed7\\ufe96 \\ufefb\\ufea3\\ufed6 \\ufe97\\ufea4\\ufeaa\\ufea9\\ufee9 \\ufe8d\\ufedf\\ufeb4\\ufee0\\ufec4\\ufe94 \\ufe8d\\ufedf\\ufe98\\ufee8\\ufed4\\ufef4\\ufeac\\ufef3\\ufe94 \\ufeed\\ufedf\\ufed4\\ufe96 \\ufea7\\ufef4\\ufeae \\ufdf2\\u060c \\ufe97\\ufebc\\ufeae\\ufef3\\ufea2 \\ufedf\\ufeec\\ufeb4\\ufe92\\ufeae\\ufef3\\ufeb2\\u060c \\ufe8d\\ufefb\\ufe97\\ufed4\\ufe8e\\ufed5 \\ufe8d\\ufedf\\ufea4\\ufedc\\ufeee\\ufee3\\ufe94 \\ufe83\\ufeed\\ufefb \\ufea3\\ufeee\\ufedd \\ufee3\\ufeb8\\ufeae\\ufeed\\ufec9 \\ufe97\\ufea4\\ufeb4\\ufef4\\ufee6 \\ufe8d\\ufedf\\ufeaa\\ufea7\\ufede \\ufef3\\ufeb4\\ufe8e\\ufef3\\ufeae \\ufe8d\\ufedf\\ufe98\\ufea4\\ufeee\\ufefb\\ufe95 \\ufef3\\ufecc\\ufeae\\ufed3\\ufeec\\ufe8e \\ufe8d\\ufedf\\ufee4\\ufea0\\ufe98\\ufee4\\ufeca \\ufe8d\\ufedf\\ufee4\\ufed0\\ufeae\\ufe91\\ufef2 \\ufe8d\\ufed7\\ufe98\\ufebc\\ufe8e\\ufea9\\ufef3\\ufe8e \\ufeed\\ufe8d\\ufe9f\\ufe98\\ufee4\\ufe8e\\ufecb\\ufef4\\ufe8e\\u060c \\ufeed\\ufe83\\ufee5 \\ufe97\\ufeae\\ufe8d\\ufecb\\ufef2 \\ufe8d\\ufedf\\ufeb0\\ufef3\\ufe8e\\ufea9\\ufe93 \\ufee7\\ufeb4\\ufe92\\ufe94 \\ufe8d\\ufedf\\ufe98\\ufec0\\ufea8\\ufee2 \\ufeed\\ufecf\\ufefc\\ufe80 \\ufe8d\\ufef7\\ufeb3\\ufecc\\ufe8e\\ufead\\u060c \\ufee3\\ufe92\\ufeae\\ufeaf\\ufe8d \\ufee3\\ufec4\\ufee0\\ufe90 \\ufe8d\\ufefb\\ufe97\\ufea4\\ufe8e\\ufea9 \\ufeaf\\ufef3\\ufe8e\\ufea9\\ufe93 \\ufedb\\ufeb0\\ufef3\\ufe8e\\ufea9\\ufe93 \\ufe8d\\ufef7\\ufe9f\\ufeee\\ufead \\ufe8d\\ufedf\\ufed8\\ufec4\\ufe8e\\ufec9 \\ufe8d\\ufedf\\ufecc\\ufe8e\\ufee1 \\ufeed\\ufead\\ufed3\\ufeca \\ufe8d\\ufedf\\ufea4\\ufeaa \\ufe8d\\ufef7\\ufea9\\ufee7\\ufef0 \\ufedf\\ufef8\\ufe9f\\ufeae \\ufea9\\ufead\\ufeeb\\ufee2\\u060c \\ufef7\\ufee5 \\ufe8d\\ufedf\\ufea4\\ufedc\\ufeee\\ufee3\\ufe94 \\ufeed\\ufe9f\\ufeaa\\ufe95 \\ufe83\\ufee7\\ufeea \\ufe8d\\ufedf\\ufebc\\ufecc\\ufe90 \\ufed3\\ufeae\\ufebd \\ufe83\\ufe9f\\ufeae \\ufee3\\ufecc\\ufef4\\ufee6 \\ufe8d\\ufedf\\ufed8\\ufec4\\ufe8e\\ufec9 \\ufe8d\\ufedf\\ufea8\\ufe8e\\ufeb9 \\ufebb\\ufefc\\ufea3\\ufef4\\ufe98\\ufeec\\ufe8e \\ufe97\\ufea4\\ufeaa\\ufef3\\ufeaa \\ufe8d\\ufedf\\ufea4\\ufeaa \\ufe8d\\ufef7\\ufea9\\ufee7\\ufef0 \\ufeed\\ufe83\\ufeb7\\ufe8e\\ufead \\ufe8d\\ufedf\\ufed8\\ufef4\\ufe8e\\ufea9\\ufef1 \\ufe8d\\ufedf\\ufee8\\ufed8\\ufe8e\\ufe91\\ufef2 \\ufeab\\ufe8d\\ufe97\\ufeea \\ufedb\\ufeee\\ufee5 \\ufe8d\\ufedf\\ufe98\\ufeae\\ufedb\\ufef4\\ufeb0 \\ufee3\\ufee0\\ufed2 \\ufe97\\ufea4\\ufeb4\\ufef4\\ufee6 \\ufe8d\\ufedf\\ufeaa\\ufea7\\ufede \\ufe8d\\ufedf\\ufea0\\ufeee\\ufedf\\ufe94 \\ufe8d\\ufef7\\ufeed\\ufedf\\ufef0 \\ufef3\\ufecc\\ufeee\\ufea9 \\ufe9b\\ufed8\\ufede \\ufe8d\\ufedf\\ufee4\\ufee0\\ufed4\\ufe8e\\ufe95 \\ufe8d\\ufef7\\ufea7\\ufeae\\ufeef \\ufe97\\ufea4\\ufe98\\ufe8e\\ufe9d \\ufe8d\\ufef7\\ufea7\\ufeac \\ufeed\\ufe8d\\ufedf\\ufeae\\ufea9\\u060c \\ufecf\\ufeae\\ufe8d\\ufead \\ufee3\\ufeb8\\ufeae\\ufeed\\ufec9 \\ufed7\\ufe8e\\ufee7\\ufeee\\ufee5 \\ufe8d\\ufef9\\ufebf\\ufeae\\ufe8d\\ufe8f \\ufeed\\ufe87\\ufebb\\ufefc\\ufea1 \\ufe83\\ufee7\\ufec8\\ufee4\\ufe94 \\ufe8d\\ufedf\\ufe98\\ufed8\\ufe8e\\ufecb\\ufeaa\\u060c \\ufee3\\ufe86\\ufedb\\ufeaa\\ufe8d \\ufe87\\ufea7\\ufec0\\ufe8e\\ufec9 \\ufee3\\ufee0\\ufed2 \\ufea3\\ufef4\\ufeee\\ufef1 \\ufe8d\\ufedf\\ufed8\\ufe92\\ufef4\\ufede \\ufedf\\ufee0\\ufe98\\ufed4\\ufe8e\\ufeed\\ufebd\\u060c \\ufedf\\ufec0\\ufee4\\ufe8e\\ufee5 \\ufebb\\ufef4\\ufe8e\\ufecf\\ufe98\\ufeea \\ufe91\\ufeb8\\ufedc\\ufede \\ufe97\\ufeb8\\ufe8e\\ufead\\ufedb\\ufef2 \\ufeed\\ufee3\\ufeb4\\ufe86\\ufeed\\ufedd\\u060c \\ufeed\\ufea7\\ufe98\\ufee2 \\ufe91\\ufe8e\\ufedf\\ufed8\\ufeee\\ufedd \\ufee3\\ufe8e\\ufeaf\\ufedf\\ufee8\\ufe8e \\ufee7\\ufee8\\ufe98\\ufec8\\ufeae \\ufe97\\ufebc\\ufeee\\ufead \\ufe8d\\ufedf\\ufea4\\ufedc\\ufeee\\ufee3\\ufe94 \\ufee7\\ufeb4\\ufe98\\ufec4\\ufef4\\ufeca \\ufee7\\ufee8\\ufec4\\ufee0\\ufed6 \\ufecb\\ufee4\\ufee0\\ufef4\\ufe8e\",\n          \"\\ufebf\\ufee4\\ufee6 \\ufe8d\\ufedf\\ufe98\\ufed8\\ufeae\\ufef3\\ufeae \\ufe97\\ufeb4\\ufee0\\ufee4\\ufeea \\ufecb\\ufeb0\\ufef3\\ufeb0 \\ufe83\\ufea7\\ufee8\\ufeee\\ufeb5\\u060c \\ufead\\ufe8b\\ufef4\\ufeb2 \\ufe8d\\ufedf\\ufea4\\ufedc\\ufeee\\ufee3\\ufe94\\u060c \\ufee7\\ufeec\\ufe8e\\ufef3\\ufe94 \\ufeb7\\ufeec\\ufeae \\ufe8d\\ufedf\\ufee4\\ufe8e\\ufebf\\ufef2\\u060c \\ufe8d\\ufedf\\ufeec\\ufef4\\ufe8c\\ufe94 \\ufe8d\\ufedf\\ufee4\\ufedc\\ufee0\\ufed4\\ufe94 \\ufe91\\ufee4\\ufeae\\ufe8d\\ufe9f\\ufecc\\ufe94 \\ufee3\\ufeaa\\ufeed\\ufee7\\ufe94 \\ufe8d\\ufef7\\ufeb3\\ufeae\\ufe93\\u060c \\ufe8d\\ufedf\\ufee4\\ufed8\\ufeae\\ufead \\ufead\\ufed3\\ufecc\\ufeea \\ufe8d\\ufedf\\ufee4\\ufee0\\ufeda \\ufee3\\ufea4\\ufee4\\ufeaa \\ufe8d\\ufedf\\ufeb4\\ufe8e\\ufea9\\ufeb1\\u060c \\ufefb\\ufed3\\ufe98\\ufe8e \\ufeed\\ufe9f\\ufeee\\ufea9 \\ufee3\\ufed8\\ufe98\\ufeae\\ufea1 \\ufe97\\ufec4\\ufeae\\ufed5 \\ufe97\\ufed8\\ufeb4\\ufef4\\ufee2 \\ufe8d\\ufedf\\ufe98\\ufeae\\ufedb\\ufe94 \\ufea7\\ufefc\\ufedd \\ufe97\\ufea8\\ufeee\\ufef3\\ufede \\ufebb\\ufe8e\\ufea3\\ufe90 \\ufe8d\\ufedf\\ufee4\\ufe8e\\ufedd \\ufeed\\ufe8d\\ufef7\\ufebb\\ufeee\\ufedd \\ufeb3\\ufee0\\ufec4\\ufe94 \\ufe8d\\ufea7\\ufe98\\ufef4\\ufe8e\\ufead \\ufe8d\\ufedf\\ufee8\\ufec8\\ufe8e\\ufee1 \\ufe8d\\ufedf\\ufee4\\ufec4\\ufe92\\ufed6\\u060c \\ufe8d\\ufedf\\ufee4\\ufef4\\ufeae\\ufe8d\\ufe99 \\ufe8d\\ufedf\\ufeee\\ufebb\\ufef4\\ufe94\\u060c \\ufe97\\ufeee\\ufeb3\\ufef4\\ufeca \\ufee7\\ufec4\\ufe8e\\ufed5 \\ufe8d\\ufef7\\ufea7\\ufef4\\ufeae\\ufe93 \\ufedf\\ufe98\\ufeb8\\ufee4\\ufede \\ufe8d\\ufef7\\ufea3\\ufed4\\ufe8e\\ufea9 \\ufeed\\ufead\\ufed3\\ufeca \\ufe8d\\ufedf\\ufed8\\ufef4\\ufeee\\ufea9 \\ufe8d\\ufedf\\ufee4\\ufed4\\ufeae\\ufeed\\ufebf\\ufe94 \\ufecb\\ufee0\\ufef4\\ufeec\\ufe8e \\ufeed\\ufecb\\ufee0\\ufef0 \\ufe8d\\ufedf\\ufeae\\ufecf\\ufee2 \\ufe8d\\ufedf\\ufee4\\ufed8\\ufe98\\ufeae\\ufea1\\u060c \\ufecb\\ufeaa\\ufee9 \\ufedb\\ufe9c\\ufef4\\ufeae\\ufeed\\ufee5 \\ufe97\\ufeb4\\ufeae\\ufef3\\ufe92\\ufe8e\\u060c \\ufecb\\ufee4\\ufeee\\ufee3\\ufe8e \\ufeed\\ufe9b\\ufef4\\ufed8\\ufe94 \\ufead\\ufe8d\\ufe8b\\ufea0\\ufe94 \\ufef3\\ufe98\\ufebc\\ufede \\ufe91\\ufe98\\ufeee\\ufebb\\ufef4\\ufe8e\\ufe95 \\ufead\\ufeb3\\ufee4\\ufef4\\ufe94 \\ufee3\\ufeae\\ufed3\\ufeee\\ufecb\\ufe94 \\ufe8d\\ufedf\\ufee4\\ufee0\\ufeda \\ufee3\\ufea4\\ufee4\\ufeaa \\ufe8d\\ufedf\\ufeb4\\ufe8e\\ufea9\\ufeb1\\u061b \\ufe9f\\ufeec\\ufe8e\\ufe95 \\ufedb\\ufe9c\\ufef4\\ufeae\\ufe93 \\ufe8d\\ufedf\\ufe98\\ufed8\\ufec4\\ufe98\\ufeea\\u060c \\ufea7\\ufebc\\ufeee\\ufebb\\ufe8e \\ufe8d\\ufef7\\ufed7\\ufee0\\ufef4\\ufe8e\\ufe95 \\ufe8d\\ufedf\\ufeaa\\ufef3\\ufee8\\ufef4\\ufe94 \\ufe91\\ufe8e\\ufedf\\ufee4\\ufed0\\ufeae\\ufe8f\\u060c \\ufeed\\ufee7\\ufec8\\ufeae\\ufe95 \\ufe87\\ufedf\\ufef4\\ufeea \\ufe91\\u0640\\ufe98\\ufed8\\ufeaa\\ufef3\\ufeae \\ufedb\\u0640\\ufea4\\ufede \\ufe91\\ufeae\\ufe8d\\ufecf\\ufee4\\ufe8e\\ufe97\\ufef2 \\ufef3\\ufeb4\\ufe8e\\ufecb\\ufeaa \\ufe97\\ufed8\\ufeb4\\ufef4\\ufee2 \\ufe8d\\ufedf\\ufe98\\ufeae\\ufedb\\ufe8e\\ufe95 \\ufeed\\ufed3\\ufed6 \\ufee3\\ufee8\\ufec4\\ufed6 \\ufe8d\\ufedf\\ufeee\\ufebb\\ufef4\\ufe94\\u060c \\ufeed\\ufe97\\ufee4\\ufedc\\ufef4\\ufee6 \\ufe8d\\ufedf\\ufee4\\ufed0\\ufe8e\\ufead\\ufe91\\ufe94 \\ufe8d\\ufea7\\ufe98\\ufef4\\ufe8e\\ufead \\ufef3\\ufee8\\ufe8e\\ufeb3\\ufe90 \\ufeb7\\ufedc\\ufede \\ufecb\\ufef4\\ufeb8\\ufeec\\ufee2 \\ufe8d\\ufedf\\ufeaa\\ufef3\\ufee6 \\ufeed\\ufe8d\\ufedf\\ufed8\\ufe8e\\ufee7\\ufeee\\ufee5 \\ufeb3\\ufecc\\ufef4\\ufeaa \\ufee7\\ufe8e\\ufeb7\\ufef4\\ufeaa\\u060c \\ufea3\\ufed8\\ufeee\\ufed7\\ufef2 \\ufeed\\ufe91\\ufe8e\\ufea3\\ufe9a \\ufe8d\\ufedf\\ufed4\\ufedc\\ufeae \\ufe8d\\ufedf\\ufeaa\\ufef3\\ufee8\\ufef2\\u060c \\ufe8d\\ufecb\\ufe98\\ufe92\\ufeae \\ufee3\\ufed8\\ufe98\\ufeae\\ufea1 \\ufe97\\ufec0\\ufee4\\ufef4\\ufee6 \\ufe8d\\ufedf\\ufeee\\ufebb\\ufef4\\ufe94 \\ufebf\\ufee4\\ufee6 \\ufe8d\\ufefb\\ufea7\\ufe98\\ufef4\\ufe8e\\ufead\\ufe8d\\ufe95 \\ufe97\\ufeee\\ufeaf\\ufef3\\ufeca \\ufe8d\\ufedf\\ufe98\\ufeae\\ufedb\\ufe94 \\ufef3\\ufedc\\ufeb8\\ufed2 \\ufed3\\ufecc\\ufefc \\ufea3\\ufede \\ufe91\\ufeae\\ufe8d\\ufecf\\ufee4\\ufe8e\\ufe97\\ufef2 \\ufef3\\ufeb4\\ufe8e\\ufeeb\\ufee2 \\ufe8d\\ufedf\\ufe98\\ufea8\\ufee0\\ufeba \\ufee3\\ufe84\\ufeaf\\ufed5 \\ufed3\\ufeae\\ufebd \\ufe97\\ufed8\\ufeb4\\ufef4\\ufee2 \\ufe8d\\ufedf\\ufe98\\ufeae\\ufedb\\ufe94 \\ufeed\\ufed3\\ufed6 \\ufe8d\\ufedf\\ufee4\\ufee8\\ufec8\\ufeee\\ufead \\ufe8d\\ufef9\\ufeb3\\ufefc\\ufee3\\ufef2 \\ufe83\\ufee3\\ufefc\\ufed9 \\ufe8d\\ufedf\\ufee4\\ufeb4\\ufee0\\ufee4\\ufef4\\ufee6\\u060c \\ufeb3\\ufeee\\ufe8d\\ufe80 \\ufedb\\ufe8e\\ufee7\\ufeee\\ufe8d \\ufee3\\ufeb4\\ufef4\\ufea4\\ufef4\\ufef4\\ufee6 \\ufe91\\ufeec\\ufe8e\\ufe8b\\ufef4\\ufef4\\ufee6 \\ufee3\\ufefc\\ufea3\\ufeaa\\ufe93\\u060c \\ufee3\\ufe86\\ufedb\\ufeaa\\ufe8d \\ufe8d\\ufefb\\ufeb7\\ufe98\\ufed0\\ufe8e\\ufedd \\ufe91\\ufe8e\\ufedf\\ufeee\\ufebb\\ufef4\\ufe94 \\ufeb3\\ufef4\\ufedc\\ufeee\\ufee5 \\ufee3\\ufe92\\ufeaa\\ufe83 \\ufed7\\ufe8e\\ufee7\\ufeee\\ufee7\\ufef4\\ufe8e \\ufebb\\ufeae\\ufed3\\ufe8e\\u060c \\ufedb\\ufe8e\\ufee7\\ufe96 \\ufeed\\ufe8d\\ufead\\ufea9\\ufe93 \\ufe8d\\ufedf\\ufee8\\ufeba \\ufe8d\\ufedf\\ufeaa\\ufef3\\ufee8\\ufef2 \\ufe8d\\ufedf\\ufed8\\ufeae\\ufe81\\ufee7\\ufef2 \\ufeed\\ufeed\\ufebf\\ufea2 \\ufee7\\ufe8e\\ufeb7\\ufef4\\ufeaa\\u060c \\ufe97\\ufebc\\ufeae\\ufef3\\ufea2 \\ufedf\\ufeec\\ufeb4\\ufe92\\ufeae\\ufef3\\ufeb2\\u060c \\ufe8d\\ufedf\\ufeee\\ufebb\\ufef4\\ufe94 \\ufe97\\ufee4\\ufe9c\\ufede \\ufee3\\ufea8\\ufeae\\ufe9f\\ufe8e \\ufeed\\ufea3\\ufefc \\ufedf\\ufee4\\ufeb8\\ufedc\\ufede \\ufe8d\\ufef9\\ufead\\ufe99 \\ufea9\\ufe8d\\ufea7\\ufede \\ufe91\\ufee8\\ufef4\\ufe94 \\ufe8d\\ufedf\\ufeaa\\ufef3\\ufee6 \\ufee7\\ufed4\\ufeb4\\ufeea\\u060c \\ufeed\\ufeeb\\ufef2 \\ufea9\\ufedf\\ufef4\\ufede \\ufe8d\\ufedf\\ufeaa\\ufef3\\ufee6 \\ufeed\\ufe8d\\ufeb3\\ufeca \\ufeed\\ufead\\ufea3\\ufe90 \\ufef3\\ufedc\\ufed4\\ufef2 \\ufedf\\ufee8\\ufea0\\ufeaa \\ufee3\\ufea8\\ufe8e\\ufead\\ufe9d \\ufedf\\ufedc\\ufede \\ufe8d\\ufedf\\ufee4\\ufeb8\\ufe8e\\ufedb\\ufede \\ufe8d\\ufedf\\ufee4\\ufec4\\ufeae\\ufeed\\ufea3\\ufe94 \\ufe97\\ufeaa\\ufe91\\ufef4\\ufeae \\ufe8d\\ufedf\\ufee4\\ufea0\\ufe98\\ufee4\\ufeca\\u060c \\ufee3\\ufecc\\ufe98\\ufe92\\ufeae\\ufe8d \\ufe87\\ufebb\\ufeae\\ufe8d\\ufead \\ufe8d\\ufedf\\ufea0\\ufeec\\ufe94 \\ufe8d\\ufedf\\ufee4\\ufea4\\ufe8e\\ufed3\\ufec8\\ufe94 \\ufe97\\ufec0\\ufef4\\ufef4\\ufed6 \\ufe8d\\ufedf\\ufea8\\ufee8\\ufe8e\\ufed5 \\ufef3\\ufee4\\ufe96 \\ufe9f\\ufeee\\ufeeb\\ufeae \\ufe8d\\ufedf\\ufeaa\\ufef3\\ufee6 \\ufe91\\ufe84\\ufef3\\ufe94 \\ufebb\\ufee0\\ufe94\\u061b \\ufef7\\ufee5 \\ufee3\\ufee8\\ufec8\\ufeee\\ufee3\\ufe94 \\ufe8d\\ufef9\\ufead\\ufe99 \\ufeb3\\ufe92\\ufed6 \\ufedf\\ufe98\\ufed8\\ufeb4\\ufef4\\ufee4\\ufe8e\\ufe97\\ufeec\\ufe8e \\ufeed\\ufed7\\ufecc\\ufe96 \\ufe97\\ufecc\\ufeaa\\ufef3\\ufefc\\ufe95 \\ufedb\\ufe9c\\ufef4\\ufeae\\ufe93\\u060c \\ufedf\\ufe98\\ufecc\\ufec4\\ufef4\\ufee8\\ufe8e \\ufee3\\ufea8\\ufe8e\\ufead\\ufe9d \\ufee7\\ufeee\\ufe8d\\ufeaf\\ufedd \\ufeed\\ufee3\\ufeb4\\ufe98\\ufea0\\ufeaa\\ufe8d\\ufe95 \\ufeed\\ufedf\\ufed4\\ufe96 \\ufe8d\\ufedf\\ufee4\\ufe98\\ufea4\\ufeaa\\ufe99 \\ufecb\\ufef4\\ufee8\\ufeea \\ufe83\\ufeeb\\ufee4\\ufef4\\ufe94 \\ufe8d\\ufedf\\ufeee\\ufebb\\ufef4\\ufe94 \\ufe91\\ufe8e\\ufedf\\ufee8\\ufeb4\\ufe92\\ufe94 \\ufedf\\ufed0\\ufef4\\ufeae \\ufe8d\\ufedf\\ufee4\\ufeb4\\ufee0\\ufee4\\ufef4\\ufee6\\u060c \\ufedf\\ufedc\\ufeee\\ufee7\\ufeec\\ufe8e \\ufee3\\ufeaa\\ufea7\\ufefc \\ufefb\\ufea7\\ufe98\\ufef4\\ufe8e\\ufead \\ufe8d\\ufedf\\ufeb8\\ufedc\\ufede \\ufe8d\\ufedf\\ufee4\\ufee8\\ufe8e\\ufeb3\\ufe90 \\ufedf\\ufee0\\ufe98\\ufecc\\ufe8e\\ufec3\\ufef2 \\ufe97\\ufeae\\ufedb\\ufe8e\\ufe97\\ufeec\\ufee2\\u060c \\ufeed\\ufea3\\ufeaa\\ufeeb\\ufee2 \\ufe8d\\ufedf\\ufea4\\ufed6 \\ufed3\\ufef4\\ufeec\\ufe8e\\u060c \\ufee3\\ufeb4\\ufea0\\ufefc \\ufebb\\ufecc\\ufeee\\ufe91\\ufe94 \\ufe8d\\ufedf\\ufeaa\\ufea7\\ufeee\\ufedd \\ufe9f\\ufeb0\\ufe8b\\ufef4\\ufe8e\\ufe95 \\ufedb\\ufe9c\\ufef4\\ufeae\\ufe93 \\ufe97\\ufecc\\ufeee\\ufea9 \\ufea9\\ufef3\\ufe8e\\ufee7\\ufe94 \\ufeed\\ufe83\\ufee7\\ufee4\\ufe8e\\ufec3\\ufeec\\ufe8e \\ufe97\\ufed8\\ufeb4\\ufef4\\ufee2 \\ufe8d\\ufef9\\ufead\\ufe99\\u061b \\ufecb\\ufee4\\ufee0\\ufef4\\ufe8e \\ufe8d\\ufedf\\ufeee\\ufebb\\ufef4\\ufe94 \\ufeab\\ufedb\\ufe8e\\ufe80 \\ufed7\\ufe8e\\ufee7\\ufeee\\ufee7\\ufef2 \\ufef3\\ufee8\\ufeb4\\ufea0\\ufee2 \\ufee3\\ufe92\\ufe8e\\ufea9\\ufe89 \\ufe8d\\ufedf\\ufeaa\\ufeed\\ufedf\\ufe94\\u060c \\ufeed\\ufef3\\ufea4\\ufe98\\ufeae\\ufee1 \\ufe8d\\ufedf\\ufea8\\ufef4\\ufe8e\\ufead\\ufe8d\\ufe95 \\ufe8d\\ufedf\\ufeae\\ufeed\\ufea3\\ufef4\\ufe94 \\ufe97\\ufecc\\ufef4\\ufeb6 \\ufea9\\ufe8d\\ufea7\\ufede \\ufea3\\ufeaa\\ufeed\\ufea9 \\ufe8d\\ufedf\\ufeaa\\ufeed\\ufedf\\ufe94 \\ufe8d\\ufedf\\ufeee\\ufec3\\ufee8\\ufef4\\ufe94 \\ufe97\\ufeaa\\ufe91\\ufef4\\ufeae \\ufea9\\ufef3\\ufee4\\ufed8\\ufeae\\ufe8d\\ufec3\\ufef2 \\ufe81\\ufea9\\ufee1 \\ufe8d\\ufedf\\ufeae\\ufe91\\ufe8e\\ufec3\\ufef2\\u060c \\ufead\\ufe8b\\ufef4\\ufeb2 \\ufe8d\\ufe97\\ufea4\\ufe8e\\ufea9 \\ufe8d\\ufedf\\ufee4\\ufeb4\\ufef4\\ufea4\\ufef4\\ufef4\\ufee6 \\ufe8d\\ufedf\\ufee4\\ufed0\\ufe8e\\ufead\\ufe91\\ufe94\\u060c \\ufe97\\ufee4\\ufee8\\ufef0 \\ufef3\\ufe98\\ufee2 \\ufe87\\ufea9\\ufead\\ufe8d\\ufe9d \\ufe8d\\ufedf\\ufeee\\ufebb\\ufef4\\ufe94 \\ufee3\\ufeaa\\ufeed\\ufee7\\ufe94 \\ufe8d\\ufef7\\ufeb3\\ufeae\\ufe93 \\ufe8d\\ufedf\\ufea0\\ufeaa\\ufef3\\ufeaa\\ufe93\\u060c \\ufedb\\u0640\\ufe88\\ufee7\\ufebc\\ufe8e\\ufed1 \\ufef7\\ufed7\\ufee0\\ufef4\\ufe8e\\ufe95 \\ufea9\\ufef3\\ufee8\\ufef4\\ufe94 \\ufee3\\ufeee\\ufe9f\\ufeee\\ufea9\\ufe93 \\ufeed\\ufe91\\ufed8\\ufeee\\ufe93 \\ufe8d\\ufedf\\ufee4\\ufea0\\ufe98\\ufee4\\ufeca \\ufe8d\\ufedf\\ufee4\\ufed0\\ufeae\\ufe91\\ufef2\\u060c \\ufee3\\ufeb8\\ufef4\\ufeae\\ufe8d \\ufe8d\\ufedf\\ufeee\\ufebb\\ufef4\\ufe94 \\ufee3\\ufecc\\ufee4\\ufeee\\ufedd \\ufe8d\\ufedf\\ufecc\\ufeaa\\ufef3\\ufeaa \\ufe8d\\ufedf\\ufeaa\\ufeed\\ufedd \\ufea3\\ufeee\\ufedd \\ufe8d\\ufedf\\ufecc\\ufe8e\\ufedf\\ufee2\\u061b \\ufeed\\ufe91\\ufe8e\\ufedf\\ufe98\\ufe8e\\ufedf\\ufef2 \\ufef3\\ufee4\\ufedc\\ufee8\\ufee8\\ufe8e \\ufee7\\ufeae\\ufea3\\ufe90 \\ufeed\\ufee7\\ufeaa\\ufecb\\ufee4\\ufeec\\ufe8e\\u060c \\ufef7\\ufee7\\ufeec\\ufe8e \\ufeb3\\ufe98\\ufed4\\ufe98\\ufea2 \\ufe83\\ufe91\\ufeee\\ufe8d\\ufe91\\ufe8e \\ufea9\\ufef3\\ufee4\\ufed8\\ufeae\\ufe8d\\ufec3\\ufef4\\ufe94 \\ufe97\\ufee8\\ufec8\\ufef4\\ufee2 \\ufe8d\\ufef7\\ufeb3\\ufeae\\ufe93 \\ufe8d\\ufedf\\ufee4\\ufeb4\\ufef4\\ufea4\\ufef4\\ufe94 \\ufe8d\\ufedf\\ufe92\\ufeec\\ufe8e\\ufe8b\\ufef4\\ufe94 \\ufecf\\ufef4\\ufeae\\ufeeb\\ufee4\\ufe8e\\u060c \\ufedf\\ufedc\\ufeee\\ufee7\\ufee8\\ufe8e \\ufeb3\\ufee8\\ufe98\\ufecc\\ufe8e\\ufee3\\ufede \\ufee3\\ufecc\\ufeec\\ufe8e \\ufedb\\ufed8\\ufe8e\\ufee7\\ufeee\\ufee5 \\ufee3\\ufea0\\ufeae\\ufea9 \\ufeed\\ufedf\\ufef4\\ufeb2 \\ufeb7\\ufef4\\ufe8c\\ufe8e \\ufe81\\ufea7\\ufeae \\ufeed\\ufeb7\\ufeaa\\ufea9 \\ufe8d\\ufedf\\ufeae\\ufe91\\ufe8e\\ufec3\\ufef2\\u060c \\ufebf\\ufee4\\ufee6 \\ufe97\\ufebc\\ufeae\\ufef3\\ufea4\\ufeea \\ufedf\\ufeec\\ufeb4\\ufe92\\ufeae\\ufef3\\ufeb2\\u060c \\ufe87\\ufea9\\ufead\\ufe8d\\ufe9d \\ufe8d\\ufedf\\ufeee\\ufebb\\ufef4\\ufe94 \\ufea3\\ufed8\\ufef4\\ufed8\\ufef4\\ufe8e\\u060c \\ufed3\\ufeec\\ufeac\\ufe8d \\ufeb3\\ufef4\\ufedc\\ufeee\\ufee5 \\ufed3\\ufe98\\ufea4\\ufe8e \\ufedf\\ufee0\\ufe92\\ufe8e\\ufe8f \\ufe8d\\ufe9f\\ufe98\\ufeec\\ufe8e\\ufea9\\ufe8d\\ufe95 \\ufe83\\ufea7\\ufeae\\ufeef \\ufee3\\ufeb4\\ufe98\\ufed8\\ufe92\\ufefc\\u060c \\ufe97\\ufeb4\\ufe98\\ufe9c\\ufee4\\ufeae \\ufef3\\ufeb4\\ufee4\\ufef0 \\ufe91\\ufeaa\\ufef3\\ufee6 \\ufe8d\\ufedf\\ufeaa\\ufeed\\ufedf\\ufe94\\u061b \\ufe8d\\ufea3\\ufe98\\ufeae\\ufe8d\\ufee1 \\ufedf\\ufee0\\ufecc\\ufed8\\ufe8e\\ufe8b\\ufeaa \\ufe8d\\ufef7\\ufea7\\ufeae\\ufeef \\ufe8d\\ufedf\\ufee4\\ufeee\\ufe9f\\ufeee\\ufea9\\ufe93\\u060c \\ufe9b\\ufed8\\ufe94 \\ufe83\\ufee3\\ufef4\\ufeae \\ufe8d\\ufedf\\ufee4\\ufe86\\ufee3\\ufee8\\ufef4\\ufee6\\u060c \\ufe83\\ufedb\\ufeaa \\ufe87\\ufee3\\ufe8e\\ufead\\ufe93 \\ufe8d\\ufedf\\ufee4\\ufe86\\ufee3\\ufee8\\ufef4\\ufee6 \\ufe97\\ufecc\\ufee8\\ufef2 \\ufe8d\\ufef7\\ufea9\\ufef3\\ufe8e\\ufee5 \\ufeed\\ufedb\\ufede \\ufe8d\\ufedf\\ufed8\\ufee8\\ufe8e\\ufecb\\ufe8e\\ufe95 \\ufe8d\\ufedf\\ufeae\\ufeed\\ufea3\\ufef4\\ufe94 \\ufeed\\ufe8d\\ufef7\\ufea7\\ufefc\\ufed7\\ufef4\\ufe94 \\ufedb\\ufe8e\\ufee7\\ufe96 \\ufea9\\ufead\\ufe9f\\ufe94 \\ufea3\\ufec0\\ufeee\\ufead\\ufeeb\\ufe8e \\ufe8d\\ufedf\\ufed4\\ufec0\\ufe8e\\ufe80 \\ufe8d\\ufedf\\ufecc\\ufe8e\\ufee1 \\ufe8d\\ufedf\\ufee4\\ufed0\\ufeae\\ufe91\\ufef2 \\ufeed\\ufe8d\\ufecb\\ufe98\\ufe92\\ufeae \\ufe8d\\ufedf\\ufee4\\ufe98\\ufea4\\ufeaa\\ufe99 \\ufecb\\ufef4\\ufee8\\ufeea \\ufe8d\\ufedf\\ufeee\\ufebb\\ufef4\\ufe94 \\ufe97\\ufeb4\\ufe8e\\ufeeb\\ufee2 \\ufe97\\ufea4\\ufed8\\ufef4\\ufed6 \\ufe8d\\ufedf\\ufea4\\ufeaa \\ufe8d\\ufef7\\ufea9\\ufee7\\ufef0 \\ufe91\\ufe8e\\ufedf\\ufee8\\ufeb4\\ufe92\\ufe94 \\ufedf\\ufee0\\ufecc\\ufe8e\\ufe8b\\ufefc\\ufe95 \\ufe8d\\ufedf\\ufee4\\ufeb4\\ufee0\\ufee4\\ufe94\\u060c \\ufe83\\ufee7\\ufee8\\ufe8e \\ufee7\\ufeb8\\ufeaa\\ufea9 \\ufe8d\\ufef9\\ufebb\\ufefc\\ufea3\\ufe8e\\ufe95 \\ufeed\\ufead\\ufea9\\ufe95 \\ufe8d\\ufedf\\ufe98\\ufeee\\ufebb\\ufef4\\ufe8e\\ufe95 \\ufe8d\\ufedf\\ufee4\\ufe98\\ufeaa\\ufe8d\\ufeed\\ufedf\\ufe94\\u060c \\ufe97\\ufedc\\ufee6 \\ufead\\ufeb3\\ufee4\\ufef4\\ufe94\\u060c \\ufed3\\ufeec\\ufef2 \\ufe97\\ufedc\\ufee6 \\ufee3\\ufeaa\\ufee7\\ufef4\\ufe94 \\ufe8d\\ufedf\\ufee4\\ufe8e\\ufe8b\\ufe94\\u061b \\ufedf\\ufedc\\ufee8\\ufeec\\ufe8e \\ufedb\\ufe8e\\ufee7\\ufe96 \\ufeab\\ufedb\\ufef4\\ufe94 \\ufed3\\ufe98\\ufea2 \\ufe8d\\ufedf\\ufe92\\ufe8e\\ufe8f \\ufe8d\\ufedf\\ufe98\\ufec4\\ufeee\\ufef3\\ufeae \\ufe8d\\ufedf\\ufee4\\ufeb4\\ufe98\\ufed8\\ufe92\\ufede\\u060c \\ufeed\\ufead\\ufed3\\ufeca \\ufe8d\\ufedf\\ufea4\\ufeae\\ufe9d \\ufef3\\ufecc\\ufe98\\ufe92\\ufeae\\ufeed\\ufee5 \\ufe83\\ufea9\\ufef3\\ufe8e\\ufee7\\ufe8e \\ufe83\\ufea7\\ufeae\\ufeef \\ufe97\\ufeee\\ufed7\\ufef4\\ufecc\\ufe8e \\ufead\\ufeed\\ufea3\\ufef4\\ufe8e \\ufef3\\ufea8\\ufeee\\ufedd \\ufe8d\\ufefb\\ufee7\\ufe98\\ufee4\\ufe8e\\ufe80 \\ufee7\\ufe8e\\ufea9\\ufef1 \\ufe8d\\ufef9\\ufee7\\ufeb4\\ufe8e\\ufee7\\ufef4\\ufe94 \\ufead\\ufed3\\ufebe \\ufe8d\\ufedf\\ufe98\\ufea4\\ufe8e\\ufef3\\ufede \\ufecb\\ufe92\\ufeaa \\ufe8d\\ufef9\\ufedf\\ufeea \\ufe8d\\ufedf\\ufea8\\ufec0\\ufeae\\ufef1\\u060c \\ufead\\ufe8b\\ufef4\\ufeb2 \\ufe8d\\ufedf\\ufee4\\ufeae\\ufedb\\ufeb0 \\ufe8d\\ufedf\\ufee4\\ufed0\\ufeae\\ufe91\\ufef2 \\ufedf\\ufea4\\ufed8\\ufeee\\ufed5 \\ufe8d\\ufef9\\ufee7\\ufeb4\\ufe8e\\ufee5\\u060c \\ufed7\\ufe8e\\ufedd \\ufe8d\\ufedf\\ufeee\\ufebb\\ufef4\\ufe94 \\ufe91\\ufe8e\\ufedf\\ufeb8\\ufedc\\ufede \\ufe97\\ufee2 \\ufe97\\ufebc\\ufeee\\ufef3\\ufeae\\ufeeb\\ufe8e \\ufee3\\ufeae\\ufed3\\ufeee\\ufebf\\ufe94 \\ufe97\\ufee4\\ufe8e\\ufee3\\ufe8e\\u060c \\ufeed\\ufeeb\\ufef2 \\ufee3\\ufea4\\ufe8e\\ufeed\\ufedf\\ufe94 \\ufedf\\ufee0\\ufe98\\ufea4\\ufe8e\\ufef3\\ufede \\ufed7\\ufeee\\ufe8d\\ufecb\\ufeaa \\ufe8d\\ufef9\\ufead\\ufe99 \\ufeed\\ufe8d\\ufeb3\\ufe98\\ufecc\\ufee4\\ufe8e\\ufedd \\ufea7\\ufe8e\\ufec3\\ufe8a \\ufedf\\ufee4\\ufed4\\ufeec\\ufeee\\ufee1 \\ufe8d\\ufedf\\ufeee\\ufebb\\ufef4\\ufe94\\u060c \\ufee3\\ufecc\\ufe98\\ufe92\\ufeae\\ufe8d \\ufe8d\\ufef9\\ufead\\ufe99 \\ufecb\\ufed8\\ufeaa\\ufe8d \\ufecb\\ufeee\\ufebf\\ufef4\\ufe8e \\ufe97\\ufe92\\ufeae\\ufecb\\ufef4\\ufe8e \\ufe8d\\ufedf\\ufe92\\ufeb8\\ufeae\\u060c \\ufeed\\ufee3\\ufee6 \\ufe9b\\ufee4\\ufe94 \\ufef3\\ufea0\\ufeae\\ufef1 \\ufee3\\ufea0\\ufeae\\ufeef \\ufe8d\\ufedf\\ufecc\\ufed8\\ufeaa\\u061b \\ufe8d\\ufedf\\ufeee\\ufebb\\ufef4\\ufe94 \\ufe97\\ufecc\\ufe98\\ufe92\\ufeae \\ufecb\\ufed8\\ufeaa\\ufe8d \\ufee3\\ufeb4\\ufee4\\ufef0 \\ufe8d\\ufedf\\ufecc\\ufed8\\ufeee\\ufea9 \\ufe8d\\ufedf\\ufe98\\ufe92\\ufeae\\ufecb\\ufef4\\ufe94\\u060c \\ufe97\\ufe86\\ufec3\\ufeae\\ufeeb\\ufe8e \\ufee7\\ufebc\\ufeee\\ufeb9 \\ufe97\\ufeb8\\ufeae\\ufef3\\ufecc\\ufef4\\ufe94 \\ufeed\\ufe97\\ufe98\\ufeae\\ufe97\\ufe90 \\ufecb\\ufee8\\ufeec\\ufe8e \\ufe83\\ufea3\\ufedc\\ufe8e\\ufee1 \\ufeed\\ufe83\\ufeed\\ufebf\\ufea2 \\ufe8d\\ufedf\\ufea8\\ufec0\\ufeae\\ufef1\\u060c \\ufe97\\ufebc\\ufeae\\ufef3\\ufea2 \\ufedf\\ufeec\\ufeb4\\ufe92\\ufeae\\ufef3\\ufeb2\\u060c \\ufe83\\ufee7\\ufeea \\ufea3\\ufeae\\ufef3\\ufe8e \\ufe8d\\ufed7\\ufe98\\ufeae\\ufea3\\ufeee\\ufe8d \\ufe8d\\ufedf\\ufee4\\ufed8\\ufe8e\\ufead\\ufe91\\ufe94 \\ufef3\\ufecc\\ufeee\\ufebf\\ufeee\\ufe8d \\ufe8d\\ufedf\\ufeee\\ufebb\\ufef4\\ufe94 \\ufe8d\\ufedf\\ufeec\\ufe92\\ufe94\\u061b \\ufed3\\ufe8e\\ufedf\\ufeec\\ufe92\\ufe94 \\ufecb\\ufed8\\ufeaa \\ufee3\\ufeb4\\ufee4\\ufef0 \\ufe97\\ufe92\\ufeae\\ufecb\\ufef2 \\ufee3\\ufe9c\\ufee0\\ufeea \\ufe8d\\ufedf\\ufeee\\ufebb\\ufef4\\ufe94\\u060c \\ufe8d\\ufedf\\ufeec\\ufe92\\ufe94 \\ufe97\\ufe92\\ufeae\\ufec9 \\ufeed\\ufe97\\ufee8\\ufed4\\ufef4\\ufeac \\ufea3\\ufe8e\\ufedd \\ufe8d\\ufedf\\ufea4\\ufef4\\ufe8e\\ufe93\\u060c \\ufe8d\\ufedf\\ufeee\\ufebb\\ufef4\\ufe94 \\ufe97\\ufe92\\ufeae\\ufec9 \\ufea3\\ufe8e\\ufedd \\ufe8d\\ufedf\\ufea4\\ufef4\\ufe8e\\ufe93 \\ufeed\\ufe97\\ufee8\\ufed4\\ufef4\\ufeac \\ufe8d\\ufedf\\ufee4\\ufeee\\ufe95\\u060c \\ufeb3\\ufe8e\\ufe8b\\ufeae \\ufe8d\\ufedf\\ufecc\\ufed8\\ufeee\\ufea9 \\ufe8d\\ufedf\\ufee4\\ufeb4\\ufee4\\ufe8e\\ufe93 \\ufee3\\ufe86\\ufec3\\ufeae \\ufe91\\ufee8\\ufebc\\ufeee\\ufeb9 \\ufeed\\ufee3\\ufed8\\ufe98\\ufec0\\ufef4\\ufe8e\\ufe95 \\ufeb7\\ufeae\\ufecb\\ufef4\\ufe94 \\ufeed\\ufe97\\ufeb8\\ufeae\\ufef3\\ufecc\\ufef4\\ufe94\\u060c \\ufef3\\ufeb8\\ufe98\\ufeae\\ufec1 \\ufecb\\ufeaa\\ufee1 \\ufe97\\ufea0\\ufe8e\\ufeed\\ufeaf \\ufe9b\\ufee0\\ufe9a \\ufe8d\\ufedf\\ufea4\\ufed6 \\ufe8d\\ufedf\\ufee4\\ufeee\\ufead\\ufeed\\ufe99 \\ufe91\\ufe88\\ufeab\\ufee5 \\ufe8d\\ufedf\\ufeee\\ufead\\ufe9b\\ufe94 \\ufeed\\ufedf\\ufef4\\ufeb2 \\ufe8d\\ufedf\\ufe98\\ufeae\\ufedb\\ufe94\\u060c \\ufe91\\ufebc\\ufeae\\ufef3\\ufea2 \\ufee3\\ufee8\\ufec4\\ufeee\\ufed5 \\ufee7\\ufebc\\ufeee\\ufeb9 \\ufe8d\\ufedf\\ufeb8\\ufeae\\ufef3\\ufecc\\ufe94 \\ufe8d\\ufef9\\ufeb3\\ufefc\\ufee3\\ufef4\\ufe94 \\ufeed\\ufedf\\ufed4\\ufe96 \\ufe8d\\ufedf\\ufee4\\ufe98\\ufea4\\ufeaa\\ufe99 \\ufecb\\ufef4\\ufee8\\ufeea \\ufe87\\ufeb7\\ufedc\\ufe8e\\ufedf\\ufef4\\ufe94 \\ufedb\\ufe92\\ufef4\\ufeae\\ufe93\\u060c \\ufe97\\ufe98\\ufecc\\ufee0\\ufed6\\u060c \\ufe8d\\ufedf\\ufee8\\ufe8e\\ufea3\\ufef4\\ufe94 \\ufe8d\\ufedf\\ufea4\\ufed8\\ufeee\\ufed7\\ufef4\\ufe94\\u060c \\ufe91\\ufe88\\ufea7\\ufec0\\ufe8e\\ufec9 \\ufe8d\\ufedf\\ufee4\\ufeb4\\ufee0\\ufee4\\ufef4\\ufee6 \\ufedf\\ufed8\\ufeee\\ufe8d\\ufecb\\ufeaa \\ufe8d\\ufef9\\ufead\\ufe99 \\ufe8d\\ufef9\\ufeb3\\ufefc\\ufee3\\ufef4\\ufe94\\u060c \\ufee3\\ufe86\\ufedb\\ufeaa\\ufe8d \\ufe83\\ufee7\\ufeea \\ufe97\\ufedc\\ufee6 \\ufe87\\ufead\\ufe8d\\ufea9\\ufe97\\ufeec\\ufee2 \\ufe8d\\ufedf\\ufe98\\ufebc\\ufeae\\ufed1 \\ufe97\\ufeae\\ufedb\\ufe98\\ufeec\\ufee2\\u061b \\ufed3\\ufecc\\ufee0\\ufef0 \\ufe8d\\ufedf\\ufee4\\ufeb8\\ufeae\\ufec9 \\ufe8d\\ufedf\\ufee4\\ufed0\\ufeae\\ufe91\\ufef2 \\ufe87\\ufef3\\ufea0\\ufe8e\\ufea9 \\ufea3\\ufede \\ufee3\\ufee8\\ufe8e\\ufeb3\\ufe90\\u060c \\ufea7\\ufefc\\ufedd \\ufe87\\ufed7\\ufeae\\ufe8d\\ufead \\ufee3\\ufea8\\ufeae\\ufe9d \\ufe81\\ufea7\\ufeae\\u060c \\ufe91\\ufecc\\ufef4\\ufeaa \\ufed7\\ufeee\\ufe8d\\ufecb\\ufeaa \\ufe8d\\ufef9\\ufead\\ufe99 \\ufeed\\ufe8d\\ufedf\\ufeee\\ufebb\\ufef4\\ufe94 \\ufeed\\ufed3\\ufed6 \\ufe8d\\ufedf\\ufeb8\\ufeae\\ufef3\\ufecc\\ufe94 \\ufe8d\\ufef9\\ufeb3\\ufefc\\ufee3\\ufef4\\ufe94\\u060c \\ufecf\\ufeae\\ufe8d\\ufead \\ufee3\\ufeaa\\ufeed\\ufee7\\ufe94 \\ufe8d\\ufef7\\ufea3\\ufeee\\ufe8d\\ufedd \\ufe8d\\ufedf\\ufeb8\\ufea8\\ufebc\\ufef4\\ufe94 \\ufe8d\\ufedf\\ufecc\\ufe92\\ufeae\\ufef3\\ufe94 \\ufe8d\\ufedf\\ufea8\\ufe8e\\ufebb\\ufe94 \\ufe91\\ufe8e\\ufedf\\ufef4\\ufeec\\ufeee\\ufea9 \\ufe8d\\ufedf\\ufee4\\ufed0\\ufe8e\\ufead\\ufe91\\ufe94\"\n        ],\n        \"semantic_type\": \"\",\n        \"description\": \"\"\n      }\n    }\n  ]\n}",
              "type": "dataframe",
              "variable_name": "all_posts"
            },
            "text/html": [
              "\n",
              "  <div id=\"df-330be081-d10b-47a8-b911-2da33ec8b6f3\" class=\"colab-df-container\">\n",
              "    <div>\n",
              "<style scoped>\n",
              "    .dataframe tbody tr th:only-of-type {\n",
              "        vertical-align: middle;\n",
              "    }\n",
              "\n",
              "    .dataframe tbody tr th {\n",
              "        vertical-align: top;\n",
              "    }\n",
              "\n",
              "    .dataframe thead th {\n",
              "        text-align: right;\n",
              "    }\n",
              "</style>\n",
              "<table border=\"1\" class=\"dataframe\">\n",
              "  <thead>\n",
              "    <tr style=\"text-align: right;\">\n",
              "      <th></th>\n",
              "      <th>cleaned_data</th>\n",
              "    </tr>\n",
              "  </thead>\n",
              "  <tbody>\n",
              "    <tr>\n",
              "      <th>0</th>\n",
              "      <td>ﺿﻤﻦ ﺍﻟﺘﻘﺮﻳﺮ ﺗﺴﻠﻤﻪ ﻋﺰﻳﺰ ﺃﺧﻨﻮﺵ، ﺭﺋﻴﺲ ﺍﻟﺤﻜﻮﻣﺔ، ﻧﻬ...</td>\n",
              "    </tr>\n",
              "    <tr>\n",
              "      <th>1</th>\n",
              "      <td>ﻳﺘﺠﺪﺩ ﺍﻟﻨﻘﺎﺵ ﺃﻭﺳﺎﻁ ﺍﻟﻤﻬﺘﻤﻴﻦ ﺑﺸﺆﻭﻥ ﺍﻟﻤﺮﺃﺓ ﻭﺣﻘﻮﻗ...</td>\n",
              "    </tr>\n",
              "    <tr>\n",
              "      <th>2</th>\n",
              "      <td>ﺃﻋﻠﻦ ﺷﻜﻴﺐ ﺑﻨﻤﻮﺳﻰ، ﻭﺯﻳﺮ ﺍﻟﺘﺮﺑﻴﺔ ﺍﻟﻮﻃﻨﻴﺔ ﻭﺍﻟﺘﻌﻠﻴ...</td>\n",
              "    </tr>\n",
              "    <tr>\n",
              "      <th>3</th>\n",
              "      <td>ﺗﺘﺠﻪ ﺃﻧﻈﺎﺭ ﺷﺒﻜﺎﺕ ﺍﻟﻬﺠﺮﺓ ﺍﻟﺴﺮﻳﺔ ﺑﺎﻟﻤﻐﺮﺏ ﻣﻮﻋﺪ ﻋﻴ...</td>\n",
              "    </tr>\n",
              "    <tr>\n",
              "      <th>4</th>\n",
              "      <td>ﺗﻮﺻﻠﺖ ﺟﺮﻳﺪﺓ ﻫﺴﺒﺮﻳﺲ ﺍﻹﻟﻜﺘﺮﻭﻧﻴﺔ ﺑﺮﺩ ﺟﻤﻌﻴﺔ ﺍﻷﻋﻤﺎﻝ...</td>\n",
              "    </tr>\n",
              "    <tr>\n",
              "      <th>5</th>\n",
              "      <td>ﻏﻴﺮ ﺯﻟﺰﺍﻝ ﺷﺘﻨﺒﺮ ﻭﺟﻪ ﺍﻟﺤﻴﺎﺓ ﻛﻠﻴﺎ ﺑﺎﻟﻤﻨﺎﻃﻖ ﺍﻟﻤﻨﻜ...</td>\n",
              "    </tr>\n",
              "    <tr>\n",
              "      <th>6</th>\n",
              "      <td>ﻳﺤﻞ ﺍﻟﻴﻮﻡ ﺍﻟﻌﺎﻟﻤﻲ ﻟﻠﺼﺤﺔ ﺍﻟﺴﻨﺔ ﻳﺼﺎﺩﻑ ﺍﻟﺴﺎﺑﻊ ﺳﻨﺔ...</td>\n",
              "    </tr>\n",
              "    <tr>\n",
              "      <th>7</th>\n",
              "      <td>ﺃﺛﺎﺭﺕ ﺍﻟﺘﺴﺮﻳﺒﺎﺕ ﺍﻟﺨﺎﺻﺔ ﺑﺘﻮﺻﻴﺎﺕ ﻣﺮﺍﺟﻌﺔ ﻣﺪﻭﻧﺔ ﺍﻷ...</td>\n",
              "    </tr>\n",
              "    <tr>\n",
              "      <th>8</th>\n",
              "      <td>ﺑﻘﺎﺀ ﻓﺘﺮﺓ ﺑﺎﻟﻄﻮﻳﻠﺔ ﻣﻮﻋﺪ ﺍﻣﺘﺤﺎﻧﺎﺕ ﺍﻟﺒﺎﻛﺎﻟﻮﺭﻳﺎ ﺑ...</td>\n",
              "    </tr>\n",
              "    <tr>\n",
              "      <th>9</th>\n",
              "      <td>ﻋﻠﻤﺖ ﺟﺮﻳﺪﺓ ﻫﺴﺒﺮﻳﺲ ﻗﻴﺎﺩﺍﺕ ﻧﻘﺎﺑﻴﺔ ﺍﻟﺤﻜﻮﻣﺔ ﺷﺮﻋﺖ ﺇ...</td>\n",
              "    </tr>\n",
              "    <tr>\n",
              "      <th>10</th>\n",
              "      <td>ﺩﺍﻓﻊ ﺷﻜﻴﺐ ﺑﻨﻤﻮﺳﻰ، ﻭﺯﻳﺮ ﺍﻟﺘﺮﺑﻴﺔ ﺍﻟﻮﻃﻨﻴﺔ ﻭﺍﻟﺘﻌﻠﻴ...</td>\n",
              "    </tr>\n",
              "    <tr>\n",
              "      <th>11</th>\n",
              "      <td>ﺃﻃﻠﻘﺖ ﻓﺪﺭﺍﻟﻴﺔ ﺭﺍﺑﻄﺔ ﺣﻘﻮﻕ ﺍﻟﻨﺴﺎﺀ ﺣﻤﻠﺔ ﺗﻮﺍﺻﻠﻴﺔ ﺗ...</td>\n",
              "    </tr>\n",
              "  </tbody>\n",
              "</table>\n",
              "</div>\n",
              "    <div class=\"colab-df-buttons\">\n",
              "\n",
              "  <div class=\"colab-df-container\">\n",
              "    <button class=\"colab-df-convert\" onclick=\"convertToInteractive('df-330be081-d10b-47a8-b911-2da33ec8b6f3')\"\n",
              "            title=\"Convert this dataframe to an interactive table.\"\n",
              "            style=\"display:none;\">\n",
              "\n",
              "  <svg xmlns=\"http://www.w3.org/2000/svg\" height=\"24px\" viewBox=\"0 -960 960 960\">\n",
              "    <path d=\"M120-120v-720h720v720H120Zm60-500h600v-160H180v160Zm220 220h160v-160H400v160Zm0 220h160v-160H400v160ZM180-400h160v-160H180v160Zm440 0h160v-160H620v160ZM180-180h160v-160H180v160Zm440 0h160v-160H620v160Z\"/>\n",
              "  </svg>\n",
              "    </button>\n",
              "\n",
              "  <style>\n",
              "    .colab-df-container {\n",
              "      display:flex;\n",
              "      gap: 12px;\n",
              "    }\n",
              "\n",
              "    .colab-df-convert {\n",
              "      background-color: #E8F0FE;\n",
              "      border: none;\n",
              "      border-radius: 50%;\n",
              "      cursor: pointer;\n",
              "      display: none;\n",
              "      fill: #1967D2;\n",
              "      height: 32px;\n",
              "      padding: 0 0 0 0;\n",
              "      width: 32px;\n",
              "    }\n",
              "\n",
              "    .colab-df-convert:hover {\n",
              "      background-color: #E2EBFA;\n",
              "      box-shadow: 0px 1px 2px rgba(60, 64, 67, 0.3), 0px 1px 3px 1px rgba(60, 64, 67, 0.15);\n",
              "      fill: #174EA6;\n",
              "    }\n",
              "\n",
              "    .colab-df-buttons div {\n",
              "      margin-bottom: 4px;\n",
              "    }\n",
              "\n",
              "    [theme=dark] .colab-df-convert {\n",
              "      background-color: #3B4455;\n",
              "      fill: #D2E3FC;\n",
              "    }\n",
              "\n",
              "    [theme=dark] .colab-df-convert:hover {\n",
              "      background-color: #434B5C;\n",
              "      box-shadow: 0px 1px 3px 1px rgba(0, 0, 0, 0.15);\n",
              "      filter: drop-shadow(0px 1px 2px rgba(0, 0, 0, 0.3));\n",
              "      fill: #FFFFFF;\n",
              "    }\n",
              "  </style>\n",
              "\n",
              "    <script>\n",
              "      const buttonEl =\n",
              "        document.querySelector('#df-330be081-d10b-47a8-b911-2da33ec8b6f3 button.colab-df-convert');\n",
              "      buttonEl.style.display =\n",
              "        google.colab.kernel.accessAllowed ? 'block' : 'none';\n",
              "\n",
              "      async function convertToInteractive(key) {\n",
              "        const element = document.querySelector('#df-330be081-d10b-47a8-b911-2da33ec8b6f3');\n",
              "        const dataTable =\n",
              "          await google.colab.kernel.invokeFunction('convertToInteractive',\n",
              "                                                    [key], {});\n",
              "        if (!dataTable) return;\n",
              "\n",
              "        const docLinkHtml = 'Like what you see? Visit the ' +\n",
              "          '<a target=\"_blank\" href=https://colab.research.google.com/notebooks/data_table.ipynb>data table notebook</a>'\n",
              "          + ' to learn more about interactive tables.';\n",
              "        element.innerHTML = '';\n",
              "        dataTable['output_type'] = 'display_data';\n",
              "        await google.colab.output.renderOutput(dataTable, element);\n",
              "        const docLink = document.createElement('div');\n",
              "        docLink.innerHTML = docLinkHtml;\n",
              "        element.appendChild(docLink);\n",
              "      }\n",
              "    </script>\n",
              "  </div>\n",
              "\n",
              "\n",
              "<div id=\"df-f6afa923-7ba6-4514-8b8d-c2ffcc2c9b75\">\n",
              "  <button class=\"colab-df-quickchart\" onclick=\"quickchart('df-f6afa923-7ba6-4514-8b8d-c2ffcc2c9b75')\"\n",
              "            title=\"Suggest charts\"\n",
              "            style=\"display:none;\">\n",
              "\n",
              "<svg xmlns=\"http://www.w3.org/2000/svg\" height=\"24px\"viewBox=\"0 0 24 24\"\n",
              "     width=\"24px\">\n",
              "    <g>\n",
              "        <path d=\"M19 3H5c-1.1 0-2 .9-2 2v14c0 1.1.9 2 2 2h14c1.1 0 2-.9 2-2V5c0-1.1-.9-2-2-2zM9 17H7v-7h2v7zm4 0h-2V7h2v10zm4 0h-2v-4h2v4z\"/>\n",
              "    </g>\n",
              "</svg>\n",
              "  </button>\n",
              "\n",
              "<style>\n",
              "  .colab-df-quickchart {\n",
              "      --bg-color: #E8F0FE;\n",
              "      --fill-color: #1967D2;\n",
              "      --hover-bg-color: #E2EBFA;\n",
              "      --hover-fill-color: #174EA6;\n",
              "      --disabled-fill-color: #AAA;\n",
              "      --disabled-bg-color: #DDD;\n",
              "  }\n",
              "\n",
              "  [theme=dark] .colab-df-quickchart {\n",
              "      --bg-color: #3B4455;\n",
              "      --fill-color: #D2E3FC;\n",
              "      --hover-bg-color: #434B5C;\n",
              "      --hover-fill-color: #FFFFFF;\n",
              "      --disabled-bg-color: #3B4455;\n",
              "      --disabled-fill-color: #666;\n",
              "  }\n",
              "\n",
              "  .colab-df-quickchart {\n",
              "    background-color: var(--bg-color);\n",
              "    border: none;\n",
              "    border-radius: 50%;\n",
              "    cursor: pointer;\n",
              "    display: none;\n",
              "    fill: var(--fill-color);\n",
              "    height: 32px;\n",
              "    padding: 0;\n",
              "    width: 32px;\n",
              "  }\n",
              "\n",
              "  .colab-df-quickchart:hover {\n",
              "    background-color: var(--hover-bg-color);\n",
              "    box-shadow: 0 1px 2px rgba(60, 64, 67, 0.3), 0 1px 3px 1px rgba(60, 64, 67, 0.15);\n",
              "    fill: var(--button-hover-fill-color);\n",
              "  }\n",
              "\n",
              "  .colab-df-quickchart-complete:disabled,\n",
              "  .colab-df-quickchart-complete:disabled:hover {\n",
              "    background-color: var(--disabled-bg-color);\n",
              "    fill: var(--disabled-fill-color);\n",
              "    box-shadow: none;\n",
              "  }\n",
              "\n",
              "  .colab-df-spinner {\n",
              "    border: 2px solid var(--fill-color);\n",
              "    border-color: transparent;\n",
              "    border-bottom-color: var(--fill-color);\n",
              "    animation:\n",
              "      spin 1s steps(1) infinite;\n",
              "  }\n",
              "\n",
              "  @keyframes spin {\n",
              "    0% {\n",
              "      border-color: transparent;\n",
              "      border-bottom-color: var(--fill-color);\n",
              "      border-left-color: var(--fill-color);\n",
              "    }\n",
              "    20% {\n",
              "      border-color: transparent;\n",
              "      border-left-color: var(--fill-color);\n",
              "      border-top-color: var(--fill-color);\n",
              "    }\n",
              "    30% {\n",
              "      border-color: transparent;\n",
              "      border-left-color: var(--fill-color);\n",
              "      border-top-color: var(--fill-color);\n",
              "      border-right-color: var(--fill-color);\n",
              "    }\n",
              "    40% {\n",
              "      border-color: transparent;\n",
              "      border-right-color: var(--fill-color);\n",
              "      border-top-color: var(--fill-color);\n",
              "    }\n",
              "    60% {\n",
              "      border-color: transparent;\n",
              "      border-right-color: var(--fill-color);\n",
              "    }\n",
              "    80% {\n",
              "      border-color: transparent;\n",
              "      border-right-color: var(--fill-color);\n",
              "      border-bottom-color: var(--fill-color);\n",
              "    }\n",
              "    90% {\n",
              "      border-color: transparent;\n",
              "      border-bottom-color: var(--fill-color);\n",
              "    }\n",
              "  }\n",
              "</style>\n",
              "\n",
              "  <script>\n",
              "    async function quickchart(key) {\n",
              "      const quickchartButtonEl =\n",
              "        document.querySelector('#' + key + ' button');\n",
              "      quickchartButtonEl.disabled = true;  // To prevent multiple clicks.\n",
              "      quickchartButtonEl.classList.add('colab-df-spinner');\n",
              "      try {\n",
              "        const charts = await google.colab.kernel.invokeFunction(\n",
              "            'suggestCharts', [key], {});\n",
              "      } catch (error) {\n",
              "        console.error('Error during call to suggestCharts:', error);\n",
              "      }\n",
              "      quickchartButtonEl.classList.remove('colab-df-spinner');\n",
              "      quickchartButtonEl.classList.add('colab-df-quickchart-complete');\n",
              "    }\n",
              "    (() => {\n",
              "      let quickchartButtonEl =\n",
              "        document.querySelector('#df-f6afa923-7ba6-4514-8b8d-c2ffcc2c9b75 button');\n",
              "      quickchartButtonEl.style.display =\n",
              "        google.colab.kernel.accessAllowed ? 'block' : 'none';\n",
              "    })();\n",
              "  </script>\n",
              "</div>\n",
              "\n",
              "  <div id=\"id_b171c5c9-3d40-4f0e-8c45-5f45d4a2589e\">\n",
              "    <style>\n",
              "      .colab-df-generate {\n",
              "        background-color: #E8F0FE;\n",
              "        border: none;\n",
              "        border-radius: 50%;\n",
              "        cursor: pointer;\n",
              "        display: none;\n",
              "        fill: #1967D2;\n",
              "        height: 32px;\n",
              "        padding: 0 0 0 0;\n",
              "        width: 32px;\n",
              "      }\n",
              "\n",
              "      .colab-df-generate:hover {\n",
              "        background-color: #E2EBFA;\n",
              "        box-shadow: 0px 1px 2px rgba(60, 64, 67, 0.3), 0px 1px 3px 1px rgba(60, 64, 67, 0.15);\n",
              "        fill: #174EA6;\n",
              "      }\n",
              "\n",
              "      [theme=dark] .colab-df-generate {\n",
              "        background-color: #3B4455;\n",
              "        fill: #D2E3FC;\n",
              "      }\n",
              "\n",
              "      [theme=dark] .colab-df-generate:hover {\n",
              "        background-color: #434B5C;\n",
              "        box-shadow: 0px 1px 3px 1px rgba(0, 0, 0, 0.15);\n",
              "        filter: drop-shadow(0px 1px 2px rgba(0, 0, 0, 0.3));\n",
              "        fill: #FFFFFF;\n",
              "      }\n",
              "    </style>\n",
              "    <button class=\"colab-df-generate\" onclick=\"generateWithVariable('all_posts')\"\n",
              "            title=\"Generate code using this dataframe.\"\n",
              "            style=\"display:none;\">\n",
              "\n",
              "  <svg xmlns=\"http://www.w3.org/2000/svg\" height=\"24px\"viewBox=\"0 0 24 24\"\n",
              "       width=\"24px\">\n",
              "    <path d=\"M7,19H8.4L18.45,9,17,7.55,7,17.6ZM5,21V16.75L18.45,3.32a2,2,0,0,1,2.83,0l1.4,1.43a1.91,1.91,0,0,1,.58,1.4,1.91,1.91,0,0,1-.58,1.4L9.25,21ZM18.45,9,17,7.55Zm-12,3A5.31,5.31,0,0,0,4.9,8.1,5.31,5.31,0,0,0,1,6.5,5.31,5.31,0,0,0,4.9,4.9,5.31,5.31,0,0,0,6.5,1,5.31,5.31,0,0,0,8.1,4.9,5.31,5.31,0,0,0,12,6.5,5.46,5.46,0,0,0,6.5,12Z\"/>\n",
              "  </svg>\n",
              "    </button>\n",
              "    <script>\n",
              "      (() => {\n",
              "      const buttonEl =\n",
              "        document.querySelector('#id_b171c5c9-3d40-4f0e-8c45-5f45d4a2589e button.colab-df-generate');\n",
              "      buttonEl.style.display =\n",
              "        google.colab.kernel.accessAllowed ? 'block' : 'none';\n",
              "\n",
              "      buttonEl.onclick = () => {\n",
              "        google.colab.notebook.generateWithVariable('all_posts');\n",
              "      }\n",
              "      })();\n",
              "    </script>\n",
              "  </div>\n",
              "\n",
              "    </div>\n",
              "  </div>\n"
            ],
            "text/plain": [
              "                                         cleaned_data\n",
              "0   ﺿﻤﻦ ﺍﻟﺘﻘﺮﻳﺮ ﺗﺴﻠﻤﻪ ﻋﺰﻳﺰ ﺃﺧﻨﻮﺵ، ﺭﺋﻴﺲ ﺍﻟﺤﻜﻮﻣﺔ، ﻧﻬ...\n",
              "1   ﻳﺘﺠﺪﺩ ﺍﻟﻨﻘﺎﺵ ﺃﻭﺳﺎﻁ ﺍﻟﻤﻬﺘﻤﻴﻦ ﺑﺸﺆﻭﻥ ﺍﻟﻤﺮﺃﺓ ﻭﺣﻘﻮﻗ...\n",
              "2   ﺃﻋﻠﻦ ﺷﻜﻴﺐ ﺑﻨﻤﻮﺳﻰ، ﻭﺯﻳﺮ ﺍﻟﺘﺮﺑﻴﺔ ﺍﻟﻮﻃﻨﻴﺔ ﻭﺍﻟﺘﻌﻠﻴ...\n",
              "3   ﺗﺘﺠﻪ ﺃﻧﻈﺎﺭ ﺷﺒﻜﺎﺕ ﺍﻟﻬﺠﺮﺓ ﺍﻟﺴﺮﻳﺔ ﺑﺎﻟﻤﻐﺮﺏ ﻣﻮﻋﺪ ﻋﻴ...\n",
              "4   ﺗﻮﺻﻠﺖ ﺟﺮﻳﺪﺓ ﻫﺴﺒﺮﻳﺲ ﺍﻹﻟﻜﺘﺮﻭﻧﻴﺔ ﺑﺮﺩ ﺟﻤﻌﻴﺔ ﺍﻷﻋﻤﺎﻝ...\n",
              "5   ﻏﻴﺮ ﺯﻟﺰﺍﻝ ﺷﺘﻨﺒﺮ ﻭﺟﻪ ﺍﻟﺤﻴﺎﺓ ﻛﻠﻴﺎ ﺑﺎﻟﻤﻨﺎﻃﻖ ﺍﻟﻤﻨﻜ...\n",
              "6   ﻳﺤﻞ ﺍﻟﻴﻮﻡ ﺍﻟﻌﺎﻟﻤﻲ ﻟﻠﺼﺤﺔ ﺍﻟﺴﻨﺔ ﻳﺼﺎﺩﻑ ﺍﻟﺴﺎﺑﻊ ﺳﻨﺔ...\n",
              "7   ﺃﺛﺎﺭﺕ ﺍﻟﺘﺴﺮﻳﺒﺎﺕ ﺍﻟﺨﺎﺻﺔ ﺑﺘﻮﺻﻴﺎﺕ ﻣﺮﺍﺟﻌﺔ ﻣﺪﻭﻧﺔ ﺍﻷ...\n",
              "8   ﺑﻘﺎﺀ ﻓﺘﺮﺓ ﺑﺎﻟﻄﻮﻳﻠﺔ ﻣﻮﻋﺪ ﺍﻣﺘﺤﺎﻧﺎﺕ ﺍﻟﺒﺎﻛﺎﻟﻮﺭﻳﺎ ﺑ...\n",
              "9   ﻋﻠﻤﺖ ﺟﺮﻳﺪﺓ ﻫﺴﺒﺮﻳﺲ ﻗﻴﺎﺩﺍﺕ ﻧﻘﺎﺑﻴﺔ ﺍﻟﺤﻜﻮﻣﺔ ﺷﺮﻋﺖ ﺇ...\n",
              "10  ﺩﺍﻓﻊ ﺷﻜﻴﺐ ﺑﻨﻤﻮﺳﻰ، ﻭﺯﻳﺮ ﺍﻟﺘﺮﺑﻴﺔ ﺍﻟﻮﻃﻨﻴﺔ ﻭﺍﻟﺘﻌﻠﻴ...\n",
              "11  ﺃﻃﻠﻘﺖ ﻓﺪﺭﺍﻟﻴﺔ ﺭﺍﺑﻄﺔ ﺣﻘﻮﻕ ﺍﻟﻨﺴﺎﺀ ﺣﻤﻠﺔ ﺗﻮﺍﺻﻠﻴﺔ ﺗ..."
            ]
          },
          "execution_count": 17,
          "metadata": {},
          "output_type": "execute_result"
        }
      ],
      "source": [
        "all_posts = pd.read_csv(\"cleaned_hespress-posts.csv\")\n",
        "all_posts"
      ]
    },
    {
      "cell_type": "code",
      "execution_count": 21,
      "id": "8mWz7EgRdvh9",
      "metadata": {
        "colab": {
          "base_uri": "https://localhost:8080/"
        },
        "id": "8mWz7EgRdvh9",
        "outputId": "90727142-a7ad-4b5f-db9b-413424e82f9d"
      },
      "outputs": [
        {
          "name": "stderr",
          "output_type": "stream",
          "text": [
            "[nltk_data] Downloading package punkt to /root/nltk_data...\n",
            "[nltk_data]   Unzipping tokenizers/punkt.zip.\n"
          ]
        },
        {
          "data": {
            "text/plain": [
              "True"
            ]
          },
          "execution_count": 21,
          "metadata": {},
          "output_type": "execute_result"
        }
      ],
      "source": [
        "import nltk\n",
        "nltk.download('punkt')"
      ]
    },
    {
      "cell_type": "code",
      "execution_count": 18,
      "id": "3vUmvSxMdesF",
      "metadata": {
        "id": "3vUmvSxMdesF"
      },
      "outputs": [],
      "source": [
        "from nltk.tokenize import word_tokenize"
      ]
    },
    {
      "cell_type": "code",
      "execution_count": 22,
      "id": "QONp2t3ldfvY",
      "metadata": {
        "id": "QONp2t3ldfvY"
      },
      "outputs": [],
      "source": [
        "post_tokens = []\n",
        "\n",
        "# tokenize each text\n",
        "for i in range(len(all_posts)):\n",
        "    tokens = word_tokenize(all_posts[\"cleaned_data\"][i])\n",
        "    post_tokens.append(tokens)\n",
        "\n",
        "all_posts[\"tokens\"] = post_tokens"
      ]
    },
    {
      "cell_type": "markdown",
      "id": "22daf2bb-c171-40aa-8a88-4f90164a07c9",
      "metadata": {
        "id": "22daf2bb-c171-40aa-8a88-4f90164a07c9"
      },
      "source": [
        "### I alredy apply on this data : cleaning the text, tokenization, Remove stop words, normalize the text and Lemmatization, from the lab 1."
      ]
    },
    {
      "cell_type": "markdown",
      "id": "430b20dc-3e41-49ad-9e50-53b4bf4f1f6e",
      "metadata": {
        "id": "430b20dc-3e41-49ad-9e50-53b4bf4f1f6e"
      },
      "source": [
        "### 1. Apply one hot encoding, bag of words, TF-IDF technics on the Data vectors collected during the lab 1."
      ]
    },
    {
      "cell_type": "code",
      "execution_count": null,
      "id": "e8e5879c-c53f-4990-9bab-c63e159939c2",
      "metadata": {
        "id": "e8e5879c-c53f-4990-9bab-c63e159939c2"
      },
      "outputs": [],
      "source": [
        "from nltk.tokenize import word_tokenize"
      ]
    },
    {
      "cell_type": "code",
      "execution_count": null,
      "id": "728af7a6-84f8-405e-b1c1-c9a433ebf268",
      "metadata": {
        "id": "728af7a6-84f8-405e-b1c1-c9a433ebf268"
      },
      "outputs": [],
      "source": [
        "post_tokens = []\n",
        "\n",
        "# tokenize each text\n",
        "for i in range(len(all_posts)):\n",
        "    tokens = word_tokenize(all_posts[\"cleaned_posts\"][i])\n",
        "    post_tokens.append(tokens)\n",
        "\n",
        "all_posts[\"tokens\"] = post_tokens"
      ]
    },
    {
      "cell_type": "code",
      "execution_count": null,
      "id": "6d16596e-ddda-438a-b912-46004cec270c",
      "metadata": {
        "id": "6d16596e-ddda-438a-b912-46004cec270c",
        "outputId": "92449c46-a281-45a3-e770-b62c7bf605d5"
      },
      "outputs": [
        {
          "data": {
            "text/html": [
              "<div>\n",
              "<style scoped>\n",
              "    .dataframe tbody tr th:only-of-type {\n",
              "        vertical-align: middle;\n",
              "    }\n",
              "\n",
              "    .dataframe tbody tr th {\n",
              "        vertical-align: top;\n",
              "    }\n",
              "\n",
              "    .dataframe thead th {\n",
              "        text-align: right;\n",
              "    }\n",
              "</style>\n",
              "<table border=\"1\" class=\"dataframe\">\n",
              "  <thead>\n",
              "    <tr style=\"text-align: right;\">\n",
              "      <th></th>\n",
              "      <th>cleaned_posts</th>\n",
              "      <th>tokens</th>\n",
              "    </tr>\n",
              "  </thead>\n",
              "  <tbody>\n",
              "    <tr>\n",
              "      <th>0</th>\n",
              "      <td>ﺿﻤﻦ ﺍﻟﺘﻘﺮﻳﺮ ﺗﺴﻠﻤﻪ ﻋﺰﻳﺰ ﺃﺧﻨﻮﺵ، ﺭﺋﻴﺲ ﺍﻟﺤﻜﻮﻣﺔ، ﻧﻬ...</td>\n",
              "      <td>[ﺿﻤﻦ, ﺍﻟﺘﻘﺮﻳﺮ, ﺗﺴﻠﻤﻪ, ﻋﺰﻳﺰ, ﺃﺧﻨﻮﺵ،, ﺭﺋﻴﺲ, ﺍﻟﺤﻜ...</td>\n",
              "    </tr>\n",
              "    <tr>\n",
              "      <th>1</th>\n",
              "      <td>ﻳﺘﺠﺪﺩ ﺍﻟﻨﻘﺎﺵ ﺃﻭﺳﺎﻁ ﺍﻟﻤﻬﺘﻤﻴﻦ ﺑﺸﺆﻭﻥ ﺍﻟﻤﺮﺃﺓ ﻭﺣﻘﻮﻗ...</td>\n",
              "      <td>[ﻳﺘﺠﺪﺩ, ﺍﻟﻨﻘﺎﺵ, ﺃﻭﺳﺎﻁ, ﺍﻟﻤﻬﺘﻤﻴﻦ, ﺑﺸﺆﻭﻥ, ﺍﻟﻤﺮﺃﺓ...</td>\n",
              "    </tr>\n",
              "    <tr>\n",
              "      <th>2</th>\n",
              "      <td>ﺃﻋﻠﻦ ﺷﻜﻴﺐ ﺑﻨﻤﻮﺳﻰ، ﻭﺯﻳﺮ ﺍﻟﺘﺮﺑﻴﺔ ﺍﻟﻮﻃﻨﻴﺔ ﻭﺍﻟﺘﻌﻠﻴ...</td>\n",
              "      <td>[ﺃﻋﻠﻦ, ﺷﻜﻴﺐ, ﺑﻨﻤﻮﺳﻰ،, ﻭﺯﻳﺮ, ﺍﻟﺘﺮﺑﻴﺔ, ﺍﻟﻮﻃﻨﻴﺔ, ...</td>\n",
              "    </tr>\n",
              "    <tr>\n",
              "      <th>3</th>\n",
              "      <td>ﺗﺘﺠﻪ ﺃﻧﻈﺎﺭ ﺷﺒﻜﺎﺕ ﺍﻟﻬﺠﺮﺓ ﺍﻟﺴﺮﻳﺔ ﺑﺎﻟﻤﻐﺮﺏ ﻣﻮﻋﺪ ﻋﻴ...</td>\n",
              "      <td>[ﺗﺘﺠﻪ, ﺃﻧﻈﺎﺭ, ﺷﺒﻜﺎﺕ, ﺍﻟﻬﺠﺮﺓ, ﺍﻟﺴﺮﻳﺔ, ﺑﺎﻟﻤﻐﺮﺏ, ...</td>\n",
              "    </tr>\n",
              "    <tr>\n",
              "      <th>4</th>\n",
              "      <td>ﺗﻮﺻﻠﺖ ﺟﺮﻳﺪﺓ ﻫﺴﺒﺮﻳﺲ ﺍﻹﻟﻜﺘﺮﻭﻧﻴﺔ ﺑﺮﺩ ﺟﻤﻌﻴﺔ ﺍﻷﻋﻤﺎﻝ...</td>\n",
              "      <td>[ﺗﻮﺻﻠﺖ, ﺟﺮﻳﺪﺓ, ﻫﺴﺒﺮﻳﺲ, ﺍﻹﻟﻜﺘﺮﻭﻧﻴﺔ, ﺑﺮﺩ, ﺟﻤﻌﻴﺔ,...</td>\n",
              "    </tr>\n",
              "  </tbody>\n",
              "</table>\n",
              "</div>"
            ],
            "text/plain": [
              "                                       cleaned_posts  \\\n",
              "0  ﺿﻤﻦ ﺍﻟﺘﻘﺮﻳﺮ ﺗﺴﻠﻤﻪ ﻋﺰﻳﺰ ﺃﺧﻨﻮﺵ، ﺭﺋﻴﺲ ﺍﻟﺤﻜﻮﻣﺔ، ﻧﻬ...   \n",
              "1  ﻳﺘﺠﺪﺩ ﺍﻟﻨﻘﺎﺵ ﺃﻭﺳﺎﻁ ﺍﻟﻤﻬﺘﻤﻴﻦ ﺑﺸﺆﻭﻥ ﺍﻟﻤﺮﺃﺓ ﻭﺣﻘﻮﻗ...   \n",
              "2  ﺃﻋﻠﻦ ﺷﻜﻴﺐ ﺑﻨﻤﻮﺳﻰ، ﻭﺯﻳﺮ ﺍﻟﺘﺮﺑﻴﺔ ﺍﻟﻮﻃﻨﻴﺔ ﻭﺍﻟﺘﻌﻠﻴ...   \n",
              "3  ﺗﺘﺠﻪ ﺃﻧﻈﺎﺭ ﺷﺒﻜﺎﺕ ﺍﻟﻬﺠﺮﺓ ﺍﻟﺴﺮﻳﺔ ﺑﺎﻟﻤﻐﺮﺏ ﻣﻮﻋﺪ ﻋﻴ...   \n",
              "4  ﺗﻮﺻﻠﺖ ﺟﺮﻳﺪﺓ ﻫﺴﺒﺮﻳﺲ ﺍﻹﻟﻜﺘﺮﻭﻧﻴﺔ ﺑﺮﺩ ﺟﻤﻌﻴﺔ ﺍﻷﻋﻤﺎﻝ...   \n",
              "\n",
              "                                              tokens  \n",
              "0  [ﺿﻤﻦ, ﺍﻟﺘﻘﺮﻳﺮ, ﺗﺴﻠﻤﻪ, ﻋﺰﻳﺰ, ﺃﺧﻨﻮﺵ،, ﺭﺋﻴﺲ, ﺍﻟﺤﻜ...  \n",
              "1  [ﻳﺘﺠﺪﺩ, ﺍﻟﻨﻘﺎﺵ, ﺃﻭﺳﺎﻁ, ﺍﻟﻤﻬﺘﻤﻴﻦ, ﺑﺸﺆﻭﻥ, ﺍﻟﻤﺮﺃﺓ...  \n",
              "2  [ﺃﻋﻠﻦ, ﺷﻜﻴﺐ, ﺑﻨﻤﻮﺳﻰ،, ﻭﺯﻳﺮ, ﺍﻟﺘﺮﺑﻴﺔ, ﺍﻟﻮﻃﻨﻴﺔ, ...  \n",
              "3  [ﺗﺘﺠﻪ, ﺃﻧﻈﺎﺭ, ﺷﺒﻜﺎﺕ, ﺍﻟﻬﺠﺮﺓ, ﺍﻟﺴﺮﻳﺔ, ﺑﺎﻟﻤﻐﺮﺏ, ...  \n",
              "4  [ﺗﻮﺻﻠﺖ, ﺟﺮﻳﺪﺓ, ﻫﺴﺒﺮﻳﺲ, ﺍﻹﻟﻜﺘﺮﻭﻧﻴﺔ, ﺑﺮﺩ, ﺟﻤﻌﻴﺔ,...  "
            ]
          },
          "execution_count": 6,
          "metadata": {},
          "output_type": "execute_result"
        }
      ],
      "source": [
        "all_posts.head()"
      ]
    },
    {
      "cell_type": "code",
      "execution_count": null,
      "id": "031edc07-236e-4d6f-89e1-37c9a50772cf",
      "metadata": {
        "id": "031edc07-236e-4d6f-89e1-37c9a50772cf",
        "outputId": "ae847011-07b4-4630-db8b-c42c3de9dfd5"
      },
      "outputs": [
        {
          "name": "stdout",
          "output_type": "stream",
          "text": [
            "['ﺿﻤﻦ', 'ﺍﻟﺘﻘﺮﻳﺮ', 'ﺗﺴﻠﻤﻪ', 'ﻋﺰﻳﺰ', 'ﺃﺧﻨﻮﺵ،', 'ﺭﺋﻴﺲ', 'ﺍﻟﺤﻜﻮﻣﺔ،', 'ﻧﻬﺎﻳﺔ', 'ﺷﻬﺮ', 'ﺍﻟﻤﺎﺿﻲ،', 'ﺍﻟﻬﻴﺌﺔ', 'ﺍﻟﻤﻜﻠﻔﺔ', 'ﺑﻤﺮﺍﺟﻌﺔ', 'ﻣﺪﻭﻧﺔ', 'ﺍﻷﺳﺮﺓ،', 'ﺍﻟﻤﻘﺮﺭ', 'ﺭﻓﻌﻪ', 'ﺍﻟﻤﻠﻚ', 'ﻣﺤﻤﺪ', 'ﺍﻟﺴﺎﺩﺱ،', 'ﻻﻓﺘﺎ', 'ﻭﺟﻮﺩ', 'ﻣﻘﺘﺮﺡ', 'ﺗﻄﺮﻕ', 'ﺗﻘﺴﻴﻢ', 'ﺍﻟﺘﺮﻛﺔ', 'ﺧﻼﻝ', 'ﺗﺨﻮﻳﻞ', 'ﺻﺎﺣﺐ', 'ﺍﻟﻤﺎﻝ', 'ﻭﺍﻷﺻﻮﻝ', 'ﺳﻠﻄﺔ', 'ﺍﺧﺘﻴﺎﺭ', 'ﺍﻟﻨﻈﺎﻡ', 'ﺍﻟﻤﻄﺒﻖ،', 'ﺍﻟﻤﻴﺮﺍﺙ', 'ﺍﻟﻮﺻﻴﺔ،', 'ﺗﻮﺳﻴﻊ', 'ﻧﻄﺎﻕ', 'ﺍﻷﺧﻴﺮﺓ', 'ﻟﺘﺸﻤﻞ', 'ﺍﻷﺣﻔﺎﺩ', 'ﻭﺭﻓﻊ', 'ﺍﻟﻘﻴﻮﺩ', 'ﺍﻟﻤﻔﺮﻭﺿﺔ', 'ﻋﻠﻴﻬﺎ', 'ﻭﻋﻠﻰ', 'ﺍﻟﺮﻏﻢ', 'ﺍﻟﻤﻘﺘﺮﺡ،', 'ﻋﺪﻩ']\n"
          ]
        }
      ],
      "source": [
        "print(post_tokens[0][:50])"
      ]
    },
    {
      "cell_type": "code",
      "execution_count": null,
      "id": "0c420f7f-6a83-4b2e-9ead-e881246bc215",
      "metadata": {
        "id": "0c420f7f-6a83-4b2e-9ead-e881246bc215"
      },
      "outputs": [],
      "source": [
        "from sklearn.preprocessing import OneHotEncoder\n",
        "from sklearn.feature_extraction.text import CountVectorizer\n",
        "from sklearn.feature_extraction.text import TfidfVectorizer"
      ]
    },
    {
      "cell_type": "markdown",
      "id": "d0a20872-3f43-4bf6-973c-9d9b3ee387fb",
      "metadata": {
        "id": "d0a20872-3f43-4bf6-973c-9d9b3ee387fb"
      },
      "source": [
        "#### 1. One-Hot Encoding:"
      ]
    },
    {
      "cell_type": "markdown",
      "id": "db915168-25b2-4f36-849e-30db7118c36a",
      "metadata": {
        "id": "db915168-25b2-4f36-849e-30db7118c36a"
      },
      "source": [
        "* test :"
      ]
    },
    {
      "cell_type": "code",
      "execution_count": null,
      "id": "03a1c5f1-b7f7-461c-a153-9ee62eee2428",
      "metadata": {
        "id": "03a1c5f1-b7f7-461c-a153-9ee62eee2428",
        "outputId": "05db1001-718e-433c-9447-16bc7bc11fb5"
      },
      "outputs": [
        {
          "name": "stdout",
          "output_type": "stream",
          "text": [
            "ﺿﻤﻦ : [0. 0. 0. 0. 0. 1. 0.]\n",
            "ﺍﻟﺘﻘﺮﻳﺮ : [0. 0. 0. 0. 1. 0. 0.]\n",
            "ﺗﺴﻠﻤﻪ : [0. 0. 1. 0. 0. 0. 0.]\n",
            "ﻋﺰﻳﺰ : [0. 0. 0. 0. 0. 0. 1.]\n",
            "ﺃﺧﻨﻮﺵ، : [0. 0. 0. 1. 0. 0. 0.]\n",
            "ﺭﺋﻴﺲ : [0. 1. 0. 0. 0. 0. 0.]\n",
            "ﺍﻟﺤﻜﻮﻣﺔ، : [1. 0. 0. 0. 0. 0. 0.]\n"
          ]
        }
      ],
      "source": [
        "test_tokens = ['ﺿﻤﻦ', 'ﺍﻟﺘﻘﺮﻳﺮ', 'ﺗﺴﻠﻤﻪ', 'ﻋﺰﻳﺰ', 'ﺃﺧﻨﻮﺵ،', 'ﺭﺋﻴﺲ', 'ﺍﻟﺤﻜﻮﻣﺔ،']\n",
        "\n",
        "token_indices2 = {token: i for i, token in enumerate(set(test_tokens))}\n",
        "encoded_tokens2 = [[token_indices2[token]] for token in test_tokens]\n",
        "encoded_tokens_array2 = np.array(encoded_tokens2)\n",
        "encoded_tokens_array2 = encoded_tokens_array2.reshape(-1, 1)\n",
        "encoder2 = OneHotEncoder()\n",
        "one_hot_encoded2 = encoder2.fit_transform(encoded_tokens_array2).toarray()\n",
        "for token, encoded in zip(test_tokens, one_hot_encoded2):\n",
        "    print(f\"{token} : {encoded}\")"
      ]
    },
    {
      "cell_type": "markdown",
      "id": "6011b88f-2aef-4560-bc21-1771e8683069",
      "metadata": {
        "id": "6011b88f-2aef-4560-bc21-1771e8683069"
      },
      "source": [
        "* apply on real data :"
      ]
    },
    {
      "cell_type": "code",
      "execution_count": null,
      "id": "4fae2229-ad99-484a-bbb6-51884d45238c",
      "metadata": {
        "id": "4fae2229-ad99-484a-bbb6-51884d45238c",
        "outputId": "f5b7f4f7-2575-4cf5-a361-76f02ae4b05a"
      },
      "outputs": [
        {
          "name": "stdout",
          "output_type": "stream",
          "text": [
            "display the encodage (One-Hot Encoded) of the first '3' tokens : \n",
            "ﺿﻤﻦ: [0. 0. 0. 0. 0. 0. 0. 0. 0. 0. 0. 0. 0. 0. 0. 0. 0. 0. 0. 0. 0. 0. 0. 0.\n",
            " 0. 0. 0. 0. 0. 0. 0. 0. 0. 0. 0. 0. 0. 0. 0. 0. 0. 0. 0. 0. 0. 0. 0. 0.\n",
            " 0. 0. 0. 0. 0. 0. 0. 0. 0. 0. 0. 0. 0. 0. 0. 0. 0. 0. 0. 0. 0. 0. 0. 0.\n",
            " 0. 0. 0. 0. 0. 0. 0. 0. 0. 0. 0. 0. 0. 0. 0. 0. 0. 0. 0. 0. 0. 0. 0. 0.\n",
            " 0. 0. 0. 0. 0. 0. 0. 0. 0. 0. 0. 0. 0. 0. 0. 0. 0. 0. 0. 0. 0. 0. 0. 0.\n",
            " 0. 0. 0. 0. 0. 0. 0. 0. 0. 0. 0. 0. 0. 0. 0. 0. 0. 0. 0. 0. 0. 0. 0. 0.\n",
            " 0. 0. 0. 0. 0. 0. 0. 0. 0. 0. 0. 0. 0. 0. 0. 0. 0. 0. 0. 0. 0. 0. 0. 0.\n",
            " 0. 0. 0. 0. 0. 0. 0. 0. 0. 0. 0. 0. 0. 0. 0. 0. 0. 0. 0. 0. 0. 0. 0. 0.\n",
            " 0. 0. 0. 0. 0. 0. 0. 0. 0. 0. 0. 0. 0. 0. 0. 0. 0. 0. 0. 0. 0. 0. 0. 0.\n",
            " 0. 0. 0. 0. 0. 0. 0. 0. 0. 0. 0. 0. 0. 0. 0. 0. 0. 0. 0. 0. 0. 0. 0. 0.\n",
            " 0. 0. 0. 1. 0. 0. 0. 0. 0. 0. 0. 0. 0. 0. 0. 0. 0. 0. 0. 0. 0. 0. 0. 0.\n",
            " 0. 0. 0. 0. 0. 0. 0. 0. 0. 0. 0. 0. 0. 0. 0. 0. 0. 0. 0. 0. 0. 0. 0. 0.\n",
            " 0. 0. 0. 0. 0. 0. 0. 0. 0. 0. 0. 0. 0. 0. 0. 0. 0. 0. 0. 0. 0. 0. 0. 0.\n",
            " 0. 0. 0. 0. 0. 0. 0. 0. 0. 0. 0. 0. 0. 0. 0. 0. 0. 0. 0. 0. 0. 0. 0. 0.\n",
            " 0. 0. 0. 0. 0. 0. 0. 0. 0. 0. 0. 0. 0. 0. 0. 0. 0. 0. 0. 0. 0. 0. 0. 0.\n",
            " 0. 0. 0. 0. 0. 0. 0. 0. 0. 0. 0. 0. 0. 0. 0. 0. 0. 0. 0. 0. 0. 0. 0. 0.\n",
            " 0. 0. 0. 0. 0. 0. 0. 0. 0. 0. 0. 0. 0. 0. 0. 0. 0. 0. 0. 0. 0. 0. 0. 0.\n",
            " 0. 0. 0. 0. 0. 0. 0.]\n",
            "ﺍﻟﺘﻘﺮﻳﺮ: [0. 0. 0. 0. 0. 0. 0. 0. 0. 0. 0. 0. 0. 0. 0. 0. 0. 0. 0. 0. 0. 0. 0. 0.\n",
            " 0. 0. 0. 0. 0. 0. 0. 0. 0. 0. 0. 0. 0. 0. 0. 0. 0. 0. 0. 0. 0. 0. 0. 0.\n",
            " 0. 0. 0. 0. 0. 0. 0. 0. 0. 1. 0. 0. 0. 0. 0. 0. 0. 0. 0. 0. 0. 0. 0. 0.\n",
            " 0. 0. 0. 0. 0. 0. 0. 0. 0. 0. 0. 0. 0. 0. 0. 0. 0. 0. 0. 0. 0. 0. 0. 0.\n",
            " 0. 0. 0. 0. 0. 0. 0. 0. 0. 0. 0. 0. 0. 0. 0. 0. 0. 0. 0. 0. 0. 0. 0. 0.\n",
            " 0. 0. 0. 0. 0. 0. 0. 0. 0. 0. 0. 0. 0. 0. 0. 0. 0. 0. 0. 0. 0. 0. 0. 0.\n",
            " 0. 0. 0. 0. 0. 0. 0. 0. 0. 0. 0. 0. 0. 0. 0. 0. 0. 0. 0. 0. 0. 0. 0. 0.\n",
            " 0. 0. 0. 0. 0. 0. 0. 0. 0. 0. 0. 0. 0. 0. 0. 0. 0. 0. 0. 0. 0. 0. 0. 0.\n",
            " 0. 0. 0. 0. 0. 0. 0. 0. 0. 0. 0. 0. 0. 0. 0. 0. 0. 0. 0. 0. 0. 0. 0. 0.\n",
            " 0. 0. 0. 0. 0. 0. 0. 0. 0. 0. 0. 0. 0. 0. 0. 0. 0. 0. 0. 0. 0. 0. 0. 0.\n",
            " 0. 0. 0. 0. 0. 0. 0. 0. 0. 0. 0. 0. 0. 0. 0. 0. 0. 0. 0. 0. 0. 0. 0. 0.\n",
            " 0. 0. 0. 0. 0. 0. 0. 0. 0. 0. 0. 0. 0. 0. 0. 0. 0. 0. 0. 0. 0. 0. 0. 0.\n",
            " 0. 0. 0. 0. 0. 0. 0. 0. 0. 0. 0. 0. 0. 0. 0. 0. 0. 0. 0. 0. 0. 0. 0. 0.\n",
            " 0. 0. 0. 0. 0. 0. 0. 0. 0. 0. 0. 0. 0. 0. 0. 0. 0. 0. 0. 0. 0. 0. 0. 0.\n",
            " 0. 0. 0. 0. 0. 0. 0. 0. 0. 0. 0. 0. 0. 0. 0. 0. 0. 0. 0. 0. 0. 0. 0. 0.\n",
            " 0. 0. 0. 0. 0. 0. 0. 0. 0. 0. 0. 0. 0. 0. 0. 0. 0. 0. 0. 0. 0. 0. 0. 0.\n",
            " 0. 0. 0. 0. 0. 0. 0. 0. 0. 0. 0. 0. 0. 0. 0. 0. 0. 0. 0. 0. 0. 0. 0. 0.\n",
            " 0. 0. 0. 0. 0. 0. 0.]\n",
            "ﺗﺴﻠﻤﻪ: [0. 0. 0. 0. 0. 0. 0. 0. 0. 0. 0. 0. 0. 0. 0. 0. 0. 0. 0. 0. 0. 0. 0. 0.\n",
            " 0. 0. 0. 0. 0. 0. 0. 0. 0. 0. 0. 0. 0. 0. 0. 0. 0. 0. 0. 0. 0. 0. 0. 0.\n",
            " 0. 0. 0. 0. 0. 0. 0. 0. 0. 0. 0. 0. 0. 0. 0. 0. 0. 0. 0. 0. 0. 0. 0. 0.\n",
            " 0. 0. 0. 0. 0. 0. 0. 0. 1. 0. 0. 0. 0. 0. 0. 0. 0. 0. 0. 0. 0. 0. 0. 0.\n",
            " 0. 0. 0. 0. 0. 0. 0. 0. 0. 0. 0. 0. 0. 0. 0. 0. 0. 0. 0. 0. 0. 0. 0. 0.\n",
            " 0. 0. 0. 0. 0. 0. 0. 0. 0. 0. 0. 0. 0. 0. 0. 0. 0. 0. 0. 0. 0. 0. 0. 0.\n",
            " 0. 0. 0. 0. 0. 0. 0. 0. 0. 0. 0. 0. 0. 0. 0. 0. 0. 0. 0. 0. 0. 0. 0. 0.\n",
            " 0. 0. 0. 0. 0. 0. 0. 0. 0. 0. 0. 0. 0. 0. 0. 0. 0. 0. 0. 0. 0. 0. 0. 0.\n",
            " 0. 0. 0. 0. 0. 0. 0. 0. 0. 0. 0. 0. 0. 0. 0. 0. 0. 0. 0. 0. 0. 0. 0. 0.\n",
            " 0. 0. 0. 0. 0. 0. 0. 0. 0. 0. 0. 0. 0. 0. 0. 0. 0. 0. 0. 0. 0. 0. 0. 0.\n",
            " 0. 0. 0. 0. 0. 0. 0. 0. 0. 0. 0. 0. 0. 0. 0. 0. 0. 0. 0. 0. 0. 0. 0. 0.\n",
            " 0. 0. 0. 0. 0. 0. 0. 0. 0. 0. 0. 0. 0. 0. 0. 0. 0. 0. 0. 0. 0. 0. 0. 0.\n",
            " 0. 0. 0. 0. 0. 0. 0. 0. 0. 0. 0. 0. 0. 0. 0. 0. 0. 0. 0. 0. 0. 0. 0. 0.\n",
            " 0. 0. 0. 0. 0. 0. 0. 0. 0. 0. 0. 0. 0. 0. 0. 0. 0. 0. 0. 0. 0. 0. 0. 0.\n",
            " 0. 0. 0. 0. 0. 0. 0. 0. 0. 0. 0. 0. 0. 0. 0. 0. 0. 0. 0. 0. 0. 0. 0. 0.\n",
            " 0. 0. 0. 0. 0. 0. 0. 0. 0. 0. 0. 0. 0. 0. 0. 0. 0. 0. 0. 0. 0. 0. 0. 0.\n",
            " 0. 0. 0. 0. 0. 0. 0. 0. 0. 0. 0. 0. 0. 0. 0. 0. 0. 0. 0. 0. 0. 0. 0. 0.\n",
            " 0. 0. 0. 0. 0. 0. 0.]\n"
          ]
        }
      ],
      "source": [
        "all_one_hot_encoded = []\n",
        "\n",
        "# tokenize each text\n",
        "for i in range(len(all_posts[\"tokens\"])):\n",
        "\n",
        "    tokens = all_posts[\"tokens\"][i]\n",
        "\n",
        "    # Convert tokens to indices\n",
        "    token_indices = {token: i for i, token in enumerate(set(tokens))}\n",
        "    encoded_tokens = [[token_indices[token]] for token in tokens]\n",
        "\n",
        "    # Convert the 2D list into a 2D NumPy array\n",
        "    encoded_tokens_array = np.array(encoded_tokens)\n",
        "\n",
        "    # Reshape the array to be 2D\n",
        "    encoded_tokens_array = encoded_tokens_array.reshape(-1, 1)\n",
        "\n",
        "    # Apply one-hot encoding\n",
        "    encoder = OneHotEncoder()\n",
        "    one_hot_encoded = encoder.fit_transform(encoded_tokens_array).toarray()\n",
        "    all_one_hot_encoded.append(one_hot_encoded)\n",
        "\n",
        "# display the encodage of the first 5 tokens\n",
        "print(\"display the encodage (One-Hot Encoded) of the first '3' tokens : \")\n",
        "for token, encoded in zip(post_tokens[0][:3], all_one_hot_encoded[0][:3]):\n",
        "    print(f\"{token}: {encoded}\")"
      ]
    },
    {
      "cell_type": "markdown",
      "id": "f037c6ce-2e79-4065-bbd2-30d04feffbe2",
      "metadata": {
        "id": "f037c6ce-2e79-4065-bbd2-30d04feffbe2"
      },
      "source": [
        "#### 2. Bag of Words:"
      ]
    },
    {
      "cell_type": "markdown",
      "id": "67d7205e-1a72-4d35-86f5-385485e77888",
      "metadata": {
        "id": "67d7205e-1a72-4d35-86f5-385485e77888"
      },
      "source": [
        "* test :"
      ]
    },
    {
      "cell_type": "code",
      "execution_count": null,
      "id": "0f190622-2d41-41df-b599-ef1921b6e467",
      "metadata": {
        "id": "0f190622-2d41-41df-b599-ef1921b6e467",
        "outputId": "caeeb06c-f943-4b2b-83f3-e81e64f86a9a"
      },
      "outputs": [
        {
          "name": "stdout",
          "output_type": "stream",
          "text": [
            "\n",
            "Bag of Words:\n",
            "ﺿﻤﻦ: 1\n",
            "ﺍﻟﺘﻘﺮﻳﺮ: 1\n",
            "ﺗﺴﻠﻤﻪ: 2\n",
            "ﻋﺰﻳﺰ: 1\n",
            "ﺃﺧﻨﻮﺵ: 2\n",
            "ﺭﺋﻴﺲ: 1\n",
            "ﺍﻟﺤﻜﻮﻣﺔ: 1\n"
          ]
        }
      ],
      "source": [
        "test_tokens = ['ﺿﻤﻦ', 'ﺍﻟﺘﻘﺮﻳﺮ', 'ﺗﺴﻠﻤﻪ', 'ﻋﺰﻳﺰ', 'ﺃﺧﻨﻮﺵ', 'ﺭﺋﻴﺲ', 'ﺍﻟﺤﻜﻮﻣﺔ', 'ﺍﻟﺤﻜﻮﻣﺔ', 'ﺭﺋﻴﺲ']\n",
        "\n",
        "text = \" \".join(test_tokens)\n",
        "# Apply Bag of Words\n",
        "vectorizer = CountVectorizer()\n",
        "bag_of_words = vectorizer.fit_transform([text]).toarray()\n",
        "\n",
        "print(\"\\nBag of Words:\")\n",
        "for token, count in zip(test_tokens, bag_of_words[0]):\n",
        "    print(f\"{token}: {count}\")"
      ]
    },
    {
      "cell_type": "markdown",
      "id": "fbb8dafe-32c4-4fa8-861a-1d6ea8290ad1",
      "metadata": {
        "id": "fbb8dafe-32c4-4fa8-861a-1d6ea8290ad1"
      },
      "source": [
        "* apply on real data :"
      ]
    },
    {
      "cell_type": "code",
      "execution_count": null,
      "id": "8c6c6e9d-096a-421f-91ee-fbde91934664",
      "metadata": {
        "id": "8c6c6e9d-096a-421f-91ee-fbde91934664",
        "outputId": "c0d1e986-149a-4fb5-f5e8-88a87be9c945"
      },
      "outputs": [
        {
          "name": "stdout",
          "output_type": "stream",
          "text": [
            "display the encodage (Bag of Words) of the first '100' tokens : \n",
            "ﺿﻤﻦ: 1 || ﺍﻟﺘﻘﺮﻳﺮ: 1 || ﺗﺴﻠﻤﻪ: 1 || ﻋﺰﻳﺰ: 1 || ﺃﺧﻨﻮﺵ،: 1 || ﺭﺋﻴﺲ: 1 || ﺍﻟﺤﻜﻮﻣﺔ،: 2 || ﻧﻬﺎﻳﺔ: 1 || ﺷﻬﺮ: 1 || ﺍﻟﻤﺎﺿﻲ،: 1 || ﺍﻟﻬﻴﺌﺔ: 1 || ﺍﻟﻤﻜﻠﻔﺔ: 1 || ﺑﻤﺮﺍﺟﻌﺔ: 2 || ﻣﺪﻭﻧﺔ: 1 || ﺍﻷﺳﺮﺓ،: 2 || ﺍﻟﻤﻘﺮﺭ: 3 || ﺭﻓﻌﻪ: 1 || ﺍﻟﻤﻠﻚ: 1 || ﻣﺤﻤﺪ: 1 || ﺍﻟﺴﺎﺩﺱ،: 1 || ﻻﻓﺘﺎ: 1 || ﻭﺟﻮﺩ: 1 || ﻣﻘﺘﺮﺡ: 1 || ﺗﻄﺮﻕ: 2 || ﺗﻘﺴﻴﻢ: 1 || ﺍﻟﺘﺮﻛﺔ: 1 || ﺧﻼﻝ: 1 || ﺗﺨﻮﻳﻞ: 1 || ﺻﺎﺣﺐ: 1 || ﺍﻟﻤﺎﻝ: 1 || ﻭﺍﻷﺻﻮﻝ: 1 || ﺳﻠﻄﺔ: 1 || ﺍﺧﺘﻴﺎﺭ: 3 || ﺍﻟﻨﻈﺎﻡ: 1 || ﺍﻟﻤﻄﺒﻖ،: 1 || ﺍﻟﻤﻴﺮﺍﺙ: 1 || ﺍﻟﻮﺻﻴﺔ،: 1 || ﺗﻮﺳﻴﻊ: 1 || ﻧﻄﺎﻕ: 3 || ﺍﻷﺧﻴﺮﺓ: 1 || ﻟﺘﺸﻤﻞ: 1 || ﺍﻷﺣﻔﺎﺩ: 1 || ﻭﺭﻓﻊ: 1 || ﺍﻟﻘﻴﻮﺩ: 1 || ﺍﻟﻤﻔﺮﻭﺿﺔ: 1 || ﻋﻠﻴﻬﺎ: 9 || ﻭﻋﻠﻰ: 1 || ﺍﻟﺮﻏﻢ: 1 || ﺍﻟﻤﻘﺘﺮﺡ،: 1 || ﻋﺪﻩ: 1 || ﻛﺜﻴﺮﻭﻥ: 1 || ﺗﺴﺮﻳﺒﺎ،: 1 || ﻋﻤﻮﻣﺎ: 1 || ﻭﺛﻴﻘﺔ: 3 || ﺭﺍﺋﺠﺔ: 1 || ﻳﺘﺼﻞ: 1 || ﺑﺘﻮﺻﻴﺎﺕ: 1 || ﺭﺳﻤﻴﺔ: 2 || ﻣﺮﻓﻮﻋﺔ: 1 || ﺍﻟﻤﻠﻚ: 1 || ﻣﺤﻤﺪ: 1 || ﺍﻟﺴﺎﺩﺱ؛: 1 || ﺟﻬﺎﺕ: 1 || ﻛﺜﻴﺮﺓ: 1 || ﺍﻟﺘﻘﻄﺘﻪ،: 1 || ﺧﺼﻮﺻﺎ: 1 || ﺍﻷﻗﻠﻴﺎﺕ: 1 || ﺍﻟﺪﻳﻨﻴﺔ: 1 || ﺑﺎﻟﻤﻐﺮﺏ،: 1 || ﻭﻧﻈﺮﺕ: 1 || ﺇﻟﻴﻪ: 1 || ﺑـﺘﻘﺪﻳﺮ: 1 || ﻛـﺤﻞ: 1 || ﺑﺮﺍﻏﻤﺎﺗﻲ: 1 || ﻳﺴﺎﻋﺪ: 1 || ﺗﻘﺴﻴﻢ: 1 || ﺍﻟﺘﺮﻛﺎﺕ: 1 || ﻭﻓﻖ: 1 || ﻣﻨﻄﻖ: 2 || ﺍﻟﻮﺻﻴﺔ،: 1 || ﻭﺗﻤﻜﻴﻦ: 1 || ﺍﻟﻤﻐﺎﺭﺑﺔ: 1 || ﺍﺧﺘﻴﺎﺭ: 1 || ﻳﻨﺎﺳﺐ: 1 || ﺷﻜﻞ: 3 || ﻋﻴﺸﻬﻢ: 1 || ﺍﻟﺪﻳﻦ: 2 || ﻭﺍﻟﻘﺎﻧﻮﻥ: 1 || ﺳﻌﻴﺪ: 1 || ﻧﺎﺷﻴﺪ،: 2 || ﺣﻘﻮﻗﻲ: 1 || ﻭﺑﺎﺣﺚ: 2 || ﺍﻟﻔﻜﺮ: 1 || ﺍﻟﺪﻳﻨﻲ،: 2 || ﺍﻋﺘﺒﺮ: 3 || ﻣﻘﺘﺮﺡ: 1 || ﺗﻀﻤﻴﻦ: 1 || ﺍﻟﻮﺻﻴﺔ: 1 || ﺿﻤﻦ: 1 || ﺍﻻﺧﺘﻴﺎﺭﺍﺕ: 1 || "
          ]
        }
      ],
      "source": [
        "all_bag_words = []\n",
        "\n",
        "# tokenize each text\n",
        "for i in range(len(all_posts[\"tokens\"])):\n",
        "    # Convert tokens to a single string\n",
        "    text = \" \".join(all_posts[\"tokens\"][i])\n",
        "\n",
        "    # Apply Bag of Words\n",
        "    vectorizer = CountVectorizer()\n",
        "    bag_of_words = vectorizer.fit_transform([text]).toarray()\n",
        "\n",
        "    all_bag_words.append(bag_of_words)\n",
        "\n",
        "# display the Bag of Words of the first 100 tokens\n",
        "print(\"display the encodage (Bag of Words) of the first '100' tokens : \")\n",
        "for token, count in zip(all_posts[\"tokens\"][0][:100], bag_of_words[0][:100]):\n",
        "    print(f\"{token}: {count}\", end=\" || \")"
      ]
    },
    {
      "cell_type": "markdown",
      "id": "e740e98d-2a52-4bf7-b1e7-2838590d23fc",
      "metadata": {
        "id": "e740e98d-2a52-4bf7-b1e7-2838590d23fc"
      },
      "source": [
        "#### 3. TF-IDF (Term Frequency-Inverse Document Frequency):"
      ]
    },
    {
      "cell_type": "markdown",
      "id": "3eb0652b-8a61-4367-a459-4248ac30b370",
      "metadata": {
        "id": "3eb0652b-8a61-4367-a459-4248ac30b370"
      },
      "source": [
        "* Test :"
      ]
    },
    {
      "cell_type": "code",
      "execution_count": null,
      "id": "6e2f3f4e-924a-4d93-a706-851586aa5ab2",
      "metadata": {
        "id": "6e2f3f4e-924a-4d93-a706-851586aa5ab2",
        "outputId": "4d3c89db-4e20-42d5-a3c0-ef377f186292"
      },
      "outputs": [
        {
          "name": "stdout",
          "output_type": "stream",
          "text": [
            "\n",
            "TF-IDF:\n",
            "ﺿﻤﻦ: 0.28\n",
            "ﺍﻟﺘﻘﺮﻳﺮ: 0.28\n",
            "ﺗﺴﻠﻤﻪ: 0.55\n",
            "ﻋﺰﻳﺰ: 0.28\n",
            "ﺃﺧﻨﻮﺵ: 0.55\n",
            "ﺭﺋﻴﺲ: 0.28\n",
            "ﺍﻟﺤﻜﻮﻣﺔ: 0.28\n"
          ]
        }
      ],
      "source": [
        "test_tokens = ['ﺿﻤﻦ', 'ﺍﻟﺘﻘﺮﻳﺮ', 'ﺗﺴﻠﻤﻪ', 'ﻋﺰﻳﺰ', 'ﺃﺧﻨﻮﺵ', 'ﺭﺋﻴﺲ', 'ﺍﻟﺤﻜﻮﻣﺔ', 'ﺍﻟﺤﻜﻮﻣﺔ', 'ﺭﺋﻴﺲ']\n",
        "text = \" \".join(test_tokens)\n",
        "# Apply TF-IDF\n",
        "tfidf_vectorizer = TfidfVectorizer()\n",
        "tfidf = tfidf_vectorizer.fit_transform([text]).toarray()\n",
        "\n",
        "print(\"\\nTF-IDF:\")\n",
        "for token, score in zip(test_tokens, tfidf[0]):\n",
        "    print(f\"{token}: {score:.2f}\")\n"
      ]
    },
    {
      "cell_type": "markdown",
      "id": "0e634b40-34e7-46a6-af9f-e35aaefc0316",
      "metadata": {
        "id": "0e634b40-34e7-46a6-af9f-e35aaefc0316"
      },
      "source": [
        "* apply on real data :"
      ]
    },
    {
      "cell_type": "code",
      "execution_count": null,
      "id": "0c4577ab-8302-4bec-af3d-7880024db9e4",
      "metadata": {
        "id": "0c4577ab-8302-4bec-af3d-7880024db9e4",
        "outputId": "2169bf22-9176-40a9-c4f3-280deb9410fa"
      },
      "outputs": [
        {
          "name": "stdout",
          "output_type": "stream",
          "text": [
            "display the score of TF-IDF of the first '100' tokens : \n",
            "ﺿﻤﻦ: 0.05 || ﺍﻟﺘﻘﺮﻳﺮ: 0.05 || ﺗﺴﻠﻤﻪ: 0.05 || ﻋﺰﻳﺰ: 0.05 || ﺃﺧﻨﻮﺵ،: 0.05 || ﺭﺋﻴﺲ: 0.05 || ﺍﻟﺤﻜﻮﻣﺔ،: 0.10 || ﻧﻬﺎﻳﺔ: 0.05 || ﺷﻬﺮ: 0.05 || ﺍﻟﻤﺎﺿﻲ،: 0.05 || ﺍﻟﻬﻴﺌﺔ: 0.05 || ﺍﻟﻤﻜﻠﻔﺔ: 0.05 || ﺑﻤﺮﺍﺟﻌﺔ: 0.10 || ﻣﺪﻭﻧﺔ: 0.05 || ﺍﻷﺳﺮﺓ،: 0.10 || ﺍﻟﻤﻘﺮﺭ: 0.15 || ﺭﻓﻌﻪ: 0.05 || ﺍﻟﻤﻠﻚ: 0.05 || ﻣﺤﻤﺪ: 0.05 || ﺍﻟﺴﺎﺩﺱ،: 0.05 || ﻻﻓﺘﺎ: 0.05 || ﻭﺟﻮﺩ: 0.05 || ﻣﻘﺘﺮﺡ: 0.05 || ﺗﻄﺮﻕ: 0.10 || ﺗﻘﺴﻴﻢ: 0.05 || ﺍﻟﺘﺮﻛﺔ: 0.05 || ﺧﻼﻝ: 0.05 || ﺗﺨﻮﻳﻞ: 0.05 || ﺻﺎﺣﺐ: 0.05 || ﺍﻟﻤﺎﻝ: 0.05 || ﻭﺍﻷﺻﻮﻝ: 0.05 || ﺳﻠﻄﺔ: 0.05 || ﺍﺧﺘﻴﺎﺭ: 0.15 || ﺍﻟﻨﻈﺎﻡ: 0.05 || ﺍﻟﻤﻄﺒﻖ،: 0.05 || ﺍﻟﻤﻴﺮﺍﺙ: 0.05 || ﺍﻟﻮﺻﻴﺔ،: 0.05 || ﺗﻮﺳﻴﻊ: 0.05 || ﻧﻄﺎﻕ: 0.15 || ﺍﻷﺧﻴﺮﺓ: 0.05 || ﻟﺘﺸﻤﻞ: 0.05 || ﺍﻷﺣﻔﺎﺩ: 0.05 || ﻭﺭﻓﻊ: 0.05 || ﺍﻟﻘﻴﻮﺩ: 0.05 || ﺍﻟﻤﻔﺮﻭﺿﺔ: 0.05 || ﻋﻠﻴﻬﺎ: 0.45 || ﻭﻋﻠﻰ: 0.05 || ﺍﻟﺮﻏﻢ: 0.05 || ﺍﻟﻤﻘﺘﺮﺡ،: 0.05 || ﻋﺪﻩ: 0.05 || ﻛﺜﻴﺮﻭﻥ: 0.05 || ﺗﺴﺮﻳﺒﺎ،: 0.05 || ﻋﻤﻮﻣﺎ: 0.05 || ﻭﺛﻴﻘﺔ: 0.15 || ﺭﺍﺋﺠﺔ: 0.05 || ﻳﺘﺼﻞ: 0.05 || ﺑﺘﻮﺻﻴﺎﺕ: 0.05 || ﺭﺳﻤﻴﺔ: 0.10 || ﻣﺮﻓﻮﻋﺔ: 0.05 || ﺍﻟﻤﻠﻚ: 0.05 || ﻣﺤﻤﺪ: 0.05 || ﺍﻟﺴﺎﺩﺱ؛: 0.05 || ﺟﻬﺎﺕ: 0.05 || ﻛﺜﻴﺮﺓ: 0.05 || ﺍﻟﺘﻘﻄﺘﻪ،: 0.05 || ﺧﺼﻮﺻﺎ: 0.05 || ﺍﻷﻗﻠﻴﺎﺕ: 0.05 || ﺍﻟﺪﻳﻨﻴﺔ: 0.05 || ﺑﺎﻟﻤﻐﺮﺏ،: 0.05 || ﻭﻧﻈﺮﺕ: 0.05 || ﺇﻟﻴﻪ: 0.05 || ﺑـﺘﻘﺪﻳﺮ: 0.05 || ﻛـﺤﻞ: 0.05 || ﺑﺮﺍﻏﻤﺎﺗﻲ: 0.05 || ﻳﺴﺎﻋﺪ: 0.05 || ﺗﻘﺴﻴﻢ: 0.05 || ﺍﻟﺘﺮﻛﺎﺕ: 0.05 || ﻭﻓﻖ: 0.05 || ﻣﻨﻄﻖ: 0.10 || ﺍﻟﻮﺻﻴﺔ،: 0.05 || ﻭﺗﻤﻜﻴﻦ: 0.05 || ﺍﻟﻤﻐﺎﺭﺑﺔ: 0.05 || ﺍﺧﺘﻴﺎﺭ: 0.05 || ﻳﻨﺎﺳﺐ: 0.05 || ﺷﻜﻞ: 0.15 || ﻋﻴﺸﻬﻢ: 0.05 || ﺍﻟﺪﻳﻦ: 0.10 || ﻭﺍﻟﻘﺎﻧﻮﻥ: 0.05 || ﺳﻌﻴﺪ: 0.05 || ﻧﺎﺷﻴﺪ،: 0.10 || ﺣﻘﻮﻗﻲ: 0.05 || ﻭﺑﺎﺣﺚ: 0.10 || ﺍﻟﻔﻜﺮ: 0.05 || ﺍﻟﺪﻳﻨﻲ،: 0.10 || ﺍﻋﺘﺒﺮ: 0.15 || ﻣﻘﺘﺮﺡ: 0.05 || ﺗﻀﻤﻴﻦ: 0.05 || ﺍﻟﻮﺻﻴﺔ: 0.05 || ﺿﻤﻦ: 0.05 || ﺍﻻﺧﺘﻴﺎﺭﺍﺕ: 0.05 || "
          ]
        }
      ],
      "source": [
        "all_tf_idf = []\n",
        "\n",
        "for i in range(len(all_posts[\"tokens\"])):\n",
        "    # Convert tokens to a single string\n",
        "    text = \" \".join(all_posts[\"tokens\"][i])\n",
        "    # Apply TF-IDF\n",
        "    tfidf_vectorizer = TfidfVectorizer()\n",
        "    tfidf = tfidf_vectorizer.fit_transform([text]).toarray()\n",
        "    all_tf_idf.append(tfidf)\n",
        "\n",
        "# display the score of TF-IDF of the first 100 tokens\n",
        "print(\"display the score of TF-IDF of the first '100' tokens : \")\n",
        "for token, score in zip(all_posts[\"tokens\"][0][:100], tfidf[0][:100]):\n",
        "    print(f\"{token}: {score:.2f}\", end=\" || \")"
      ]
    },
    {
      "cell_type": "markdown",
      "id": "cbbf2d53-ea52-4b97-a25b-f12a162c233e",
      "metadata": {
        "id": "cbbf2d53-ea52-4b97-a25b-f12a162c233e"
      },
      "source": [
        "### 2. Apply one Word2Vec Approach (Skip Gram, CBOW) on the same DataSet :"
      ]
    },
    {
      "cell_type": "markdown",
      "id": "sPLLGrOwiOkH",
      "metadata": {
        "id": "sPLLGrOwiOkH"
      },
      "source": [
        "* Example / test :"
      ]
    },
    {
      "cell_type": "code",
      "execution_count": 40,
      "id": "e46dce1f-6f44-40cc-a6f1-7d1cda0f3c79",
      "metadata": {
        "colab": {
          "base_uri": "https://localhost:8080/"
        },
        "id": "e46dce1f-6f44-40cc-a6f1-7d1cda0f3c79",
        "outputId": "f4972aa6-cfc5-4793-9f1e-9a34c591245b"
      },
      "outputs": [
        {
          "name": "stdout",
          "output_type": "stream",
          "text": [
            "Word vector: [ 8.1681199e-03 -4.4430327e-03  8.9854337e-03  8.2536647e-03\n",
            " -4.4352221e-03  3.0310510e-04  4.2744912e-03 -3.9263200e-03\n",
            " -5.5599655e-03 -6.5123225e-03 -6.7073823e-04 -2.9592158e-04\n",
            "  4.4630850e-03 -2.4740540e-03 -1.7260908e-04  2.4618758e-03\n",
            "  4.8675989e-03 -3.0808449e-05 -6.3394094e-03 -9.2608072e-03\n",
            "  2.6657581e-05  6.6618943e-03  1.4660227e-03 -8.9665223e-03\n",
            " -7.9386048e-03  6.5519023e-03 -3.7856805e-03  6.2549924e-03\n",
            " -6.6810320e-03  8.4796622e-03 -6.5163244e-03  3.2880199e-03\n",
            " -1.0569858e-03 -6.7875278e-03 -3.2875966e-03 -1.1614120e-03\n",
            " -5.4709399e-03 -1.2113475e-03 -7.5633135e-03  2.6466595e-03\n",
            "  9.0701487e-03 -2.3772502e-03 -9.7651005e-04  3.5135616e-03\n",
            "  8.6650876e-03 -5.9218528e-03 -6.8875779e-03 -2.9329848e-03\n",
            "  9.1476962e-03  8.6626766e-04 -8.6784009e-03 -1.4469790e-03\n",
            "  9.4794659e-03 -7.5494875e-03 -5.3580985e-03  9.3165627e-03\n",
            " -8.9737261e-03  3.8259076e-03  6.6544057e-04  6.6607012e-03\n",
            "  8.3127534e-03 -2.8507852e-03 -3.9923131e-03  8.8979173e-03\n",
            "  2.0896459e-03  6.2489416e-03 -9.4457148e-03  9.5901238e-03\n",
            " -1.3483083e-03 -6.0521150e-03  2.9925345e-03 -4.5661093e-04\n",
            "  4.7064926e-03 -2.2830211e-03 -4.1378425e-03  2.2778988e-03\n",
            "  8.3543835e-03 -4.9956059e-03  2.6686788e-03 -7.9905549e-03\n",
            " -6.7733466e-03 -4.6766878e-04 -8.7677278e-03  2.7894378e-03\n",
            "  1.5985954e-03 -2.3196924e-03  5.0037908e-03  9.7487867e-03\n",
            "  8.4542679e-03 -1.8802249e-03  2.0581519e-03 -4.0036892e-03\n",
            " -8.2414057e-03  6.2779556e-03 -1.9491815e-03 -6.6620467e-04\n",
            " -1.7713320e-03 -4.5356657e-03  4.0617096e-03 -4.2701806e-03]\n",
            "Similar words: [('في', 0.09291724115610123), ('الطقس', 0.00484249135479331), ('بارداً', -0.0027540253940969706), ('و', -0.013679751195013523), ('الصيف', -0.028491031378507614), ('حاراً', -0.05774581804871559), ('الشتاء', -0.11555545777082443)]\n",
            "**************************************************\n",
            "Word vector (CBOW): [ 8.1681199e-03 -4.4430327e-03  8.9854337e-03  8.2536647e-03\n",
            " -4.4352221e-03  3.0310510e-04  4.2744912e-03 -3.9263200e-03\n",
            " -5.5599655e-03 -6.5123225e-03 -6.7073823e-04 -2.9592158e-04\n",
            "  4.4630850e-03 -2.4740540e-03 -1.7260908e-04  2.4618758e-03\n",
            "  4.8675989e-03 -3.0808449e-05 -6.3394094e-03 -9.2608072e-03\n",
            "  2.6657581e-05  6.6618943e-03  1.4660227e-03 -8.9665223e-03\n",
            " -7.9386048e-03  6.5519023e-03 -3.7856805e-03  6.2549924e-03\n",
            " -6.6810320e-03  8.4796622e-03 -6.5163244e-03  3.2880199e-03\n",
            " -1.0569858e-03 -6.7875278e-03 -3.2875966e-03 -1.1614120e-03\n",
            " -5.4709399e-03 -1.2113475e-03 -7.5633135e-03  2.6466595e-03\n",
            "  9.0701487e-03 -2.3772502e-03 -9.7651005e-04  3.5135616e-03\n",
            "  8.6650876e-03 -5.9218528e-03 -6.8875779e-03 -2.9329848e-03\n",
            "  9.1476962e-03  8.6626766e-04 -8.6784009e-03 -1.4469790e-03\n",
            "  9.4794659e-03 -7.5494875e-03 -5.3580985e-03  9.3165627e-03\n",
            " -8.9737261e-03  3.8259076e-03  6.6544057e-04  6.6607012e-03\n",
            "  8.3127534e-03 -2.8507852e-03 -3.9923131e-03  8.8979173e-03\n",
            "  2.0896459e-03  6.2489416e-03 -9.4457148e-03  9.5901238e-03\n",
            " -1.3483083e-03 -6.0521150e-03  2.9925345e-03 -4.5661093e-04\n",
            "  4.7064926e-03 -2.2830211e-03 -4.1378425e-03  2.2778988e-03\n",
            "  8.3543835e-03 -4.9956059e-03  2.6686788e-03 -7.9905549e-03\n",
            " -6.7733466e-03 -4.6766878e-04 -8.7677278e-03  2.7894378e-03\n",
            "  1.5985954e-03 -2.3196924e-03  5.0037908e-03  9.7487867e-03\n",
            "  8.4542679e-03 -1.8802249e-03  2.0581519e-03 -4.0036892e-03\n",
            " -8.2414057e-03  6.2779556e-03 -1.9491815e-03 -6.6620467e-04\n",
            " -1.7713320e-03 -4.5356657e-03  4.0617096e-03 -4.2701806e-03]\n",
            "Similar words (CBOW): [('في', 0.09291724115610123), ('الطقس', 0.00484249135479331), ('بارداً', -0.0027540253940969706), ('و', -0.013679751195013523), ('الصيف', -0.028491031378507614), ('حاراً', -0.05774581804871559), ('الشتاء', -0.11555545777082443)]\n"
          ]
        }
      ],
      "source": [
        "from gensim.models import Word2Vec\n",
        "\n",
        "# Example Arabic tokens\n",
        "arabic_tokens = [[\"كان\", \"الطقس\", \"حاراً\", \"في\", \"الصيف\", \"و\", \"بارداً\", \"في\", \"الشتاء\"]]\n",
        "\n",
        "# Train Word2Vec model (Skip-gram)\n",
        "model_skipgram_test = Word2Vec(sentences=arabic_tokens, vector_size=100, window=5, sg=1, min_count=1)\n",
        "\n",
        "# Train Word2Vec model (CBOW)\n",
        "model_cbow_test = Word2Vec(sentences=arabic_tokens, vector_size=100, window=5, sg=0, min_count=1)\n",
        "\n",
        "# Get vector representation of a word\n",
        "word_vector1 = model_skipgram_test.wv.get_vector(\"كان\")\n",
        "\n",
        "# Find similar words\n",
        "similar_words1 = model_skipgram_test.wv.most_similar(\"كان\")\n",
        "\n",
        "print(\"Word vector:\", word_vector1)\n",
        "print(\"Similar words:\", similar_words1)\n",
        "\n",
        "print(\"*\"*50)\n",
        "\n",
        "# Get vector representation of a word using CBOW model\n",
        "word_vector_cbow1 = model_cbow_test.wv.get_vector(\"كان\")\n",
        "\n",
        "# Find similar words using CBOW model\n",
        "similar_words_cbow1 = model_cbow_test.wv.most_similar(\"كان\")\n",
        "\n",
        "print(\"Word vector (CBOW):\", word_vector_cbow1)\n",
        "print(\"Similar words (CBOW):\", similar_words_cbow1)\n"
      ]
    },
    {
      "cell_type": "markdown",
      "id": "vHWjTL57cRAR",
      "metadata": {
        "id": "vHWjTL57cRAR"
      },
      "source": [
        "* apply on real data :"
      ]
    },
    {
      "cell_type": "code",
      "execution_count": 37,
      "id": "9d05101f-69ca-4111-a9bc-fbf4b137c292",
      "metadata": {
        "colab": {
          "base_uri": "https://localhost:8080/"
        },
        "id": "9d05101f-69ca-4111-a9bc-fbf4b137c292",
        "outputId": "4b5caa83-64ac-4107-cf56-12a87a571809"
      },
      "outputs": [
        {
          "name": "stdout",
          "output_type": "stream",
          "text": [
            "tokens :  [['ﺿﻤﻦ', 'ﺍﻟﺘﻘﺮﻳﺮ', 'ﺗﺴﻠﻤﻪ', 'ﻋﺰﻳﺰ', 'ﺃﺧﻨﻮﺵ،', 'ﺭﺋﻴﺲ', 'ﺍﻟﺤﻜﻮﻣﺔ،', 'ﻧﻬﺎﻳﺔ', 'ﺷﻬﺮ', 'ﺍﻟﻤﺎﺿﻲ،', 'ﺍﻟﻬﻴﺌﺔ', 'ﺍﻟﻤﻜﻠﻔﺔ', 'ﺑﻤﺮﺍﺟﻌﺔ', 'ﻣﺪﻭﻧﺔ', 'ﺍﻷﺳﺮﺓ،', 'ﺍﻟﻤﻘﺮﺭ', 'ﺭﻓﻌﻪ', 'ﺍﻟﻤﻠﻚ', 'ﻣﺤﻤﺪ', 'ﺍﻟﺴﺎﺩﺱ،', 'ﻻﻓﺘﺎ', 'ﻭﺟﻮﺩ', 'ﻣﻘﺘﺮﺡ', 'ﺗﻄﺮﻕ', 'ﺗﻘﺴﻴﻢ', 'ﺍﻟﺘﺮﻛﺔ', 'ﺧﻼﻝ', 'ﺗﺨﻮﻳﻞ', 'ﺻﺎﺣﺐ', 'ﺍﻟﻤﺎﻝ', 'ﻭﺍﻷﺻﻮﻝ', 'ﺳﻠﻄﺔ', 'ﺍﺧﺘﻴﺎﺭ', 'ﺍﻟﻨﻈﺎﻡ', 'ﺍﻟﻤﻄﺒﻖ،', 'ﺍﻟﻤﻴﺮﺍﺙ', 'ﺍﻟﻮﺻﻴﺔ،', 'ﺗﻮﺳﻴﻊ', 'ﻧﻄﺎﻕ', 'ﺍﻷﺧﻴﺮﺓ', 'ﻟﺘﺸﻤﻞ', 'ﺍﻷﺣﻔﺎﺩ', 'ﻭﺭﻓﻊ', 'ﺍﻟﻘﻴﻮﺩ', 'ﺍﻟﻤﻔﺮﻭﺿﺔ', 'ﻋﻠﻴﻬﺎ', 'ﻭﻋﻠﻰ', 'ﺍﻟﺮﻏﻢ', 'ﺍﻟﻤﻘﺘﺮﺡ،', 'ﻋﺪﻩ', 'ﻛﺜﻴﺮﻭﻥ', 'ﺗﺴﺮﻳﺒﺎ،', 'ﻋﻤﻮﻣﺎ', 'ﻭﺛﻴﻘﺔ', 'ﺭﺍﺋﺠﺔ', 'ﻳﺘﺼﻞ', 'ﺑﺘﻮﺻﻴﺎﺕ', 'ﺭﺳﻤﻴﺔ', 'ﻣﺮﻓﻮﻋﺔ', 'ﺍﻟﻤﻠﻚ', 'ﻣﺤﻤﺪ', 'ﺍﻟﺴﺎﺩﺱ؛', 'ﺟﻬﺎﺕ', 'ﻛﺜﻴﺮﺓ', 'ﺍﻟﺘﻘﻄﺘﻪ،', 'ﺧﺼﻮﺻﺎ', 'ﺍﻷﻗﻠﻴﺎﺕ', 'ﺍﻟﺪﻳﻨﻴﺔ', 'ﺑﺎﻟﻤﻐﺮﺏ،', 'ﻭﻧﻈﺮﺕ', 'ﺇﻟﻴﻪ', 'ﺑـﺘﻘﺪﻳﺮ', 'ﻛـﺤﻞ', 'ﺑﺮﺍﻏﻤﺎﺗﻲ', 'ﻳﺴﺎﻋﺪ', 'ﺗﻘﺴﻴﻢ', 'ﺍﻟﺘﺮﻛﺎﺕ', 'ﻭﻓﻖ', 'ﻣﻨﻄﻖ', 'ﺍﻟﻮﺻﻴﺔ،', 'ﻭﺗﻤﻜﻴﻦ', 'ﺍﻟﻤﻐﺎﺭﺑﺔ', 'ﺍﺧﺘﻴﺎﺭ', 'ﻳﻨﺎﺳﺐ', 'ﺷﻜﻞ', 'ﻋﻴﺸﻬﻢ', 'ﺍﻟﺪﻳﻦ', 'ﻭﺍﻟﻘﺎﻧﻮﻥ', 'ﺳﻌﻴﺪ', 'ﻧﺎﺷﻴﺪ،', 'ﺣﻘﻮﻗﻲ', 'ﻭﺑﺎﺣﺚ', 'ﺍﻟﻔﻜﺮ', 'ﺍﻟﺪﻳﻨﻲ،', 'ﺍﻋﺘﺒﺮ', 'ﻣﻘﺘﺮﺡ', 'ﺗﻀﻤﻴﻦ', 'ﺍﻟﻮﺻﻴﺔ', 'ﺿﻤﻦ', 'ﺍﻻﺧﺘﻴﺎﺭﺍﺕ', 'ﺗﻮﺯﻳﻊ', 'ﺍﻟﺘﺮﻛﺔ', 'ﻳﻜﺸﻒ', 'ﻓﻌﻼ', 'ﺣﻞ', 'ﺑﺮﺍﻏﻤﺎﺗﻲ', 'ﻳﺴﺎﻫﻢ', 'ﺍﻟﺘﺨﻠﺺ', 'ﻣﺄﺯﻕ', 'ﻓﺮﺽ', 'ﺗﻘﺴﻴﻢ', 'ﺍﻟﺘﺮﻛﺔ', 'ﻭﻓﻖ', 'ﺍﻟﻤﻨﻈﻮﺭ', 'ﺍﻹﺳﻼﻣﻲ', 'ﺃﻣﻼﻙ', 'ﺍﻟﻤﺴﻠﻤﻴﻦ،', 'ﺳﻮﺍﺀ', 'ﻛﺎﻧﻮﺍ', 'ﻣﺴﻴﺤﻴﻴﻦ', 'ﺑﻬﺎﺋﻴﻴﻦ', 'ﻣﻼﺣﺪﺓ،', 'ﻣﺆﻛﺪﺍ', 'ﺍﻻﺷﺘﻐﺎﻝ', 'ﺑﺎﻟﻮﺻﻴﺔ', 'ﺳﻴﻜﻮﻥ', 'ﻣﺒﺪﺃ', 'ﻗﺎﻧﻮﻧﻴﺎ', 'ﺻﺮﻓﺎ،', 'ﻛﺎﻧﺖ', 'ﻭﺍﺭﺩﺓ', 'ﺍﻟﻨﺺ', 'ﺍﻟﺪﻳﻨﻲ', 'ﺍﻟﻘﺮﺁﻧﻲ', 'ﻭﻭﺿﺢ', 'ﻧﺎﺷﻴﺪ،', 'ﺗﺼﺮﻳﺢ', 'ﻟﻬﺴﺒﺮﻳﺲ،', 'ﺍﻟﻮﺻﻴﺔ', 'ﺗﻤﺜﻞ', 'ﻣﺨﺮﺟﺎ', 'ﻭﺣﻼ', 'ﻟﻤﺸﻜﻞ', 'ﺍﻹﺭﺙ', 'ﺩﺍﺧﻞ', 'ﺑﻨﻴﺔ', 'ﺍﻟﺪﻳﻦ', 'ﻧﻔﺴﻪ،', 'ﻭﻫﻲ', 'ﺩﻟﻴﻞ', 'ﺍﻟﺪﻳﻦ', 'ﻭﺍﺳﻊ', 'ﻭﺭﺣﺐ', 'ﻳﻜﻔﻲ', 'ﻟﻨﺠﺪ', 'ﻣﺨﺎﺭﺝ', 'ﻟﻜﻞ', 'ﺍﻟﻤﺸﺎﻛﻞ', 'ﺍﻟﻤﻄﺮﻭﺣﺔ', 'ﺗﺪﺑﻴﺮ', 'ﺍﻟﻤﺠﺘﻤﻊ،', 'ﻣﻌﺘﺒﺮﺍ', 'ﺇﺻﺮﺍﺭ', 'ﺍﻟﺠﻬﺔ', 'ﺍﻟﻤﺤﺎﻓﻈﺔ', 'ﺗﻀﻴﻴﻖ', 'ﺍﻟﺨﻨﺎﻕ', 'ﻳﻤﺖ', 'ﺟﻮﻫﺮ', 'ﺍﻟﺪﻳﻦ', 'ﺑﺄﻳﺔ', 'ﺻﻠﺔ؛', 'ﻷﻥ', 'ﻣﻨﻈﻮﻣﺔ', 'ﺍﻹﺭﺙ', 'ﺳﺒﻖ', 'ﻟﺘﻘﺴﻴﻤﺎﺗﻬﺎ', 'ﻭﻗﻌﺖ', 'ﺗﻌﺪﻳﻼﺕ', 'ﻛﺜﻴﺮﺓ،', 'ﻟﺘﻌﻄﻴﻨﺎ', 'ﻣﺨﺎﺭﺝ', 'ﻧﻮﺍﺯﻝ', 'ﻭﻣﺴﺘﺠﺪﺍﺕ', 'ﻭﻟﻔﺖ', 'ﺍﻟﻤﺘﺤﺪﺙ', 'ﻋﻴﻨﻪ', 'ﺃﻫﻤﻴﺔ', 'ﺍﻟﻮﺻﻴﺔ', 'ﺑﺎﻟﻨﺴﺒﺔ', 'ﻟﻐﻴﺮ', 'ﺍﻟﻤﺴﻠﻤﻴﻦ،', 'ﻟﻜﻮﻧﻬﺎ', 'ﻣﺪﺧﻼ', 'ﻻﺧﺘﻴﺎﺭ', 'ﺍﻟﺸﻜﻞ', 'ﺍﻟﻤﻨﺎﺳﺐ', 'ﻟﻠﺘﻌﺎﻃﻲ', 'ﺗﺮﻛﺎﺗﻬﻢ،', 'ﻭﺣﺪﻫﻢ', 'ﺍﻟﺤﻖ', 'ﻓﻴﻬﺎ،', 'ﻣﺴﺠﻼ', 'ﺻﻌﻮﺑﺔ', 'ﺍﻟﺪﺧﻮﻝ', 'ﺟﺰﺋﻴﺎﺕ', 'ﻛﺜﻴﺮﺓ', 'ﺗﻌﻮﺩ', 'ﺩﻳﺎﻧﺔ', 'ﻭﺃﻧﻤﺎﻃﻬﺎ', 'ﺗﻘﺴﻴﻢ', 'ﺍﻹﺭﺙ؛', 'ﻋﻤﻠﻴﺎ', 'ﺍﻟﻮﺻﻴﺔ', 'ﺫﻛﺎﺀ', 'ﻗﺎﻧﻮﻧﻲ', 'ﻳﻨﺴﺠﻢ', 'ﻣﺒﺎﺩﺉ', 'ﺍﻟﺪﻭﻟﺔ،', 'ﻭﻳﺤﺘﺮﻡ', 'ﺍﻟﺨﻴﺎﺭﺍﺕ', 'ﺍﻟﺮﻭﺣﻴﺔ', 'ﺗﻌﻴﺶ', 'ﺩﺍﺧﻞ', 'ﺣﺪﻭﺩ', 'ﺍﻟﺪﻭﻟﺔ', 'ﺍﻟﻮﻃﻨﻴﺔ', 'ﺗﺪﺑﻴﺮ', 'ﺩﻳﻤﻘﺮﺍﻃﻲ', 'ﺁﺩﻡ', 'ﺍﻟﺮﺑﺎﻃﻲ،', 'ﺭﺋﻴﺲ', 'ﺍﺗﺤﺎﺩ', 'ﺍﻟﻤﺴﻴﺤﻴﻴﻦ', 'ﺍﻟﻤﻐﺎﺭﺑﺔ،', 'ﺗﻤﻨﻰ', 'ﻳﺘﻢ', 'ﺇﺩﺭﺍﺝ', 'ﺍﻟﻮﺻﻴﺔ', 'ﻣﺪﻭﻧﺔ', 'ﺍﻷﺳﺮﺓ', 'ﺍﻟﺠﺪﻳﺪﺓ،', 'ﻛـﺈﻧﺼﺎﻑ', 'ﻷﻗﻠﻴﺎﺕ', 'ﺩﻳﻨﻴﺔ', 'ﻣﻮﺟﻮﺩﺓ', 'ﻭﺑﻘﻮﺓ', 'ﺍﻟﻤﺠﺘﻤﻊ', 'ﺍﻟﻤﻐﺮﺑﻲ،', 'ﻣﺸﻴﺮﺍ', 'ﺍﻟﻮﺻﻴﺔ', 'ﻣﻌﻤﻮﻝ', 'ﺍﻟﻌﺪﻳﺪ', 'ﺍﻟﺪﻭﻝ', 'ﺣﻮﻝ', 'ﺍﻟﻌﺎﻟﻢ؛', 'ﻭﺑﺎﻟﺘﺎﻟﻲ', 'ﻳﻤﻜﻨﻨﺎ', 'ﻧﺮﺣﺐ', 'ﻭﻧﺪﻋﻤﻬﺎ،', 'ﻷﻧﻬﺎ', 'ﺳﺘﻔﺘﺢ', 'ﺃﺑﻮﺍﺑﺎ', 'ﺩﻳﻤﻘﺮﺍﻃﻴﺔ', 'ﺗﻨﻈﻴﻢ', 'ﺍﻷﺳﺮﺓ', 'ﺍﻟﻤﺴﻴﺤﻴﺔ', 'ﺍﻟﺒﻬﺎﺋﻴﺔ', 'ﻏﻴﺮﻫﻤﺎ،', 'ﻟﻜﻮﻧﻨﺎ', 'ﺳﻨﺘﻌﺎﻣﻞ', 'ﻣﻌﻬﺎ', 'ﻛﻘﺎﻧﻮﻥ', 'ﻣﺠﺮﺩ', 'ﻭﻟﻴﺲ', 'ﺷﻴﺌﺎ', 'ﺁﺧﺮ', 'ﻭﺷﺪﺩ', 'ﺍﻟﺮﺑﺎﻃﻲ،', 'ﺿﻤﻦ', 'ﺗﺼﺮﻳﺤﻪ', 'ﻟﻬﺴﺒﺮﻳﺲ،', 'ﺇﺩﺭﺍﺝ', 'ﺍﻟﻮﺻﻴﺔ', 'ﺣﻘﻴﻘﻴﺎ،', 'ﻓﻬﺬﺍ', 'ﺳﻴﻜﻮﻥ', 'ﻓﺘﺤﺎ', 'ﻟﻠﺒﺎﺏ', 'ﺍﺟﺘﻬﺎﺩﺍﺕ', 'ﺃﺧﺮﻯ', 'ﻣﺴﺘﻘﺒﻼ،', 'ﺗﺴﺘﺜﻤﺮ', 'ﻳﺴﻤﻰ', 'ﺑﺪﻳﻦ', 'ﺍﻟﺪﻭﻟﺔ؛', 'ﺍﺣﺘﺮﺍﻡ', 'ﻟﻠﻌﻘﺎﺋﺪ', 'ﺍﻷﺧﺮﻯ', 'ﺍﻟﻤﻮﺟﻮﺩﺓ،', 'ﺛﻘﺔ', 'ﺃﻣﻴﺮ', 'ﺍﻟﻤﺆﻣﻨﻴﻦ،', 'ﺃﻛﺪ', 'ﺇﻣﺎﺭﺓ', 'ﺍﻟﻤﺆﻣﻨﻴﻦ', 'ﺗﻌﻨﻲ', 'ﺍﻷﺩﻳﺎﻥ', 'ﻭﻛﻞ', 'ﺍﻟﻘﻨﺎﻋﺎﺕ', 'ﺍﻟﺮﻭﺣﻴﺔ', 'ﻭﺍﻷﺧﻼﻗﻴﺔ', 'ﻛﺎﻧﺖ', 'ﺩﺭﺟﺔ', 'ﺣﻀﻮﺭﻫﺎ', 'ﺍﻟﻔﻀﺎﺀ', 'ﺍﻟﻌﺎﻡ', 'ﺍﻟﻤﻐﺮﺑﻲ', 'ﻭﺍﻋﺘﺒﺮ', 'ﺍﻟﻤﺘﺤﺪﺙ', 'ﻋﻴﻨﻪ', 'ﺍﻟﻮﺻﻴﺔ', 'ﺗﺴﺎﻫﻢ', 'ﺗﺤﻘﻴﻖ', 'ﺍﻟﺤﺪ', 'ﺍﻷﺩﻧﻰ', 'ﺑﺎﻟﻨﺴﺒﺔ', 'ﻟﻠﻌﺎﺋﻼﺕ', 'ﺍﻟﻤﺴﻠﻤﺔ،', 'ﺃﻧﻨﺎ', 'ﻧﺸﺪﺩ', 'ﺍﻹﺻﻼﺣﺎﺕ', 'ﻭﺭﺩﺕ', 'ﺍﻟﺘﻮﺻﻴﺎﺕ', 'ﺍﻟﻤﺘﺪﺍﻭﻟﺔ،', 'ﺗﻜﻦ', 'ﺭﺳﻤﻴﺔ،', 'ﻓﻬﻲ', 'ﺗﻜﻦ', 'ﻣﺪﻧﻴﺔ', 'ﺍﻟﻤﺎﺋﺔ؛', 'ﻟﻜﻨﻬﺎ', 'ﻛﺎﻧﺖ', 'ﺫﻛﻴﺔ', 'ﻓﺘﺢ', 'ﺍﻟﺒﺎﺏ', 'ﺍﻟﺘﻄﻮﻳﺮ', 'ﺍﻟﻤﺴﺘﻘﺒﻞ،', 'ﻭﺭﻓﻊ', 'ﺍﻟﺤﺮﺝ', 'ﻳﻌﺘﺒﺮﻭﻥ', 'ﺃﺩﻳﺎﻧﺎ', 'ﺃﺧﺮﻯ', 'ﺗﻮﻗﻴﻌﺎ', 'ﺭﻭﺣﻴﺎ', 'ﻳﺨﻮﻝ', 'ﺍﻻﻧﺘﻤﺎﺀ', 'ﻧﺎﺩﻱ', 'ﺍﻹﻧﺴﺎﻧﻴﺔ', 'ﺭﻓﺾ', 'ﺍﻟﺘﺤﺎﻳﻞ', 'ﻋﺒﺪ', 'ﺍﻹﻟﻪ', 'ﺍﻟﺨﻀﺮﻱ،', 'ﺭﺋﻴﺲ', 'ﺍﻟﻤﺮﻛﺰ', 'ﺍﻟﻤﻐﺮﺑﻲ', 'ﻟﺤﻘﻮﻕ', 'ﺍﻹﻧﺴﺎﻥ،', 'ﻗﺎﻝ', 'ﺍﻟﻮﺻﻴﺔ', 'ﺑﺎﻟﺸﻜﻞ', 'ﺗﻢ', 'ﺗﺼﻮﻳﺮﻫﺎ', 'ﻣﺮﻓﻮﺿﺔ', 'ﺗﻤﺎﻣﺎ،', 'ﻭﻫﻲ', 'ﻣﺤﺎﻭﻟﺔ', 'ﻟﻠﺘﺤﺎﻳﻞ', 'ﻗﻮﺍﻋﺪ', 'ﺍﻹﺭﺙ', 'ﻭﺍﺳﺘﻌﻤﺎﻝ', 'ﺧﺎﻃﺊ', 'ﻟﻤﻔﻬﻮﻡ', 'ﺍﻟﻮﺻﻴﺔ،', 'ﻣﻌﺘﺒﺮﺍ', 'ﺍﻹﺭﺙ', 'ﻋﻘﺪﺍ', 'ﻋﻮﺿﻴﺎ', 'ﺗﺒﺮﻋﻴﺎ', 'ﺍﻟﺒﺸﺮ،', 'ﻭﻣﻦ', 'ﺛﻤﺔ', 'ﻳﺠﺮﻱ', 'ﻣﺠﺮﻯ', 'ﺍﻟﻌﻘﺪ؛', 'ﺍﻟﻮﺻﻴﺔ', 'ﺗﻌﺘﺒﺮ', 'ﻋﻘﺪﺍ', 'ﻣﺴﻤﻰ', 'ﺍﻟﻌﻘﻮﺩ', 'ﺍﻟﺘﺒﺮﻋﻴﺔ،', 'ﺗﺆﻃﺮﻫﺎ', 'ﻧﺼﻮﺹ', 'ﺗﺸﺮﻳﻌﻴﺔ', 'ﻭﺗﺘﺮﺗﺐ', 'ﻋﻨﻬﺎ', 'ﺃﺣﻜﺎﻡ', 'ﻭﺃﻭﺿﺢ', 'ﺍﻟﺨﻀﺮﻱ،', 'ﺗﺼﺮﻳﺢ', 'ﻟﻬﺴﺒﺮﻳﺲ،', 'ﺃﻧﻪ', 'ﺣﺮﻳﺎ', 'ﺍﻗﺘﺮﺣﻮﺍ', 'ﺍﻟﻤﻘﺎﺭﺑﺔ', 'ﻳﻌﻮﺿﻮﺍ', 'ﺍﻟﻮﺻﻴﺔ', 'ﺍﻟﻬﺒﺔ؛', 'ﻓﺎﻟﻬﺒﺔ', 'ﻋﻘﺪ', 'ﻣﺴﻤﻰ', 'ﺗﺒﺮﻋﻲ', 'ﻣﺜﻠﻪ', 'ﺍﻟﻮﺻﻴﺔ،', 'ﺍﻟﻬﺒﺔ', 'ﺗﺒﺮﻉ', 'ﻭﺗﻨﻔﻴﺬ', 'ﺣﺎﻝ', 'ﺍﻟﺤﻴﺎﺓ،', 'ﺍﻟﻮﺻﻴﺔ', 'ﺗﺒﺮﻉ', 'ﺣﺎﻝ', 'ﺍﻟﺤﻴﺎﺓ', 'ﻭﺗﻨﻔﻴﺬ', 'ﺍﻟﻤﻮﺕ،', 'ﺳﺎﺋﺮ', 'ﺍﻟﻌﻘﻮﺩ', 'ﺍﻟﻤﺴﻤﺎﺓ', 'ﻣﺆﻃﺮ', 'ﺑﻨﺼﻮﺹ', 'ﻭﻣﻘﺘﻀﻴﺎﺕ', 'ﺷﺮﻋﻴﺔ', 'ﻭﺗﺸﺮﻳﻌﻴﺔ،', 'ﻳﺸﺘﺮﻁ', 'ﻋﺪﻡ', 'ﺗﺠﺎﻭﺯ', 'ﺛﻠﺚ', 'ﺍﻟﺤﻖ', 'ﺍﻟﻤﻮﺭﻭﺙ', 'ﺑﺈﺫﻥ', 'ﺍﻟﻮﺭﺛﺔ', 'ﻭﻟﻴﺲ', 'ﺍﻟﺘﺮﻛﺔ،', 'ﺑﺼﺮﻳﺢ', 'ﻣﻨﻄﻮﻕ', 'ﻧﺼﻮﺹ', 'ﺍﻟﺸﺮﻳﻌﺔ', 'ﺍﻹﺳﻼﻣﻴﺔ', 'ﻭﻟﻔﺖ', 'ﺍﻟﻤﺘﺤﺪﺙ', 'ﻋﻴﻨﻪ', 'ﺇﺷﻜﺎﻟﻴﺔ', 'ﻛﺒﻴﺮﺓ،', 'ﺗﺘﻌﻠﻖ،', 'ﺍﻟﻨﺎﺣﻴﺔ', 'ﺍﻟﺤﻘﻮﻗﻴﺔ،', 'ﺑﺈﺧﻀﺎﻉ', 'ﺍﻟﻤﺴﻠﻤﻴﻦ', 'ﻟﻘﻮﺍﻋﺪ', 'ﺍﻹﺭﺙ', 'ﺍﻹﺳﻼﻣﻴﺔ،', 'ﻣﺆﻛﺪﺍ', 'ﺃﻧﻪ', 'ﺗﻜﻦ', 'ﺇﺭﺍﺩﺗﻬﻢ', 'ﺍﻟﺘﺼﺮﻑ', 'ﺗﺮﻛﺘﻬﻢ؛', 'ﻓﻌﻠﻰ', 'ﺍﻟﻤﺸﺮﻉ', 'ﺍﻟﻤﻐﺮﺑﻲ', 'ﺇﻳﺠﺎﺩ', 'ﺣﻞ', 'ﻣﻨﺎﺳﺐ،', 'ﺧﻼﻝ', 'ﺇﻗﺮﺍﺭ', 'ﻣﺨﺮﺝ', 'ﺁﺧﺮ،', 'ﺑﻌﻴﺪ', 'ﻗﻮﺍﻋﺪ', 'ﺍﻹﺭﺙ', 'ﻭﺍﻟﻮﺻﻴﺔ', 'ﻭﻓﻖ', 'ﺍﻟﺸﺮﻳﻌﺔ', 'ﺍﻹﺳﻼﻣﻴﺔ،', 'ﻏﺮﺍﺭ', 'ﻣﺪﻭﻧﺔ', 'ﺍﻷﺣﻮﺍﻝ', 'ﺍﻟﺸﺨﺼﻴﺔ', 'ﺍﻟﻌﺒﺮﻳﺔ', 'ﺍﻟﺨﺎﺻﺔ', 'ﺑﺎﻟﻴﻬﻮﺩ', 'ﺍﻟﻤﻐﺎﺭﺑﺔ']]\n"
          ]
        }
      ],
      "source": [
        "\n",
        "tokens = [all_posts[\"tokens\"][0]]\n",
        "print(\"tokens : \",tokens)\n",
        "\n",
        "# Train Word2Vec model (Skip-gram)\n",
        "model_skipgram = Word2Vec(sentences=tokens, vector_size=100, window=5, sg=1, min_count=1)\n",
        "\n",
        "# Train Word2Vec model (CBOW)\n",
        "model_cbow = Word2Vec(sentences=tokens, vector_size=100, window=5, sg=0, min_count=1)\n"
      ]
    },
    {
      "cell_type": "code",
      "execution_count": 41,
      "id": "9feee3fb-2c94-422a-9ab9-9e5a1a52d15a",
      "metadata": {
        "colab": {
          "base_uri": "https://localhost:8080/"
        },
        "id": "9feee3fb-2c94-422a-9ab9-9e5a1a52d15a",
        "outputId": "79eb9b0d-4725-4e29-f924-6d6874982430"
      },
      "outputs": [
        {
          "name": "stdout",
          "output_type": "stream",
          "text": [
            "Similar words in skipgram model: [('ﺍﻟﻤﻘﺮﺭ', 0.29902079701423645), ('ﺍﻹﺳﻼﻣﻲ', 0.2990207076072693), ('ﻟﻜﻮﻧﻬﺎ', 0.2962135970592499), ('ﺍﻟﻮﺻﻴﺔ', 0.2756243050098419), ('ﺍﻟﺤﻴﺎﺓ،', 0.24749760329723358), ('ﻣﺴﺠﻼ', 0.24696336686611176), ('ﻋﻴﺸﻬﻢ', 0.24479064345359802), ('ﺃﻧﻪ', 0.23344415426254272), ('ﺍﻷﺣﻔﺎﺩ', 0.23062673211097717), ('ﻟﻠﻌﻘﺎﺋﺪ', 0.21811528503894806)]\n",
            "**************************************************\n",
            "Similar words in CBOW model: [('ﺍﻹﺳﻼﻣﻲ', 0.2946036159992218), ('ﺍﻟﻤﻘﺮﺭ', 0.29393765330314636), ('ﻟﻜﻮﻧﻬﺎ', 0.2917657196521759), ('ﺍﻟﻮﺻﻴﺔ', 0.2759097218513489), ('ﺍﻟﺤﻴﺎﺓ،', 0.2490367293357849), ('ﻣﺴﺠﻼ', 0.24520576000213623), ('ﻋﻴﺸﻬﻢ', 0.2443116158246994), ('ﺃﻧﻪ', 0.23288695514202118), ('ﺍﻷﺣﻔﺎﺩ', 0.2284097671508789), ('ﻟﻠﻌﻘﺎﺋﺪ', 0.21526853740215302)]\n"
          ]
        }
      ],
      "source": [
        "# Get the most similar words using skipgram model\n",
        "similar_words = model_skipgram.wv.most_similar(\"ﺍﻋﺘﺒﺮ\")\n",
        "print(\"Similar words in skipgram model:\", similar_words)\n",
        "\n",
        "print(\"*\"*50)\n",
        "\n",
        "# Get the most Find similar words using CBOW model\n",
        "similar_words_cbow = model_cbow.wv.most_similar(\"ﺍﻋﺘﺒﺮ\")\n",
        "print(\"Similar words in CBOW model:\", similar_words_cbow)"
      ]
    },
    {
      "cell_type": "markdown",
      "id": "Y0dX0c0riE8C",
      "metadata": {
        "id": "Y0dX0c0riE8C"
      },
      "source": [
        "## 3. Apply Glove and FastText approaches on the same DataSet"
      ]
    },
    {
      "cell_type": "code",
      "execution_count": 42,
      "id": "74eEf04ciEFy",
      "metadata": {
        "colab": {
          "base_uri": "https://localhost:8080/",
          "height": 383
        },
        "id": "74eEf04ciEFy",
        "outputId": "e0f03a87-a1ce-4837-f76d-49c579093840"
      },
      "outputs": [
        {
          "ename": "ModuleNotFoundError",
          "evalue": "No module named 'glove'",
          "output_type": "error",
          "traceback": [
            "\u001b[0;31m---------------------------------------------------------------------------\u001b[0m",
            "\u001b[0;31mModuleNotFoundError\u001b[0m                       Traceback (most recent call last)",
            "\u001b[0;32m<ipython-input-42-e2e42bba6df1>\u001b[0m in \u001b[0;36m<cell line: 2>\u001b[0;34m()\u001b[0m\n\u001b[1;32m      1\u001b[0m \u001b[0;32mfrom\u001b[0m \u001b[0mgensim\u001b[0m\u001b[0;34m.\u001b[0m\u001b[0mmodels\u001b[0m \u001b[0;32mimport\u001b[0m \u001b[0mFastText\u001b[0m\u001b[0;34m\u001b[0m\u001b[0;34m\u001b[0m\u001b[0m\n\u001b[0;32m----> 2\u001b[0;31m \u001b[0;32mfrom\u001b[0m \u001b[0mglove\u001b[0m \u001b[0;32mimport\u001b[0m \u001b[0mCorpus\u001b[0m\u001b[0;34m,\u001b[0m \u001b[0mGlove\u001b[0m\u001b[0;34m\u001b[0m\u001b[0;34m\u001b[0m\u001b[0m\n\u001b[0m\u001b[1;32m      3\u001b[0m \u001b[0;34m\u001b[0m\u001b[0m\n\u001b[1;32m      4\u001b[0m \u001b[0;31m# Example Arabic tokens\u001b[0m\u001b[0;34m\u001b[0m\u001b[0;34m\u001b[0m\u001b[0m\n\u001b[1;32m      5\u001b[0m \u001b[0marabic_tokens\u001b[0m \u001b[0;34m=\u001b[0m \u001b[0;34m[\u001b[0m\u001b[0;34m[\u001b[0m\u001b[0;34m\"كان\"\u001b[0m\u001b[0;34m,\u001b[0m \u001b[0;34m\"الطقس\"\u001b[0m\u001b[0;34m,\u001b[0m \u001b[0;34m\"حاراً\"\u001b[0m\u001b[0;34m,\u001b[0m \u001b[0;34m\"في\"\u001b[0m\u001b[0;34m,\u001b[0m \u001b[0;34m\"الصيف\"\u001b[0m\u001b[0;34m,\u001b[0m \u001b[0;34m\"و\"\u001b[0m\u001b[0;34m,\u001b[0m \u001b[0;34m\"بارداً\"\u001b[0m\u001b[0;34m,\u001b[0m \u001b[0;34m\"في\"\u001b[0m\u001b[0;34m,\u001b[0m \u001b[0;34m\"الشتاء\"\u001b[0m\u001b[0;34m]\u001b[0m\u001b[0;34m]\u001b[0m\u001b[0;34m\u001b[0m\u001b[0;34m\u001b[0m\u001b[0m\n",
            "\u001b[0;31mModuleNotFoundError\u001b[0m: No module named 'glove'",
            "",
            "\u001b[0;31m---------------------------------------------------------------------------\u001b[0;32m\nNOTE: If your import is failing due to a missing package, you can\nmanually install dependencies using either !pip or !apt.\n\nTo view examples of installing some common dependencies, click the\n\"Open Examples\" button below.\n\u001b[0;31m---------------------------------------------------------------------------\u001b[0m\n"
          ]
        }
      ],
      "source": [
        "from gensim.models import FastText\n",
        "# from glove import Corpus, Glove\n",
        "\n",
        "# Example Arabic tokens\n",
        "arabic_tokens = [[\"كان\", \"الطقس\", \"حاراً\", \"في\", \"الصيف\", \"و\", \"بارداً\", \"في\", \"الشتاء\"]]\n",
        "\n",
        "# Train FastText model\n",
        "model_fasttext = FastText(sentences=arabic_tokens, vector_size=100, window=5, min_count=1)\n",
        "\n",
        "# Train GloVe model\n",
        "corpus = Corpus()\n",
        "corpus.fit(arabic_tokens, window=5)\n",
        "glove = Glove(no_components=100, learning_rate=0.05)\n",
        "glove.fit(corpus.matrix, epochs=30, no_threads=4, verbose=True)\n",
        "\n",
        "# Get vector representation of a word\n",
        "word_vector_fasttext = model_fasttext.wv.get_vector(\"كان\")\n",
        "word_vector_glove = glove.word_vectors[glove.dictionary[\"كان\"]]\n",
        "\n",
        "# Find similar words\n",
        "similar_words_fasttext = model_fasttext.wv.most_similar(\"كان\")\n",
        "similar_words_glove = glove.most_similar(\"كان\")\n",
        "\n",
        "# print(\"Word vector (FastText):\", word_vector_fasttext)\n",
        "print(\"Similar words (FastText):\", similar_words_fasttext)\n",
        "\n",
        "# print(\"Word vector (GloVe):\", word_vector_glove)\n",
        "print(\"Similar words (GloVe):\", similar_words_glove)\n"
      ]
    },
    {
      "cell_type": "code",
      "execution_count": null,
      "id": "XZ2LnLp9iEC-",
      "metadata": {
        "id": "XZ2LnLp9iEC-"
      },
      "outputs": [],
      "source": []
    },
    {
      "cell_type": "code",
      "execution_count": null,
      "id": "Px77C2hjiEAF",
      "metadata": {
        "id": "Px77C2hjiEAF"
      },
      "outputs": [],
      "source": []
    }
  ],
  "metadata": {
    "colab": {
      "provenance": []
    },
    "kernelspec": {
      "display_name": "Python 3 (ipykernel)",
      "language": "python",
      "name": "python3"
    },
    "language_info": {
      "codemirror_mode": {
        "name": "ipython",
        "version": 3
      },
      "file_extension": ".py",
      "mimetype": "text/x-python",
      "name": "python",
      "nbconvert_exporter": "python",
      "pygments_lexer": "ipython3",
      "version": "3.12.2"
    }
  },
  "nbformat": 4,
  "nbformat_minor": 5
}
