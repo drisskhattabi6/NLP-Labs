{
 "cells": [
  {
   "cell_type": "markdown",
   "id": "91f69343-3252-4e96-af27-c1e8e24eabe1",
   "metadata": {},
   "source": [
    "<h1 style=\"text-align:center\">NLP Lab 3</h1>"
   ]
  },
  {
   "cell_type": "markdown",
   "id": "3bd68bf6-062a-4eee-8770-d26379b51ffd",
   "metadata": {},
   "source": [
    "# Performed by : **Idriss Khattabi**\n",
    "# Supervised by: **AACHAK Lotfi**"
   ]
  },
  {
   "cell_type": "markdown",
   "id": "5c51c92c-b07f-4c6f-a7ba-032a24f9a10c",
   "metadata": {},
   "source": [
    "---------------\n",
    "### **Objective** : The main purpose behind this lab is to get familiar with NLP language models using Sklearn library."
   ]
  },
  {
   "cell_type": "markdown",
   "id": "58702b33-9cef-4d7f-a75f-84e4bc27f8b1",
   "metadata": {},
   "source": [
    "## Part 1: Language Modeling / Regression :"
   ]
  },
  {
   "cell_type": "markdown",
   "id": "7f9eba33-2516-40b5-a6ba-9a2ffdd7a1c5",
   "metadata": {},
   "source": [
    "The purpose of \"**Part 1**\" is to validate approaches to grading short answer tests using machine learning models. The problem is to score and evaluate the student answer based on a model that performs regression."
   ]
  },
  {
   "cell_type": "code",
   "execution_count": 1,
   "id": "cf3ade9c-cf69-4bd4-b761-b5f202e58313",
   "metadata": {},
   "outputs": [],
   "source": [
    "import pandas as pd\n",
    "import numpy as np\n",
    "import seaborn as sns\n",
    "import matplotlib.pyplot as plt\n",
    "import re\n",
    "import string\n",
    "import nltk\n",
    "from nltk.corpus import stopwords\n",
    "from nltk.tokenize import word_tokenize\n",
    "from nltk.stem import PorterStemmer, WordNetLemmatizer\n",
    "\n",
    "from gensim.models import Word2Vec\n",
    "from sklearn.feature_extraction.text import CountVectorizer,TfidfVectorizer\n",
    "\n",
    "from sklearn.model_selection import train_test_split\n",
    "from sklearn.svm import SVR, SVC\n",
    "from sklearn.naive_bayes import GaussianNB\n",
    "from sklearn.ensemble import AdaBoostClassifier\n",
    "from sklearn.linear_model import LinearRegression, LogisticRegression\n",
    "from sklearn.tree import DecisionTreeRegressor, DecisionTreeClassifier\n",
    "from sklearn.metrics import mean_squared_error, r2_score, accuracy_score, classification_report, confusion_matrix\n",
    "\n",
    "# Download NLTK resources\n",
    "# nltk.download('punkt')\n",
    "# nltk.download('stopwords')\n",
    "# nltk.download('wordnet')"
   ]
  },
  {
   "cell_type": "markdown",
   "id": "b846a50c-37f0-4f8c-862d-b42718692d99",
   "metadata": {},
   "source": [
    "### load data : "
   ]
  },
  {
   "cell_type": "code",
   "execution_count": 2,
   "id": "a58e1b30-1ba7-493e-bd2f-182523403205",
   "metadata": {},
   "outputs": [
    {
     "data": {
      "text/html": [
       "<div>\n",
       "<style scoped>\n",
       "    .dataframe tbody tr th:only-of-type {\n",
       "        vertical-align: middle;\n",
       "    }\n",
       "\n",
       "    .dataframe tbody tr th {\n",
       "        vertical-align: top;\n",
       "    }\n",
       "\n",
       "    .dataframe thead th {\n",
       "        text-align: right;\n",
       "    }\n",
       "</style>\n",
       "<table border=\"1\" class=\"dataframe\">\n",
       "  <thead>\n",
       "    <tr style=\"text-align: right;\">\n",
       "      <th></th>\n",
       "      <th>id</th>\n",
       "      <th>answer</th>\n",
       "      <th>score</th>\n",
       "      <th>correct</th>\n",
       "    </tr>\n",
       "  </thead>\n",
       "  <tbody>\n",
       "    <tr>\n",
       "      <th>0</th>\n",
       "      <td>1.1</td>\n",
       "      <td>High risk problems are address in the prototyp...</td>\n",
       "      <td>3.5</td>\n",
       "      <td>0.0</td>\n",
       "    </tr>\n",
       "    <tr>\n",
       "      <th>1</th>\n",
       "      <td>1.1</td>\n",
       "      <td>To simulate portions of the desired final prod...</td>\n",
       "      <td>5.0</td>\n",
       "      <td>1.0</td>\n",
       "    </tr>\n",
       "    <tr>\n",
       "      <th>2</th>\n",
       "      <td>1.1</td>\n",
       "      <td>A prototype program simulates the behaviors of...</td>\n",
       "      <td>4.0</td>\n",
       "      <td>1.0</td>\n",
       "    </tr>\n",
       "    <tr>\n",
       "      <th>3</th>\n",
       "      <td>1.1</td>\n",
       "      <td>Defined in the Specification phase a prototype...</td>\n",
       "      <td>5.0</td>\n",
       "      <td>1.0</td>\n",
       "    </tr>\n",
       "    <tr>\n",
       "      <th>4</th>\n",
       "      <td>1.1</td>\n",
       "      <td>It is used to let the users have a first idea ...</td>\n",
       "      <td>3.0</td>\n",
       "      <td>0.0</td>\n",
       "    </tr>\n",
       "  </tbody>\n",
       "</table>\n",
       "</div>"
      ],
      "text/plain": [
       "    id                                             answer  score  correct\n",
       "0  1.1  High risk problems are address in the prototyp...    3.5      0.0\n",
       "1  1.1  To simulate portions of the desired final prod...    5.0      1.0\n",
       "2  1.1  A prototype program simulates the behaviors of...    4.0      1.0\n",
       "3  1.1  Defined in the Specification phase a prototype...    5.0      1.0\n",
       "4  1.1  It is used to let the users have a first idea ...    3.0      0.0"
      ]
     },
     "execution_count": 2,
     "metadata": {},
     "output_type": "execute_result"
    }
   ],
   "source": [
    "data = pd.read_csv(\"answers.csv\")\n",
    "data.head()"
   ]
  },
  {
   "cell_type": "code",
   "execution_count": 3,
   "id": "b740a404-b045-47a3-ae0b-8c280129ca4f",
   "metadata": {},
   "outputs": [
    {
     "data": {
      "text/plain": [
       "2442"
      ]
     },
     "execution_count": 3,
     "metadata": {},
     "output_type": "execute_result"
    }
   ],
   "source": [
    "len(data)"
   ]
  },
  {
   "cell_type": "code",
   "execution_count": 4,
   "id": "e6b47824-25dc-431b-9db1-fe8951ae32e2",
   "metadata": {},
   "outputs": [
    {
     "data": {
      "text/plain": [
       "id         False\n",
       "answer     False\n",
       "score      False\n",
       "correct    False\n",
       "dtype: bool"
      ]
     },
     "execution_count": 4,
     "metadata": {},
     "output_type": "execute_result"
    }
   ],
   "source": [
    "data.isna().any()"
   ]
  },
  {
   "cell_type": "code",
   "execution_count": 5,
   "id": "4f472bd6-783b-40ce-a37b-584ed7919315",
   "metadata": {},
   "outputs": [],
   "source": [
    "# Remove duplicate rows\n",
    "data = data.drop_duplicates(subset='answer')"
   ]
  },
  {
   "cell_type": "code",
   "execution_count": 6,
   "id": "84487968-ee2b-404e-b8c2-e5926242be2a",
   "metadata": {},
   "outputs": [
    {
     "data": {
      "text/plain": [
       "2312"
      ]
     },
     "execution_count": 6,
     "metadata": {},
     "output_type": "execute_result"
    }
   ],
   "source": [
    "len(data)"
   ]
  },
  {
   "cell_type": "markdown",
   "id": "8fde9bfe-37e4-4d22-bac0-2ae7bdc228c6",
   "metadata": {},
   "source": [
    "### 1. Establish a preprocessing NLP pipeline (Tokenization stemming lemmatization, Stop words, Discretization, etc) of the collected Dataset."
   ]
  },
  {
   "cell_type": "code",
   "execution_count": 7,
   "id": "9965699c-69e6-41fe-ba7f-b68546ddc002",
   "metadata": {},
   "outputs": [
    {
     "name": "stdout",
     "output_type": "stream",
     "text": [
      "-> Text :  High risk problems are address in the prototype program to make sure that the program is feasible. A prototype may also be used to show a company that the software can be possibly programmed.\n",
      "-> Stemming : ['high', 'risk', 'problem', 'address', 'prototyp', 'program', 'make', 'sure', 'program', 'feasibl', 'prototyp', 'may', 'also', 'use', 'show', 'compani', 'softwar', 'possibl', 'program']\n",
      "-> Lemmatization : ['high', 'risk', 'problem', 'address', 'prototype', 'program', 'make', 'sure', 'program', 'feasible', 'prototype', 'may', 'also', 'used', 'show', 'company', 'software', 'possibly', 'programmed']\n",
      "**************************************************\n",
      "-> Text :  A program that stimulates the behavior of portions of the desired software product.\n",
      "-> Stemming : ['program', 'stimul', 'behavior', 'portion', 'desir', 'softwar', 'product']\n",
      "-> Lemmatization : ['program', 'stimulates', 'behavior', 'portion', 'desired', 'software', 'product']\n",
      "**************************************************\n",
      "-> Text :  it simulates the behavior of portions of the desired software product\n",
      "-> Stemming : ['simul', 'behavior', 'portion', 'desir', 'softwar', 'product']\n",
      "-> Lemmatization : ['simulates', 'behavior', 'portion', 'desired', 'software', 'product']\n",
      "**************************************************\n"
     ]
    }
   ],
   "source": [
    "def clean_text(text):\n",
    "    # Remove non-alphanumeric characters\n",
    "    cleaned_text = ''.join(char.lower() for char in text if char.isalnum() or char == ' ')\n",
    "    # Remove extra spaces\n",
    "    cleaned_text = ' '.join(cleaned_text.split())\n",
    "    return cleaned_text\n",
    "\n",
    "# insialization :\n",
    "Lemmatized_words = []\n",
    "stop_words = set(stopwords.words('english'))\n",
    "porter = PorterStemmer()\n",
    "lemmatizer = WordNetLemmatizer()\n",
    "\n",
    "for text, i in zip(data[\"answer\"], range(len(data))) :\n",
    "\n",
    "    # Clean text\n",
    "    cleaned_text = clean_text(text)\n",
    "    \n",
    "    # Tokenization\n",
    "    tokens = word_tokenize(cleaned_text)\n",
    "    \n",
    "    # Removing punctuation\n",
    "    tokens = [token for token in tokens if token not in string.punctuation]\n",
    "    \n",
    "    # Removing stopwords\n",
    "    tokens = [token for token in tokens if token not in stop_words]\n",
    "    \n",
    "    # Stemming\n",
    "    stemmed_tokens = [porter.stem(token) for token in tokens]\n",
    "    \n",
    "    # Lemmatization\n",
    "    lemmatized_tokens = [lemmatizer.lemmatize(token) for token in tokens]\n",
    "\n",
    "    if i == 0 or i == 10 or i == 20: \n",
    "        print(\"-> Text : \", text)\n",
    "        print(\"-> Stemming :\", stemmed_tokens)\n",
    "        print(\"-> Lemmatization :\", lemmatized_tokens)\n",
    "        print(\"*\"*50)\n",
    "\n",
    "    # save Lemmatized words :\n",
    "    Lemmatized_words.append(lemmatized_tokens)"
   ]
  },
  {
   "cell_type": "code",
   "execution_count": 8,
   "id": "7b232911-a315-4fff-8446-fb2bd2692e5e",
   "metadata": {},
   "outputs": [
    {
     "data": {
      "text/html": [
       "<div>\n",
       "<style scoped>\n",
       "    .dataframe tbody tr th:only-of-type {\n",
       "        vertical-align: middle;\n",
       "    }\n",
       "\n",
       "    .dataframe tbody tr th {\n",
       "        vertical-align: top;\n",
       "    }\n",
       "\n",
       "    .dataframe thead th {\n",
       "        text-align: right;\n",
       "    }\n",
       "</style>\n",
       "<table border=\"1\" class=\"dataframe\">\n",
       "  <thead>\n",
       "    <tr style=\"text-align: right;\">\n",
       "      <th></th>\n",
       "      <th>id</th>\n",
       "      <th>answer</th>\n",
       "      <th>score</th>\n",
       "      <th>correct</th>\n",
       "      <th>lemmatiwed_word</th>\n",
       "    </tr>\n",
       "  </thead>\n",
       "  <tbody>\n",
       "    <tr>\n",
       "      <th>0</th>\n",
       "      <td>1.1</td>\n",
       "      <td>High risk problems are address in the prototyp...</td>\n",
       "      <td>3.5</td>\n",
       "      <td>0.0</td>\n",
       "      <td>[high, risk, problem, address, prototype, prog...</td>\n",
       "    </tr>\n",
       "    <tr>\n",
       "      <th>1</th>\n",
       "      <td>1.1</td>\n",
       "      <td>To simulate portions of the desired final prod...</td>\n",
       "      <td>5.0</td>\n",
       "      <td>1.0</td>\n",
       "      <td>[simulate, portion, desired, final, product, q...</td>\n",
       "    </tr>\n",
       "    <tr>\n",
       "      <th>2</th>\n",
       "      <td>1.1</td>\n",
       "      <td>A prototype program simulates the behaviors of...</td>\n",
       "      <td>4.0</td>\n",
       "      <td>1.0</td>\n",
       "      <td>[prototype, program, simulates, behavior, port...</td>\n",
       "    </tr>\n",
       "    <tr>\n",
       "      <th>3</th>\n",
       "      <td>1.1</td>\n",
       "      <td>Defined in the Specification phase a prototype...</td>\n",
       "      <td>5.0</td>\n",
       "      <td>1.0</td>\n",
       "      <td>[defined, specification, phase, prototype, sti...</td>\n",
       "    </tr>\n",
       "    <tr>\n",
       "      <th>4</th>\n",
       "      <td>1.1</td>\n",
       "      <td>It is used to let the users have a first idea ...</td>\n",
       "      <td>3.0</td>\n",
       "      <td>0.0</td>\n",
       "      <td>[used, let, user, first, idea, completed, prog...</td>\n",
       "    </tr>\n",
       "  </tbody>\n",
       "</table>\n",
       "</div>"
      ],
      "text/plain": [
       "    id                                             answer  score  correct  \\\n",
       "0  1.1  High risk problems are address in the prototyp...    3.5      0.0   \n",
       "1  1.1  To simulate portions of the desired final prod...    5.0      1.0   \n",
       "2  1.1  A prototype program simulates the behaviors of...    4.0      1.0   \n",
       "3  1.1  Defined in the Specification phase a prototype...    5.0      1.0   \n",
       "4  1.1  It is used to let the users have a first idea ...    3.0      0.0   \n",
       "\n",
       "                                     lemmatiwed_word  \n",
       "0  [high, risk, problem, address, prototype, prog...  \n",
       "1  [simulate, portion, desired, final, product, q...  \n",
       "2  [prototype, program, simulates, behavior, port...  \n",
       "3  [defined, specification, phase, prototype, sti...  \n",
       "4  [used, let, user, first, idea, completed, prog...  "
      ]
     },
     "execution_count": 8,
     "metadata": {},
     "output_type": "execute_result"
    }
   ],
   "source": [
    "# save Lemmatized words in the data DataFrame :\n",
    "data[\"lemmatiwed_word\"] = Lemmatized_words\n",
    "data.head()"
   ]
  },
  {
   "cell_type": "markdown",
   "id": "b97a00f0-274a-452e-9479-99533d0e1c60",
   "metadata": {},
   "source": [
    "### 2. Encode your Data vectors By using Word2vec (CBOW, Skip Gram), Bag Of words, TF-IDF."
   ]
  },
  {
   "cell_type": "markdown",
   "id": "bcd817c1-b0d2-4fe3-8d40-dfe940ef7cd0",
   "metadata": {},
   "source": [
    "#### i - Using Word2Vec: Continuous Bag of Words (CBOW) and Skip-gram"
   ]
  },
  {
   "cell_type": "code",
   "execution_count": 9,
   "id": "1055a761-f975-4814-ac34-0da80785b51f",
   "metadata": {},
   "outputs": [],
   "source": [
    "# Word2Vec model using CBOW\n",
    "cbow_model = Word2Vec(Lemmatized_words, vector_size=100, window=5, min_count=1, sg=0)\n",
    "\n",
    "# Word2Vec model using Skip-gram\n",
    "skipgram_model = Word2Vec(Lemmatized_words, vector_size=100, window=5, min_count=1, sg=1)"
   ]
  },
  {
   "cell_type": "markdown",
   "id": "b96b37e7-9212-4e4f-9853-f15f16225cbf",
   "metadata": {},
   "source": [
    "**=> Examples of usage of Word2Vec models :**"
   ]
  },
  {
   "cell_type": "code",
   "execution_count": 10,
   "id": "9254a73c-bad1-4577-b03e-5f2f881d675e",
   "metadata": {},
   "outputs": [
    {
     "name": "stdout",
     "output_type": "stream",
     "text": [
      "=> CBOW most_similar for 'software': [('program', 0.999291181564331), ('make', 0.999180257320404), ('would', 0.999160647392273), ('compiler', 0.9991544485092163), ('problem', 0.9991538524627686), ('time', 0.9991527795791626), ('position', 0.9991399049758911), ('int', 0.9991390109062195), ('sorted', 0.9991139769554138), ('using', 0.9991046786308289)]\n",
      "----------------------------------------------------------------------------------------------------\n",
      "=> Skip-gram most_similar for 'software': [('behavior', 0.997604250907898), ('depending', 0.9975287318229675), ('desired', 0.997443675994873), ('product', 0.997402012348175), ('us', 0.9973108768463135), ('say', 0.9972730875015259), ('fails', 0.9972231984138489), ('often', 0.9971567988395691), ('difficult', 0.9971345663070679), ('become', 0.9970462918281555)]\n"
     ]
    }
   ],
   "source": [
    "# Example 1 :\n",
    "word = \"software\"\n",
    "cbow_vector = cbow_model.wv.most_similar(word)\n",
    "skipgram_vector = skipgram_model.wv.most_similar(word)\n",
    "\n",
    "print(\"=> CBOW most_similar for '{}':\".format(word), cbow_vector)\n",
    "print(\"-\"*100)\n",
    "print(\"=> Skip-gram most_similar for '{}':\".format(word), skipgram_vector)"
   ]
  },
  {
   "cell_type": "code",
   "execution_count": 13,
   "id": "330c8b6e-637a-4c42-ac57-70082b6072fa",
   "metadata": {},
   "outputs": [
    {
     "name": "stdout",
     "output_type": "stream",
     "text": [
      "=> CBOW most_similar for 'problem': [('program', 0.9997347593307495), ('easier', 0.9996424913406372), ('time', 0.9996383190155029), ('also', 0.9996320009231567), ('would', 0.9996317625045776), ('make', 0.9996289014816284), ('operation', 0.9996165037155151), ('array', 0.9996128082275391), ('code', 0.9996027946472168), ('one', 0.9996022582054138)]\n",
      "----------------------------------------------------------------------------------------------------\n",
      "=> Skip-gram most_similar for 'problem': [('recursion', 0.9730550646781921), ('solve', 0.9666934609413147), ('recursive', 0.9663887619972229), ('smaller', 0.9650657773017883), ('infinite', 0.9541262984275818), ('converge', 0.953586220741272), ('step', 0.9531311392784119), ('incorrectly', 0.95050448179245), ('divide', 0.9499750733375549), ('case', 0.9469220042228699)]\n"
     ]
    }
   ],
   "source": [
    "# Example 2 :\n",
    "word = \"problem\"\n",
    "cbow_vector = cbow_model.wv.most_similar(word)\n",
    "skipgram_vector = skipgram_model.wv.most_similar(word)\n",
    "\n",
    "print(\"=> CBOW most_similar for '{}':\".format(word), cbow_vector)\n",
    "print(\"-\"*100)\n",
    "print(\"=> Skip-gram most_similar for '{}':\".format(word), skipgram_vector)"
   ]
  },
  {
   "cell_type": "code",
   "execution_count": 12,
   "id": "959e0c7c-e531-47a4-bf43-349c96d7a9c6",
   "metadata": {},
   "outputs": [
    {
     "name": "stdout",
     "output_type": "stream",
     "text": [
      "=> CBOW most_similar for 'prototype': [('compiler', 0.9995225071907043), ('function', 0.9994953870773315), ('class', 0.9993992447853088), ('code', 0.9993623495101929), ('also', 0.999359667301178), ('used', 0.9993544220924377), ('program', 0.9993436932563782), ('object', 0.9993382096290588), ('value', 0.9993125796318054), ('definition', 0.9993122816085815)]\n",
      "----------------------------------------------------------------------------------------------------\n",
      "=> Skip-gram most_similar for 'prototype': [('includes', 0.9959132671356201), ('definition', 0.993552029132843), ('used', 0.9926382899284363), ('signature', 0.9926190972328186), ('constructor', 0.9894689917564392), ('outside', 0.9892576932907104), ('private', 0.9889452457427979), ('parameter', 0.988390326499939), ('class', 0.985640823841095), ('public', 0.984488308429718)]\n"
     ]
    }
   ],
   "source": [
    "# Example 3 :\n",
    "word = \"prototype\"\n",
    "cbow_vector = cbow_model.wv.most_similar(word)\n",
    "skipgram_vector = skipgram_model.wv.most_similar(word)\n",
    "\n",
    "print(\"=> CBOW most_similar for '{}':\".format(word), cbow_vector)\n",
    "print(\"-\"*100)\n",
    "print(\"=> Skip-gram most_similar for '{}':\".format(word), skipgram_vector)"
   ]
  },
  {
   "cell_type": "markdown",
   "id": "b36caf80-1301-443b-8d51-86c7490cb991",
   "metadata": {},
   "source": [
    "#### ii - Using Bag of Words (BoW):"
   ]
  },
  {
   "cell_type": "code",
   "execution_count": 14,
   "id": "7d41469d-3fe5-41af-9ae6-2b0269c4d31a",
   "metadata": {},
   "outputs": [
    {
     "name": "stdout",
     "output_type": "stream",
     "text": [
      "--------------------------------------------------\n",
      "Bag of Words representation:\n",
      "[[0 0 0 ... 0 0 0]\n",
      " [0 0 0 ... 0 0 0]\n",
      " [0 0 0 ... 0 0 0]\n",
      " ...\n",
      " [0 0 0 ... 0 0 0]\n",
      " [0 0 0 ... 0 0 0]\n",
      " [0 0 0 ... 0 0 0]]\n",
      "size of feature_names : 2374\n",
      "feature_names : ['000000' '012' '0the' ... 'youre' 'zero' 'zillion']\n"
     ]
    }
   ],
   "source": [
    "\n",
    "Lemmatized_texts = [\" \".join(words) for words in Lemmatized_words]\n",
    "\n",
    "# Create Bag of Words representation\n",
    "vectorizer1 = CountVectorizer()\n",
    "bow_representation = vectorizer1.fit_transform(Lemmatized_texts).toarray()\n",
    "\n",
    "print(\"-\"*50)\n",
    "print(\"Bag of Words representation:\")\n",
    "print(bow_representation)\n",
    "\n",
    "# Get feature names (vocabulary)\n",
    "feature_names = vectorizer1.get_feature_names_out()\n",
    "\n",
    "print(\"size of feature_names :\", len(feature_names))\n",
    "print(\"feature_names :\", feature_names)"
   ]
  },
  {
   "cell_type": "code",
   "execution_count": 15,
   "id": "5b20eda7-df37-468b-8018-314e942f9406",
   "metadata": {},
   "outputs": [
    {
     "name": "stdout",
     "output_type": "stream",
     "text": [
      "Feature names from the fisrt row and their counts:\n",
      "high: 1 || risk: 1 || problem: 113 || address: 122 || prototype: 56 || program: 173 || make: 51 || sure: 6 || program: 173 || feasible: 1 || prototype: 56 || may: 36 || also: 68 || used: 104 || show: 12 || company: 1 || software: 15 || possibly: 5 || programmed: 2 || "
     ]
    }
   ],
   "source": [
    "feature_count_dict = dict(zip(feature_names, bow_representation.sum(axis=0)))\n",
    "print(\"Feature names from the fisrt row and their counts:\")\n",
    "for token in Lemmatized_words[0] :\n",
    "    print(f\"{token}: {feature_count_dict[token]}\", end=\" || \")"
   ]
  },
  {
   "cell_type": "markdown",
   "id": "b65ead07-f1d1-448b-a3a7-c77a98338220",
   "metadata": {},
   "source": [
    "#### iii - Using TF-IDF :"
   ]
  },
  {
   "cell_type": "code",
   "execution_count": 16,
   "id": "d9e4ed0f-ed8e-4c6c-9aab-d0aaa6e4b7d0",
   "metadata": {},
   "outputs": [
    {
     "name": "stdout",
     "output_type": "stream",
     "text": [
      "TF-IDF representation:\n",
      "[[0. 0. 0. ... 0. 0. 0.]\n",
      " [0. 0. 0. ... 0. 0. 0.]\n",
      " [0. 0. 0. ... 0. 0. 0.]\n",
      " ...\n",
      " [0. 0. 0. ... 0. 0. 0.]\n",
      " [0. 0. 0. ... 0. 0. 0.]\n",
      " [0. 0. 0. ... 0. 0. 0.]]\n",
      "size of feature_names : 2374\n",
      "feature_names : ['000000' '012' '0the' ... 'youre' 'zero' 'zillion']\n"
     ]
    }
   ],
   "source": [
    "\n",
    "Lemmatized_texts = [\" \".join(text) for text in Lemmatized_words]\n",
    "\n",
    "# Create TF-IDF representation\n",
    "vectorizer2 = TfidfVectorizer()\n",
    "tfidf_representation = vectorizer2.fit_transform(Lemmatized_texts).toarray()\n",
    "\n",
    "print(\"TF-IDF representation:\")\n",
    "print(tfidf_representation)\n",
    "\n",
    "# Get feature names (vocabulary)\n",
    "feature_names2 = vectorizer2.get_feature_names_out()\n",
    "\n",
    "print(\"size of feature_names :\", len(feature_names2))\n",
    "print(\"feature_names :\", feature_names2)"
   ]
  },
  {
   "cell_type": "code",
   "execution_count": 17,
   "id": "9ff1c436-f7d7-485e-81e6-9c9c4d965ace",
   "metadata": {},
   "outputs": [
    {
     "name": "stdout",
     "output_type": "stream",
     "text": [
      "Feature names from the fisrt row and their counts:\n",
      "high: 0.29 || risk: 0.29 || problem: 21.98 || address: 39.49 || prototype: 14.27 || program: 35.14 || make: 10.86 || sure: 1.59 || program: 35.14 || feasible: 0.29 || prototype: 14.27 || may: 8.18 || also: 13.25 || used: 23.48 || show: 3.09 || company: 0.29 || software: 4.12 || possibly: 1.38 || programmed: 0.62 || "
     ]
    }
   ],
   "source": [
    "feature_count_dict2 = dict(zip(feature_names2, tfidf_representation.sum(axis=0)))\n",
    "print(\"Feature names from the fisrt row and their counts:\")\n",
    "for token in Lemmatized_words[0] :\n",
    "    print(f\"{token}: {feature_count_dict2[token]:.2f}\", end=\" || \")"
   ]
  },
  {
   "cell_type": "markdown",
   "id": "d06e1355-4017-4471-8420-01817a3760ac",
   "metadata": {},
   "source": [
    "### 3. Train your models by using SVR, Naive Bayes, Linear Regression , Decision Tree Algorithms (The embedding will be done by Word2Vec)."
   ]
  },
  {
   "cell_type": "markdown",
   "id": "8a86418a-47f2-4fa0-a39b-7921e38e52ca",
   "metadata": {},
   "source": [
    "Calculating Sentence Embeddings : \n",
    "\n",
    "We need to convert each sentence into a fixed-size vector. This is done by averaging the word embeddings for all valid words in the sentence.\n",
    "\n",
    "This function filters out words not present in the model's vocabulary, computes the mean vector of the valid words, and returns a zero vector if no valid words are found."
   ]
  },
  {
   "cell_type": "code",
   "execution_count": 18,
   "id": "9439483a-be4f-4a54-8cf1-9fd2cf028e13",
   "metadata": {},
   "outputs": [],
   "source": [
    "# Function to compute embeddings for each sentence\n",
    "def compute_embeddings(sentence, model):\n",
    "    # Filter out words not present in the Word2Vec vocabulary\n",
    "    valid_words = [word for word in sentence if word in model.wv]\n",
    "    if valid_words:\n",
    "        # Compute the average embedding for the model\n",
    "        sentence_embedding = np.mean([model.wv[word] for word in valid_words], axis=0)\n",
    "    else:\n",
    "        # If no valid words found, return NaN\n",
    "        sentence_embedding = np.nan\n",
    "    return sentence_embedding\n",
    "\n",
    "# Compute embeddings for CBOW model and store them in a new column\n",
    "data['cbow_embeddings'] = data['lemmatiwed_word'].apply(lambda sentence: compute_embeddings(sentence, cbow_model))\n",
    "\n",
    "# Compute embeddings for Skip-gram model and store them in a new column\n",
    "data['skipgram_embeddings'] = data['lemmatiwed_word'].apply(lambda sentence: compute_embeddings(sentence, skipgram_model))\n"
   ]
  },
  {
   "cell_type": "code",
   "execution_count": 19,
   "id": "c4531a04-519e-4770-921c-2344500042ad",
   "metadata": {},
   "outputs": [],
   "source": [
    "# Remove duplicate rows\n",
    "data = data.drop_duplicates(subset='cbow_embeddings')"
   ]
  },
  {
   "cell_type": "code",
   "execution_count": 20,
   "id": "912b9b34-1f84-4c22-a5d9-5722c8d64cd7",
   "metadata": {},
   "outputs": [],
   "source": [
    "# Drop NA\n",
    "data = data.dropna(subset='cbow_embeddings')"
   ]
  },
  {
   "cell_type": "code",
   "execution_count": 21,
   "id": "87742cf0-0369-4aa3-a39f-9f31cfa06004",
   "metadata": {},
   "outputs": [
    {
     "data": {
      "text/html": [
       "<div>\n",
       "<style scoped>\n",
       "    .dataframe tbody tr th:only-of-type {\n",
       "        vertical-align: middle;\n",
       "    }\n",
       "\n",
       "    .dataframe tbody tr th {\n",
       "        vertical-align: top;\n",
       "    }\n",
       "\n",
       "    .dataframe thead th {\n",
       "        text-align: right;\n",
       "    }\n",
       "</style>\n",
       "<table border=\"1\" class=\"dataframe\">\n",
       "  <thead>\n",
       "    <tr style=\"text-align: right;\">\n",
       "      <th></th>\n",
       "      <th>id</th>\n",
       "      <th>answer</th>\n",
       "      <th>score</th>\n",
       "      <th>correct</th>\n",
       "      <th>lemmatiwed_word</th>\n",
       "      <th>cbow_embeddings</th>\n",
       "      <th>skipgram_embeddings</th>\n",
       "    </tr>\n",
       "  </thead>\n",
       "  <tbody>\n",
       "    <tr>\n",
       "      <th>0</th>\n",
       "      <td>1.1</td>\n",
       "      <td>High risk problems are address in the prototyp...</td>\n",
       "      <td>3.5</td>\n",
       "      <td>0.0</td>\n",
       "      <td>[high, risk, problem, address, prototype, prog...</td>\n",
       "      <td>[-0.056885693, 0.16198005, 0.075529434, 0.0060...</td>\n",
       "      <td>[0.013975439, 0.12841742, 0.05337805, -0.06676...</td>\n",
       "    </tr>\n",
       "    <tr>\n",
       "      <th>1</th>\n",
       "      <td>1.1</td>\n",
       "      <td>To simulate portions of the desired final prod...</td>\n",
       "      <td>5.0</td>\n",
       "      <td>1.0</td>\n",
       "      <td>[simulate, portion, desired, final, product, q...</td>\n",
       "      <td>[-0.04288703, 0.122310966, 0.055705238, 0.0021...</td>\n",
       "      <td>[0.020961717, 0.12775242, 0.04435967, -0.08168...</td>\n",
       "    </tr>\n",
       "    <tr>\n",
       "      <th>2</th>\n",
       "      <td>1.1</td>\n",
       "      <td>A prototype program simulates the behaviors of...</td>\n",
       "      <td>4.0</td>\n",
       "      <td>1.0</td>\n",
       "      <td>[prototype, program, simulates, behavior, port...</td>\n",
       "      <td>[-0.04262539, 0.13092329, 0.06179861, 0.005782...</td>\n",
       "      <td>[0.024526263, 0.13238364, 0.05544702, -0.07207...</td>\n",
       "    </tr>\n",
       "    <tr>\n",
       "      <th>3</th>\n",
       "      <td>1.1</td>\n",
       "      <td>Defined in the Specification phase a prototype...</td>\n",
       "      <td>5.0</td>\n",
       "      <td>1.0</td>\n",
       "      <td>[defined, specification, phase, prototype, sti...</td>\n",
       "      <td>[-0.04025829, 0.1195125, 0.05741969, 0.0036804...</td>\n",
       "      <td>[0.02091289, 0.120895565, 0.05241481, -0.07396...</td>\n",
       "    </tr>\n",
       "    <tr>\n",
       "      <th>4</th>\n",
       "      <td>1.1</td>\n",
       "      <td>It is used to let the users have a first idea ...</td>\n",
       "      <td>3.0</td>\n",
       "      <td>0.0</td>\n",
       "      <td>[used, let, user, first, idea, completed, prog...</td>\n",
       "      <td>[-0.037741404, 0.10548091, 0.050867602, 0.0032...</td>\n",
       "      <td>[0.0034835169, 0.12018603, 0.050448537, -0.063...</td>\n",
       "    </tr>\n",
       "  </tbody>\n",
       "</table>\n",
       "</div>"
      ],
      "text/plain": [
       "    id                                             answer  score  correct  \\\n",
       "0  1.1  High risk problems are address in the prototyp...    3.5      0.0   \n",
       "1  1.1  To simulate portions of the desired final prod...    5.0      1.0   \n",
       "2  1.1  A prototype program simulates the behaviors of...    4.0      1.0   \n",
       "3  1.1  Defined in the Specification phase a prototype...    5.0      1.0   \n",
       "4  1.1  It is used to let the users have a first idea ...    3.0      0.0   \n",
       "\n",
       "                                     lemmatiwed_word  \\\n",
       "0  [high, risk, problem, address, prototype, prog...   \n",
       "1  [simulate, portion, desired, final, product, q...   \n",
       "2  [prototype, program, simulates, behavior, port...   \n",
       "3  [defined, specification, phase, prototype, sti...   \n",
       "4  [used, let, user, first, idea, completed, prog...   \n",
       "\n",
       "                                     cbow_embeddings  \\\n",
       "0  [-0.056885693, 0.16198005, 0.075529434, 0.0060...   \n",
       "1  [-0.04288703, 0.122310966, 0.055705238, 0.0021...   \n",
       "2  [-0.04262539, 0.13092329, 0.06179861, 0.005782...   \n",
       "3  [-0.04025829, 0.1195125, 0.05741969, 0.0036804...   \n",
       "4  [-0.037741404, 0.10548091, 0.050867602, 0.0032...   \n",
       "\n",
       "                                 skipgram_embeddings  \n",
       "0  [0.013975439, 0.12841742, 0.05337805, -0.06676...  \n",
       "1  [0.020961717, 0.12775242, 0.04435967, -0.08168...  \n",
       "2  [0.024526263, 0.13238364, 0.05544702, -0.07207...  \n",
       "3  [0.02091289, 0.120895565, 0.05241481, -0.07396...  \n",
       "4  [0.0034835169, 0.12018603, 0.050448537, -0.063...  "
      ]
     },
     "execution_count": 21,
     "metadata": {},
     "output_type": "execute_result"
    }
   ],
   "source": [
    "data.head()"
   ]
  },
  {
   "cell_type": "code",
   "execution_count": 22,
   "id": "4f6351a6-8d16-4627-94d7-b3261146daa7",
   "metadata": {},
   "outputs": [
    {
     "name": "stdout",
     "output_type": "stream",
     "text": [
      "Length of X_cbow_embeddings: 2308\n",
      "Length of score: 2308\n"
     ]
    }
   ],
   "source": [
    "print(\"Length of X_cbow_embeddings:\", len(data[\"cbow_embeddings\"]))\n",
    "print(\"Length of score:\", len(data[\"score\"]))"
   ]
  },
  {
   "cell_type": "code",
   "execution_count": 23,
   "id": "de742e3d-905a-4af1-84f4-fb2840e2bd27",
   "metadata": {},
   "outputs": [
    {
     "data": {
      "text/plain": [
       "0    [-0.056885693, 0.16198005, 0.075529434, 0.0060...\n",
       "1    [-0.04288703, 0.122310966, 0.055705238, 0.0021...\n",
       "2    [-0.04262539, 0.13092329, 0.06179861, 0.005782...\n",
       "3    [-0.04025829, 0.1195125, 0.05741969, 0.0036804...\n",
       "4    [-0.037741404, 0.10548091, 0.050867602, 0.0032...\n",
       "Name: cbow_embeddings, dtype: object"
      ]
     },
     "execution_count": 23,
     "metadata": {},
     "output_type": "execute_result"
    }
   ],
   "source": [
    "data[\"cbow_embeddings\"].head()"
   ]
  },
  {
   "cell_type": "code",
   "execution_count": 24,
   "id": "0b98b38d-370d-4d89-bdcd-3dcb20b1ce14",
   "metadata": {},
   "outputs": [],
   "source": [
    "X_embeddings = np.vstack(data['cbow_embeddings'].values)\n",
    "y = data[\"score\"]\n",
    "\n",
    "# Split data into training and testing sets\n",
    "X_train, X_test, y_train, y_test = train_test_split(X_embeddings, y, test_size=0.2, random_state=42)"
   ]
  },
  {
   "cell_type": "code",
   "execution_count": 25,
   "id": "8b218708-3a01-45ba-a85e-5b306c8cb537",
   "metadata": {},
   "outputs": [
    {
     "name": "stdout",
     "output_type": "stream",
     "text": [
      "X_embeddings shape: (2308, 100)\n",
      "y shape: (2308,)\n"
     ]
    }
   ],
   "source": [
    "# Verify shapes\n",
    "print(\"X_embeddings shape:\", X_embeddings.shape)\n",
    "print(\"y shape:\", y.shape)"
   ]
  },
  {
   "cell_type": "code",
   "execution_count": 26,
   "id": "988ca96b-2e2d-44d5-8b31-6045686e8196",
   "metadata": {},
   "outputs": [],
   "source": [
    "### Support Vector Regression (SVR)\n",
    "svr_model = SVR()\n",
    "svr_model.fit(X_train, y_train)\n",
    "svr_predictions = svr_model.predict(X_test)\n",
    "\n",
    "# nb_model = GaussianNB()\n",
    "# nb_model.fit(X_train, y_train)\n",
    "# nb_predictions = nb_model.predict(X_test)\n",
    "\n",
    "### Linear Regression\n",
    "lr_model = LinearRegression()\n",
    "lr_model.fit(X_train, y_train)\n",
    "lr_predictions = lr_model.predict(X_test)\n",
    "\n",
    "### Decision Tree\n",
    "dt_model = DecisionTreeRegressor()\n",
    "dt_model.fit(X_train, y_train)\n",
    "dt_predictions = dt_model.predict(X_test)"
   ]
  },
  {
   "cell_type": "markdown",
   "id": "d36ef387-49e3-4a91-b7f9-5969fbd862aa",
   "metadata": {},
   "source": [
    "### 4. Evaluate the four languages models by using standards metrics (MSE , RMSE, etc), choose the best model then argument your choice."
   ]
  },
  {
   "cell_type": "code",
   "execution_count": 27,
   "id": "7dd567d8-54ac-4859-b841-963cc49578ae",
   "metadata": {},
   "outputs": [
    {
     "name": "stdout",
     "output_type": "stream",
     "text": [
      "SVR Mean Squared Error: 1.5731874112105553\n",
      "SVR - R Squared (R2): -0.2333834607231826\n",
      "***************************************************************************\n",
      "Linear Regression Mean Squared Error: 1.228673578179358\n",
      "LR - R Squared (R2): 0.036716376475524504\n",
      "***************************************************************************\n",
      "Decision Tree Mean Squared Error: 1.8068275763588264\n",
      "CART - R Squared (R2): -0.4165580230169197\n"
     ]
    }
   ],
   "source": [
    "print(\"SVR Mean Squared Error:\", mean_squared_error(y_test, svr_predictions))\n",
    "print(\"SVR - R Squared (R2):\", r2_score(y_test, svr_predictions))\n",
    "print(\"*\"*75)\n",
    "\n",
    "# print(\"Naive Bayes Mean Squared Error:\", mean_squared_error(y_test, nb_predictions))\n",
    "# print(\"NB - R Squared (R2):\", r2_score(y_test, nb_predictions))\n",
    "# print(\"*\"*75)\n",
    "\n",
    "print(\"Linear Regression Mean Squared Error:\", mean_squared_error(y_test, lr_predictions))\n",
    "print(\"LR - R Squared (R2):\", r2_score(y_test, lr_predictions))\n",
    "print(\"*\"*75)\n",
    "\n",
    "print(\"Decision Tree Mean Squared Error:\", mean_squared_error(y_test, dt_predictions))\n",
    "print(\"CART - R Squared (R2):\", r2_score(y_test, dt_predictions))"
   ]
  },
  {
   "cell_type": "markdown",
   "id": "7440d978-9661-4714-89eb-855e236c8821",
   "metadata": {},
   "source": [
    "### 5. Interpret the Obtained Results."
   ]
  },
  {
   "cell_type": "markdown",
   "id": "46c7058d-e50a-49fc-8f3c-1d9fb3a953a5",
   "metadata": {},
   "source": [
    "- **SVM** has a high error and negative R2, indicating poor performance.\n",
    "- **Linear Regression** performs better than SVR with lower MSE and positive R2, but still explains only 3.6% of the variance.\n",
    "- **Decision Tree** has the highest error and worst R2, performing poorly.\n",
    "\n",
    "### Overall Interpretation\n",
    "\n",
    "- **Best Model:** Linear Regression has the lowest MSE and the highest (albeit low) R2 value, making it the best among the three models evaluated.\n",
    "- **Performance Issues:** All models show poor performance, indicating potential issues with data quality, feature engineering, or model selection."
   ]
  },
  {
   "cell_type": "markdown",
   "id": "9f68a99a-4275-4330-8e71-42ede5936d74",
   "metadata": {},
   "source": [
    "------------------------\n",
    "\n",
    "# Part 2 :  Language Modeling / Classification"
   ]
  },
  {
   "cell_type": "markdown",
   "id": "fec0316f-7082-428e-b67b-bd8cf809f706",
   "metadata": {},
   "source": [
    "The purpose of \"**Part 2**\" is to classify tweets/texts using machine learning models. there is 4 classes : Positive, Negative, Irrelevent, Neutral."
   ]
  },
  {
   "cell_type": "markdown",
   "id": "136c7636-dcc1-4878-b061-004b86e6e925",
   "metadata": {},
   "source": [
    "### Load Data :"
   ]
  },
  {
   "cell_type": "code",
   "execution_count": 2,
   "id": "a2467da7-eaf8-4650-b951-dd267cec2408",
   "metadata": {},
   "outputs": [
    {
     "data": {
      "text/html": [
       "<div>\n",
       "<style scoped>\n",
       "    .dataframe tbody tr th:only-of-type {\n",
       "        vertical-align: middle;\n",
       "    }\n",
       "\n",
       "    .dataframe tbody tr th {\n",
       "        vertical-align: top;\n",
       "    }\n",
       "\n",
       "    .dataframe thead th {\n",
       "        text-align: right;\n",
       "    }\n",
       "</style>\n",
       "<table border=\"1\" class=\"dataframe\">\n",
       "  <thead>\n",
       "    <tr style=\"text-align: right;\">\n",
       "      <th></th>\n",
       "      <th>num</th>\n",
       "      <th>company</th>\n",
       "      <th>target</th>\n",
       "      <th>tweet</th>\n",
       "    </tr>\n",
       "  </thead>\n",
       "  <tbody>\n",
       "    <tr>\n",
       "      <th>0</th>\n",
       "      <td>2401</td>\n",
       "      <td>Borderlands</td>\n",
       "      <td>Positive</td>\n",
       "      <td>I am coming to the borders and I will kill you...</td>\n",
       "    </tr>\n",
       "    <tr>\n",
       "      <th>1</th>\n",
       "      <td>2401</td>\n",
       "      <td>Borderlands</td>\n",
       "      <td>Positive</td>\n",
       "      <td>im getting on borderlands and i will kill you ...</td>\n",
       "    </tr>\n",
       "    <tr>\n",
       "      <th>2</th>\n",
       "      <td>2401</td>\n",
       "      <td>Borderlands</td>\n",
       "      <td>Positive</td>\n",
       "      <td>im coming on borderlands and i will murder you...</td>\n",
       "    </tr>\n",
       "    <tr>\n",
       "      <th>3</th>\n",
       "      <td>2401</td>\n",
       "      <td>Borderlands</td>\n",
       "      <td>Positive</td>\n",
       "      <td>im getting on borderlands 2 and i will murder ...</td>\n",
       "    </tr>\n",
       "    <tr>\n",
       "      <th>4</th>\n",
       "      <td>2401</td>\n",
       "      <td>Borderlands</td>\n",
       "      <td>Positive</td>\n",
       "      <td>im getting into borderlands and i can murder y...</td>\n",
       "    </tr>\n",
       "  </tbody>\n",
       "</table>\n",
       "</div>"
      ],
      "text/plain": [
       "    num      company    target  \\\n",
       "0  2401  Borderlands  Positive   \n",
       "1  2401  Borderlands  Positive   \n",
       "2  2401  Borderlands  Positive   \n",
       "3  2401  Borderlands  Positive   \n",
       "4  2401  Borderlands  Positive   \n",
       "\n",
       "                                               tweet  \n",
       "0  I am coming to the borders and I will kill you...  \n",
       "1  im getting on borderlands and i will kill you ...  \n",
       "2  im coming on borderlands and i will murder you...  \n",
       "3  im getting on borderlands 2 and i will murder ...  \n",
       "4  im getting into borderlands and i can murder y...  "
      ]
     },
     "execution_count": 2,
     "metadata": {},
     "output_type": "execute_result"
    }
   ],
   "source": [
    "data2 = pd.read_csv(\"twitter_training.csv\")\n",
    "data2.columns=[\"num\", \"company\", \"target\", \"tweet\"]\n",
    "data2.head()"
   ]
  },
  {
   "cell_type": "code",
   "execution_count": 3,
   "id": "47972607-9487-4333-a2b7-103826c06507",
   "metadata": {},
   "outputs": [
    {
     "data": {
      "text/html": [
       "<div>\n",
       "<style scoped>\n",
       "    .dataframe tbody tr th:only-of-type {\n",
       "        vertical-align: middle;\n",
       "    }\n",
       "\n",
       "    .dataframe tbody tr th {\n",
       "        vertical-align: top;\n",
       "    }\n",
       "\n",
       "    .dataframe thead th {\n",
       "        text-align: right;\n",
       "    }\n",
       "</style>\n",
       "<table border=\"1\" class=\"dataframe\">\n",
       "  <thead>\n",
       "    <tr style=\"text-align: right;\">\n",
       "      <th></th>\n",
       "      <th>target</th>\n",
       "      <th>tweet</th>\n",
       "    </tr>\n",
       "  </thead>\n",
       "  <tbody>\n",
       "    <tr>\n",
       "      <th>0</th>\n",
       "      <td>Positive</td>\n",
       "      <td>I am coming to the borders and I will kill you...</td>\n",
       "    </tr>\n",
       "    <tr>\n",
       "      <th>1</th>\n",
       "      <td>Positive</td>\n",
       "      <td>im getting on borderlands and i will kill you ...</td>\n",
       "    </tr>\n",
       "    <tr>\n",
       "      <th>2</th>\n",
       "      <td>Positive</td>\n",
       "      <td>im coming on borderlands and i will murder you...</td>\n",
       "    </tr>\n",
       "    <tr>\n",
       "      <th>3</th>\n",
       "      <td>Positive</td>\n",
       "      <td>im getting on borderlands 2 and i will murder ...</td>\n",
       "    </tr>\n",
       "    <tr>\n",
       "      <th>4</th>\n",
       "      <td>Positive</td>\n",
       "      <td>im getting into borderlands and i can murder y...</td>\n",
       "    </tr>\n",
       "  </tbody>\n",
       "</table>\n",
       "</div>"
      ],
      "text/plain": [
       "     target                                              tweet\n",
       "0  Positive  I am coming to the borders and I will kill you...\n",
       "1  Positive  im getting on borderlands and i will kill you ...\n",
       "2  Positive  im coming on borderlands and i will murder you...\n",
       "3  Positive  im getting on borderlands 2 and i will murder ...\n",
       "4  Positive  im getting into borderlands and i can murder y..."
      ]
     },
     "execution_count": 3,
     "metadata": {},
     "output_type": "execute_result"
    }
   ],
   "source": [
    "# remove Irrelevent Column\n",
    "data2 = data2.drop(columns=[\"num\", \"company\"])\n",
    "data2.head()"
   ]
  },
  {
   "cell_type": "code",
   "execution_count": 34,
   "id": "21708aa1-37bf-45f9-a499-50f71a87a1c6",
   "metadata": {},
   "outputs": [
    {
     "data": {
      "text/plain": [
       "target    False\n",
       "tweet      True\n",
       "dtype: bool"
      ]
     },
     "execution_count": 34,
     "metadata": {},
     "output_type": "execute_result"
    }
   ],
   "source": [
    "data2.isna().any()"
   ]
  },
  {
   "cell_type": "code",
   "execution_count": 4,
   "id": "e06fa870-849a-44d1-ae79-d825fc481557",
   "metadata": {},
   "outputs": [
    {
     "data": {
      "text/plain": [
       "74681"
      ]
     },
     "execution_count": 4,
     "metadata": {},
     "output_type": "execute_result"
    }
   ],
   "source": [
    "len(data2)"
   ]
  },
  {
   "cell_type": "code",
   "execution_count": 4,
   "id": "6c641a40-6579-451b-9ef0-5ad597cfd9ef",
   "metadata": {},
   "outputs": [],
   "source": [
    "data2 = data2.dropna(subset='tweet')"
   ]
  },
  {
   "cell_type": "code",
   "execution_count": 5,
   "id": "d561a6ac-179f-47b3-8420-6e2c3fc2ae38",
   "metadata": {},
   "outputs": [
    {
     "data": {
      "text/plain": [
       "69490"
      ]
     },
     "execution_count": 5,
     "metadata": {},
     "output_type": "execute_result"
    }
   ],
   "source": [
    "data2 = data2.drop_duplicates(subset='tweet')\n",
    "len(data2)"
   ]
  },
  {
   "cell_type": "markdown",
   "id": "cbba4029-b18a-4f8e-9f54-2e115b52fb9e",
   "metadata": {},
   "source": [
    "### 1. Establish a preprocessing NLP pipeline (Tokenization stemming lemmatization, Stop words, Discretization, etc) of the collected Dataset.\n"
   ]
  },
  {
   "cell_type": "code",
   "execution_count": 6,
   "id": "2c60b108-7005-4bc2-93d5-0baada9128f6",
   "metadata": {},
   "outputs": [
    {
     "name": "stdout",
     "output_type": "stream",
     "text": [
      "-> Text :  I am coming to the borders and I will kill you all,\n",
      "-> Stemming : ['come', 'border', 'kill']\n",
      "-> Lemmatization : ['coming', 'border', 'kill']\n",
      "**************************************************\n",
      "-> Text :  was\n",
      "-> Stemming : []\n",
      "-> Lemmatization : []\n",
      "**************************************************\n",
      "-> Text :  that I was the first real borderlands session in a nice long wait time where i actually had a really satisfying combat experience. and i got some really good kills\n",
      "-> Stemming : ['first', 'real', 'borderland', 'session', 'nice', 'long', 'wait', 'time', 'actual', 'realli', 'satisfi', 'combat', 'experi', 'got', 'realli', 'good', 'kill']\n",
      "-> Lemmatization : ['first', 'real', 'borderland', 'session', 'nice', 'long', 'wait', 'time', 'actually', 'really', 'satisfying', 'combat', 'experience', 'got', 'really', 'good', 'kill']\n",
      "**************************************************\n"
     ]
    }
   ],
   "source": [
    "def clean_text2(text):\n",
    "    # Remove links containing .com\n",
    "    text = re.sub(r'\\b\\S*\\.com\\S*\\b', '', text, flags=re.MULTILINE)\n",
    "    # Remove links starts with http/https/www\n",
    "    text = re.sub(r'http\\S+\\.com\\S*|www\\S+\\.com\\S*|https\\S+\\.com\\S*', '', text, flags=re.MULTILINE)\n",
    "    # Remove words starting with # or @\n",
    "    text = re.sub(r'(@|#)\\w+', '', text)\n",
    "    # Remove non-alphanumeric characters (except spaces)\n",
    "    text = re.sub(r'[^a-zA-Z0-9\\s]', '', text)\n",
    "    # Convert to lowercase and remove extra spaces\n",
    "    cleaned_text = ' '.join(text.lower().split())\n",
    "    return cleaned_text\n",
    "\n",
    "# insialization :\n",
    "Lemmatized_words2 = []\n",
    "stop_words = set(stopwords.words('english'))\n",
    "porter = PorterStemmer()\n",
    "lemmatizer = WordNetLemmatizer()\n",
    "\n",
    "for text, i in zip(data2[\"tweet\"], range(len(data2))) :\n",
    "\n",
    "    # Clean text\n",
    "    cleaned_text = clean_text2(text)\n",
    "    \n",
    "    # Tokenization\n",
    "    tokens = word_tokenize(cleaned_text)\n",
    "    \n",
    "    # Removing punctuation\n",
    "    tokens = [token for token in tokens if token not in string.punctuation]\n",
    "\n",
    "    # all common punctuation characters (e.g., !\"#$%&'()*+,-./:;<=>?@[\\]^_{|}~`)\n",
    "    # Removing stopwords\n",
    "    tokens = [token for token in tokens if token not in stop_words]\n",
    "    \n",
    "    # Stemming\n",
    "    stemmed_tokens = [porter.stem(token) for token in tokens]\n",
    "    \n",
    "    # Lemmatization\n",
    "    lemmatized_tokens = [lemmatizer.lemmatize(token) for token in tokens]\n",
    "\n",
    "    if i == 0 or i == 10 or i == 20: \n",
    "        print(\"-> Text : \", text)\n",
    "        print(\"-> Stemming :\", stemmed_tokens)\n",
    "        print(\"-> Lemmatization :\", lemmatized_tokens)\n",
    "        print(\"*\"*50)\n",
    "\n",
    "    # save Lemmatized words :\n",
    "    Lemmatized_words2.append(lemmatized_tokens)"
   ]
  },
  {
   "cell_type": "code",
   "execution_count": 7,
   "id": "d6848eec-829f-4d93-bc2d-1f0d6a051b2f",
   "metadata": {},
   "outputs": [
    {
     "data": {
      "text/plain": [
       "69490"
      ]
     },
     "execution_count": 7,
     "metadata": {},
     "output_type": "execute_result"
    }
   ],
   "source": [
    "data2[\"Lemmatized_words\"] = Lemmatized_words2\n",
    "len(data2[\"Lemmatized_words\"])"
   ]
  },
  {
   "cell_type": "code",
   "execution_count": 63,
   "id": "119d19a7-8ec3-4d7c-b0c2-8c233f37785c",
   "metadata": {},
   "outputs": [
    {
     "data": {
      "text/html": [
       "<div>\n",
       "<style scoped>\n",
       "    .dataframe tbody tr th:only-of-type {\n",
       "        vertical-align: middle;\n",
       "    }\n",
       "\n",
       "    .dataframe tbody tr th {\n",
       "        vertical-align: top;\n",
       "    }\n",
       "\n",
       "    .dataframe thead th {\n",
       "        text-align: right;\n",
       "    }\n",
       "</style>\n",
       "<table border=\"1\" class=\"dataframe\">\n",
       "  <thead>\n",
       "    <tr style=\"text-align: right;\">\n",
       "      <th></th>\n",
       "      <th>target</th>\n",
       "      <th>tweet</th>\n",
       "      <th>Lemmatized_words</th>\n",
       "    </tr>\n",
       "  </thead>\n",
       "  <tbody>\n",
       "    <tr>\n",
       "      <th>0</th>\n",
       "      <td>Positive</td>\n",
       "      <td>I am coming to the borders and I will kill you...</td>\n",
       "      <td>[coming, border, kill]</td>\n",
       "    </tr>\n",
       "    <tr>\n",
       "      <th>1</th>\n",
       "      <td>Positive</td>\n",
       "      <td>im getting on borderlands and i will kill you ...</td>\n",
       "      <td>[im, getting, borderland, kill]</td>\n",
       "    </tr>\n",
       "    <tr>\n",
       "      <th>2</th>\n",
       "      <td>Positive</td>\n",
       "      <td>im coming on borderlands and i will murder you...</td>\n",
       "      <td>[im, coming, borderland, murder]</td>\n",
       "    </tr>\n",
       "    <tr>\n",
       "      <th>3</th>\n",
       "      <td>Positive</td>\n",
       "      <td>im getting on borderlands 2 and i will murder ...</td>\n",
       "      <td>[im, getting, borderland, 2, murder]</td>\n",
       "    </tr>\n",
       "    <tr>\n",
       "      <th>4</th>\n",
       "      <td>Positive</td>\n",
       "      <td>im getting into borderlands and i can murder y...</td>\n",
       "      <td>[im, getting, borderland, murder]</td>\n",
       "    </tr>\n",
       "    <tr>\n",
       "      <th>5</th>\n",
       "      <td>Positive</td>\n",
       "      <td>So I spent a few hours making something for fu...</td>\n",
       "      <td>[spent, hour, making, something, fun, dont, kn...</td>\n",
       "    </tr>\n",
       "    <tr>\n",
       "      <th>6</th>\n",
       "      <td>Positive</td>\n",
       "      <td>So I spent a couple of hours doing something f...</td>\n",
       "      <td>[spent, couple, hour, something, fun, dont, kn...</td>\n",
       "    </tr>\n",
       "    <tr>\n",
       "      <th>7</th>\n",
       "      <td>Positive</td>\n",
       "      <td>So I spent a few hours doing something for fun...</td>\n",
       "      <td>[spent, hour, something, fun, dont, know, im, ...</td>\n",
       "    </tr>\n",
       "    <tr>\n",
       "      <th>8</th>\n",
       "      <td>Positive</td>\n",
       "      <td>So I spent a few hours making something for fu...</td>\n",
       "      <td>[spent, hour, making, something, fun, dont, kn...</td>\n",
       "    </tr>\n",
       "    <tr>\n",
       "      <th>9</th>\n",
       "      <td>Positive</td>\n",
       "      <td>2010 So I spent a few hours making something f...</td>\n",
       "      <td>[2010, spent, hour, making, something, fun, do...</td>\n",
       "    </tr>\n",
       "    <tr>\n",
       "      <th>10</th>\n",
       "      <td>Positive</td>\n",
       "      <td>was</td>\n",
       "      <td>[]</td>\n",
       "    </tr>\n",
       "    <tr>\n",
       "      <th>11</th>\n",
       "      <td>Neutral</td>\n",
       "      <td>Rock-Hard La Varlope, RARE &amp; POWERFUL, HANDSOM...</td>\n",
       "      <td>[rockhard, la, varlope, rare, powerful, handso...</td>\n",
       "    </tr>\n",
       "    <tr>\n",
       "      <th>12</th>\n",
       "      <td>Neutral</td>\n",
       "      <td>Rock-Hard La Varlope, RARE &amp; POWERFUL, HANDSOM...</td>\n",
       "      <td>[rockhard, la, varlope, rare, powerful, handso...</td>\n",
       "    </tr>\n",
       "    <tr>\n",
       "      <th>13</th>\n",
       "      <td>Neutral</td>\n",
       "      <td>Rock-Hard La Varlope, RARE &amp; POWERFUL, HANDSOM...</td>\n",
       "      <td>[rockhard, la, varlope, rare, powerful, handso...</td>\n",
       "    </tr>\n",
       "    <tr>\n",
       "      <th>14</th>\n",
       "      <td>Neutral</td>\n",
       "      <td>Rock-Hard La Vita, RARE BUT POWERFUL, HANDSOME...</td>\n",
       "      <td>[rockhard, la, vita, rare, powerful, handsome,...</td>\n",
       "    </tr>\n",
       "  </tbody>\n",
       "</table>\n",
       "</div>"
      ],
      "text/plain": [
       "      target                                              tweet  \\\n",
       "0   Positive  I am coming to the borders and I will kill you...   \n",
       "1   Positive  im getting on borderlands and i will kill you ...   \n",
       "2   Positive  im coming on borderlands and i will murder you...   \n",
       "3   Positive  im getting on borderlands 2 and i will murder ...   \n",
       "4   Positive  im getting into borderlands and i can murder y...   \n",
       "5   Positive  So I spent a few hours making something for fu...   \n",
       "6   Positive  So I spent a couple of hours doing something f...   \n",
       "7   Positive  So I spent a few hours doing something for fun...   \n",
       "8   Positive  So I spent a few hours making something for fu...   \n",
       "9   Positive  2010 So I spent a few hours making something f...   \n",
       "10  Positive                                                was   \n",
       "11   Neutral  Rock-Hard La Varlope, RARE & POWERFUL, HANDSOM...   \n",
       "12   Neutral  Rock-Hard La Varlope, RARE & POWERFUL, HANDSOM...   \n",
       "13   Neutral  Rock-Hard La Varlope, RARE & POWERFUL, HANDSOM...   \n",
       "14   Neutral  Rock-Hard La Vita, RARE BUT POWERFUL, HANDSOME...   \n",
       "\n",
       "                                     Lemmatized_words  \n",
       "0                              [coming, border, kill]  \n",
       "1                     [im, getting, borderland, kill]  \n",
       "2                    [im, coming, borderland, murder]  \n",
       "3                [im, getting, borderland, 2, murder]  \n",
       "4                   [im, getting, borderland, murder]  \n",
       "5   [spent, hour, making, something, fun, dont, kn...  \n",
       "6   [spent, couple, hour, something, fun, dont, kn...  \n",
       "7   [spent, hour, something, fun, dont, know, im, ...  \n",
       "8   [spent, hour, making, something, fun, dont, kn...  \n",
       "9   [2010, spent, hour, making, something, fun, do...  \n",
       "10                                                 []  \n",
       "11  [rockhard, la, varlope, rare, powerful, handso...  \n",
       "12  [rockhard, la, varlope, rare, powerful, handso...  \n",
       "13  [rockhard, la, varlope, rare, powerful, handso...  \n",
       "14  [rockhard, la, vita, rare, powerful, handsome,...  "
      ]
     },
     "execution_count": 63,
     "metadata": {},
     "output_type": "execute_result"
    }
   ],
   "source": [
    "data2.head(15)"
   ]
  },
  {
   "cell_type": "code",
   "execution_count": 8,
   "id": "19a4c494-1f14-4eb8-9d17-c0f27cf7e427",
   "metadata": {},
   "outputs": [],
   "source": [
    "# remove NAN data :\n",
    "data2 = data2.dropna(subset='Lemmatized_words')"
   ]
  },
  {
   "cell_type": "code",
   "execution_count": 9,
   "id": "138a3639-1b1f-4262-877c-0fa95b758467",
   "metadata": {},
   "outputs": [],
   "source": [
    "# remove rows where the Lemmatized_words column contains an empty list :\n",
    "data2 = data2[data2['Lemmatized_words'].apply(lambda x: len(x) > 0)]"
   ]
  },
  {
   "cell_type": "code",
   "execution_count": 10,
   "id": "9f3ecf85-521d-483f-9241-90246aea986d",
   "metadata": {},
   "outputs": [
    {
     "data": {
      "text/plain": [
       "62539"
      ]
     },
     "execution_count": 10,
     "metadata": {},
     "output_type": "execute_result"
    }
   ],
   "source": [
    "# remobe duplicated data :\n",
    "data2 = data2.drop_duplicates(subset='Lemmatized_words')\n",
    "len(data2[\"Lemmatized_words\"])"
   ]
  },
  {
   "cell_type": "markdown",
   "id": "fbc7140a-c8c2-468f-9c49-705dd2ff4917",
   "metadata": {},
   "source": [
    "### 2. Encode your Data vectors By using Word2vec (CBOW, Skip Gram), Bag Of words, TF-IDF."
   ]
  },
  {
   "cell_type": "markdown",
   "id": "b6411dbe-df92-4cd0-9d45-4f8a55387d4d",
   "metadata": {},
   "source": [
    "#### i - Using Word2Vec: Continuous Bag of Words (CBOW) and Skip-gram"
   ]
  },
  {
   "cell_type": "code",
   "execution_count": 11,
   "id": "06d7c929-05b6-46a5-a61f-923da910cb38",
   "metadata": {},
   "outputs": [],
   "source": [
    "# Word2Vec model using CBOW\n",
    "cbow_model2 = Word2Vec(Lemmatized_words2, vector_size=100, window=5, min_count=1, sg=0)\n",
    "\n",
    "# Word2Vec model using Skip-gram\n",
    "skipgram_model2 = Word2Vec(Lemmatized_words2, vector_size=100, window=5, min_count=1, sg=1)"
   ]
  },
  {
   "cell_type": "markdown",
   "id": "c16e5eed-f995-447e-8698-1d374cec5596",
   "metadata": {},
   "source": [
    "**=> Examples of usage of Word2Vec models :**"
   ]
  },
  {
   "cell_type": "code",
   "execution_count": 13,
   "id": "3e3661e0-62eb-4e82-b406-bbd53714176e",
   "metadata": {},
   "outputs": [
    {
     "name": "stdout",
     "output_type": "stream",
     "text": [
      "=> CBOW most_similar for 'love': [('enjoy', 0.776830792427063), ('assaulted', 0.7761009335517883), ('whipping', 0.7736964821815491), ('gilnean', 0.7725096940994263), ('shoo', 0.7629252672195435), ('fun', 0.7617813944816589), ('unblockkkk', 0.759751558303833), ('randomness', 0.757392942905426), ('spur', 0.756118893623352), ('trope', 0.7509856224060059)]\n",
      "----------------------------------------------------------------------------------------------------\n",
      "=> Skip-gram most_similar for 'love': [('rhys', 0.5823521018028259), ('lullaby', 0.5743995308876038), ('realism', 0.5585336089134216), ('drum', 0.5573713779449463), ('guff', 0.5560545325279236), ('rik', 0.5555176734924316), ('shotty', 0.5537235140800476), ('quirky', 0.5528828501701355), ('chess', 0.5501793622970581), ('greatly', 0.5501487851142883)]\n"
     ]
    }
   ],
   "source": [
    "# Example 1 :\n",
    "word = \"love\"\n",
    "cbow_vector = cbow_model2.wv.most_similar(word)\n",
    "skipgram_vector = skipgram_model2.wv.most_similar(word)\n",
    "\n",
    "print(\"=> CBOW most_similar for '{}':\".format(word), cbow_vector)\n",
    "print(\"-\"*100)\n",
    "print(\"=> Skip-gram most_similar for '{}':\".format(word), skipgram_vector)"
   ]
  },
  {
   "cell_type": "code",
   "execution_count": 14,
   "id": "0232e98a-4e11-4f1b-8ccb-182a5abb9298",
   "metadata": {},
   "outputs": [
    {
     "name": "stdout",
     "output_type": "stream",
     "text": [
      "=> CBOW most_similar for 'powerful': [('95', 0.9659325480461121), ('original', 0.9517843723297119), ('badass', 0.9454988241195679), ('coolest', 0.9446460604667664), ('psp', 0.942152202129364), ('owning', 0.9418280720710754), ('compared', 0.9401451945304871), ('clever', 0.9390465021133423), ('studio', 0.9388402700424194), ('2018', 0.9387283325195312)]\n",
      "----------------------------------------------------------------------------------------------------\n",
      "=> Skip-gram most_similar for 'powerful': [('rescue', 0.7603567242622375), ('videogame', 0.7415180206298828), ('narcos', 0.7193096280097961), ('socool', 0.7167769074440002), ('distracting', 0.7164849638938904), ('quietest', 0.7113524079322815), ('platformer', 0.7108447551727295), ('admiration', 0.7091472148895264), ('beauty', 0.7088207006454468), ('remarkable', 0.7082667350769043)]\n"
     ]
    }
   ],
   "source": [
    "# Example 2 :\n",
    "word = \"powerful\"\n",
    "cbow_vector = cbow_model2.wv.most_similar(word)\n",
    "skipgram_vector = skipgram_model2.wv.most_similar(word)\n",
    "\n",
    "print(\"=> CBOW most_similar for '{}':\".format(word), cbow_vector)\n",
    "print(\"-\"*100)\n",
    "print(\"=> Skip-gram most_similar for '{}':\".format(word), skipgram_vector)"
   ]
  },
  {
   "cell_type": "code",
   "execution_count": 15,
   "id": "7ccdd0c5-bee7-4d55-a97e-16c44fd70039",
   "metadata": {},
   "outputs": [
    {
     "name": "stdout",
     "output_type": "stream",
     "text": [
      "=> CBOW most_similar for 'life': [('findom', 0.8868793249130249), ('real', 0.8840107917785645), ('looool', 0.8797255158424377), ('businessestablishment', 0.8764601945877075), ('matter', 0.8754610419273376), ('keem', 0.8618552684783936), ('dond', 0.8483588695526123), ('thought', 0.8461362719535828), ('depended', 0.8350448608398438), ('druggie', 0.8327618837356567)]\n",
      "----------------------------------------------------------------------------------------------------\n",
      "=> Skip-gram most_similar for 'life': [('matter', 0.6190528273582458), ('basketball', 0.6182340383529663), ('looool', 0.6137689352035522), ('avatar', 0.6125320196151733), ('keem', 0.603365421295166), ('painfully', 0.6030942797660828), ('traumatic', 0.6011253595352173), ('influence', 0.5939650535583496), ('comparing', 0.5927890539169312), ('findom', 0.5917501449584961)]\n"
     ]
    }
   ],
   "source": [
    "# Example 3 :\n",
    "word = \"life\"\n",
    "cbow_vector = cbow_model2.wv.most_similar(word)\n",
    "skipgram_vector = skipgram_model2.wv.most_similar(word)\n",
    "\n",
    "print(\"=> CBOW most_similar for '{}':\".format(word), cbow_vector)\n",
    "print(\"-\"*100)\n",
    "print(\"=> Skip-gram most_similar for '{}':\".format(word), skipgram_vector)"
   ]
  },
  {
   "cell_type": "code",
   "execution_count": 16,
   "id": "61f99832-770e-4808-9e90-b8129d75a6cf",
   "metadata": {},
   "outputs": [
    {
     "name": "stdout",
     "output_type": "stream",
     "text": [
      "=> CBOW most_similar for 'fuck': [('sake', 0.8661458492279053), ('as', 0.843934953212738), ('bro', 0.8367190957069397), ('hell', 0.8361731171607971), ('yeah', 0.8277100920677185), ('nigga', 0.8178245425224304), ('suck', 0.8167433142662048), ('forreal', 0.8131272196769714), ('bitch', 0.8108741044998169), ('idiot', 0.806605339050293)]\n",
      "----------------------------------------------------------------------------------------------------\n",
      "=> Skip-gram most_similar for 'fuck': [('messed', 0.5798510313034058), ('sake', 0.5656076669692993), ('subversion', 0.5652914047241211), ('abt', 0.5648744106292725), ('gunna', 0.5577450394630432), ('nvm', 0.5557709336280823), ('bro', 0.5537886619567871), ('cross', 0.5532991886138916), ('lmaooo', 0.5526207089424133), ('swear', 0.5517531633377075)]\n"
     ]
    }
   ],
   "source": [
    "# Example 4 :\n",
    "word = \"fuck\"\n",
    "cbow_vector = cbow_model2.wv.most_similar(word)\n",
    "skipgram_vector = skipgram_model2.wv.most_similar(word)\n",
    "\n",
    "print(\"=> CBOW most_similar for '{}':\".format(word), cbow_vector)\n",
    "print(\"-\"*100)\n",
    "print(\"=> Skip-gram most_similar for '{}':\".format(word), skipgram_vector)"
   ]
  },
  {
   "cell_type": "markdown",
   "id": "e42e08b0-831f-4f19-9569-1ebee4d83041",
   "metadata": {},
   "source": [
    "#### ii - Using Bag of Words (BoW):"
   ]
  },
  {
   "cell_type": "code",
   "execution_count": 74,
   "id": "801e2266-a210-4871-b6a8-1a153291f53c",
   "metadata": {},
   "outputs": [
    {
     "name": "stdout",
     "output_type": "stream",
     "text": [
      "--------------------------------------------------\n",
      "Bag of Words representation:\n",
      "[[0 0 0 ... 0 0 0]\n",
      " [0 0 0 ... 0 0 0]\n",
      " [0 0 0 ... 0 0 0]\n",
      " ...\n",
      " [0 0 0 ... 0 0 0]\n",
      " [0 0 0 ... 0 0 0]\n",
      " [0 0 0 ... 0 0 0]]\n",
      "size of feature_names : 34398\n",
      "feature_names : ['00' '000' '00011' ... 'zzgi8xvk7t' 'zzvfsrhewg' 'zzz']\n"
     ]
    }
   ],
   "source": [
    "\n",
    "Lemmatized_texts2 = [\" \".join(words) for words in Lemmatized_words2]\n",
    "\n",
    "# Create Bag of Words representation\n",
    "vectorizer3 = CountVectorizer()\n",
    "bow_representation3 = vectorizer3.fit_transform(Lemmatized_texts2).toarray()\n",
    "\n",
    "print(\"-\"*50)\n",
    "print(\"Bag of Words representation:\")\n",
    "print(bow_representation3)\n",
    "\n",
    "# Get feature names (vocabulary)\n",
    "feature_names3 = vectorizer3.get_feature_names_out()\n",
    "\n",
    "print(\"size of feature_names :\", len(feature_names3))\n",
    "print(\"feature_names :\", feature_names3)"
   ]
  },
  {
   "cell_type": "code",
   "execution_count": 75,
   "id": "adb7a681-b3e9-4d89-9ea2-5f4bfdd551e8",
   "metadata": {},
   "outputs": [
    {
     "name": "stdout",
     "output_type": "stream",
     "text": [
      "Feature names from the row 10 and their counts:\n",
      "2010: 67 || spent: 187 || hour: 833 || making: 627 || something: 932 || fun: 1537 || dont: 2623 || know: 1860 || huge: 409 || rhandlerr: 2004 || fan: 618 || maya: 28 || one: 3660 || favorite: 627 || character: 556 || decided: 219 || make: 2246 || wallpaper: 14 || pc: 786 || original: 231 || image: 107 || versus: 18 || creation: 7 || made: 1033 || enjoy: 453 || "
     ]
    }
   ],
   "source": [
    "feature_count_dict3 = dict(zip(feature_names3, bow_representation3.sum(axis=0)))\n",
    "print(\"Feature names from the row 10 and their counts:\")\n",
    "for token in Lemmatized_words2[9] :\n",
    "    print(f\"{token}: {feature_count_dict3[token]}\", end=\" || \")"
   ]
  },
  {
   "cell_type": "code",
   "execution_count": 12,
   "id": "0a1ec3ae-a17e-475a-9c81-d3455a806eae",
   "metadata": {},
   "outputs": [
    {
     "name": "stdout",
     "output_type": "stream",
     "text": [
      "TF-IDF representation:\n",
      "[[0. 0. 0. ... 0. 0. 0.]\n",
      " [0. 0. 0. ... 0. 0. 0.]\n",
      " [0. 0. 0. ... 0. 0. 0.]\n",
      " ...\n",
      " [0. 0. 0. ... 0. 0. 0.]\n",
      " [0. 0. 0. ... 0. 0. 0.]\n",
      " [0. 0. 0. ... 0. 0. 0.]]\n",
      "size of feature_names : 34398\n",
      "feature_names : ['00' '000' '00011' ... 'zzgi8xvk7t' 'zzvfsrhewg' 'zzz']\n"
     ]
    }
   ],
   "source": [
    "\n",
    "Lemmatized_texts2 = [\" \".join(text) for text in Lemmatized_words2]\n",
    "\n",
    "# Create TF-IDF representation\n",
    "vectorizer4 = TfidfVectorizer()\n",
    "tfidf_representation4 = vectorizer4.fit_transform(Lemmatized_texts2).toarray()\n",
    "\n",
    "print(\"TF-IDF representation:\")\n",
    "print(tfidf_representation4)\n",
    "\n",
    "# Get feature names (vocabulary)\n",
    "feature_names4 = vectorizer4.get_feature_names_out()\n",
    "\n",
    "print(\"size of feature_names :\", len(feature_names4))\n",
    "print(\"feature_names :\", feature_names4)"
   ]
  },
  {
   "cell_type": "code",
   "execution_count": 14,
   "id": "552e1097-0691-4730-8182-96542f09d17a",
   "metadata": {},
   "outputs": [
    {
     "name": "stdout",
     "output_type": "stream",
     "text": [
      "Feature names from the row 10 and their counts:\n",
      "2010: 19.112694555982635 || spent: 45.703690603228765 || hour: 173.20986871307238 || making: 146.35652140775292 || something: 195.7066242874713 || fun: 365.1896296277359 || dont: 487.4732743422485 || know: 357.9715727929405 || huge: 97.47444209545534 || rhandlerr: 414.71438230244263 || fan: 137.08564090303366 || maya: 8.856322336945027 || one: 623.2968692647714 || favorite: 160.52098042724185 || character: 123.26113721997433 || decided: 51.63336237212733 || make: 406.0577841190666 || wallpaper: 7.813330103996782 || pc: 172.65970145299127 || original: 54.30930598687984 || image: 30.823950443333942 || versus: 5.748765676060424 || creation: 2.468991323663484 || made: 221.17871992840983 || enjoy: 106.53732207776928 || "
     ]
    }
   ],
   "source": [
    "feature_count_dict4 = dict(zip(feature_names4, tfidf_representation4.sum(axis=0)))\n",
    "print(\"Feature names from the row 10 and their counts:\")\n",
    "for token in Lemmatized_words2[9] :\n",
    "    print(f\"{token}: {feature_count_dict4[token]}\", end=\" || \")"
   ]
  },
  {
   "cell_type": "markdown",
   "id": "d2167e71-37f5-4fcf-890d-4c30f09bd6be",
   "metadata": {},
   "source": [
    "### 3. Train your models by using SVM, Naive Bayes, Logistic Regression, Ada Boosting Algorithms (The embedding will be done by Word2Vec)."
   ]
  },
  {
   "cell_type": "code",
   "execution_count": 12,
   "id": "6b58ec0e-29d2-462b-9914-adccc44d771a",
   "metadata": {},
   "outputs": [],
   "source": [
    "# Function to compute embeddings for each sentence\n",
    "def compute_embeddings(sentence, model):\n",
    "    # Filter out words not present in the Word2Vec vocabulary\n",
    "    valid_words = [word for word in sentence if word in model.wv]\n",
    "    if valid_words:\n",
    "        # Compute the average embedding for the model\n",
    "        sentence_embedding = np.mean([model.wv[word] for word in valid_words], axis=0)\n",
    "    else:\n",
    "        # If no valid words found, return NaN\n",
    "        sentence_embedding = np.nan\n",
    "    return sentence_embedding\n",
    "\n",
    "# Compute embeddings for CBOW model and store them in a new column\n",
    "data2['cbow_embeddings'] = data2['Lemmatized_words'].apply(lambda sentence: compute_embeddings(sentence, cbow_model2))"
   ]
  },
  {
   "cell_type": "code",
   "execution_count": 18,
   "id": "6848c3f6-2ea6-4014-a386-0dc43bf15f72",
   "metadata": {},
   "outputs": [
    {
     "data": {
      "text/html": [
       "<div>\n",
       "<style scoped>\n",
       "    .dataframe tbody tr th:only-of-type {\n",
       "        vertical-align: middle;\n",
       "    }\n",
       "\n",
       "    .dataframe tbody tr th {\n",
       "        vertical-align: top;\n",
       "    }\n",
       "\n",
       "    .dataframe thead th {\n",
       "        text-align: right;\n",
       "    }\n",
       "</style>\n",
       "<table border=\"1\" class=\"dataframe\">\n",
       "  <thead>\n",
       "    <tr style=\"text-align: right;\">\n",
       "      <th></th>\n",
       "      <th>target</th>\n",
       "      <th>tweet</th>\n",
       "      <th>Lemmatized_words</th>\n",
       "      <th>cbow_embeddings</th>\n",
       "    </tr>\n",
       "  </thead>\n",
       "  <tbody>\n",
       "    <tr>\n",
       "      <th>0</th>\n",
       "      <td>Positive</td>\n",
       "      <td>I am coming to the borders and I will kill you...</td>\n",
       "      <td>[coming, border, kill]</td>\n",
       "      <td>[-0.18190455, 0.94408035, 0.022333423, 0.56828...</td>\n",
       "    </tr>\n",
       "    <tr>\n",
       "      <th>1</th>\n",
       "      <td>Positive</td>\n",
       "      <td>im getting on borderlands and i will kill you ...</td>\n",
       "      <td>[im, getting, borderland, kill]</td>\n",
       "      <td>[-0.6019897, 1.2514751, -0.4451688, 0.85244524...</td>\n",
       "    </tr>\n",
       "    <tr>\n",
       "      <th>2</th>\n",
       "      <td>Positive</td>\n",
       "      <td>im coming on borderlands and i will murder you...</td>\n",
       "      <td>[im, coming, borderland, murder]</td>\n",
       "      <td>[-0.52148634, 1.1655602, -0.28029898, 0.743668...</td>\n",
       "    </tr>\n",
       "    <tr>\n",
       "      <th>3</th>\n",
       "      <td>Positive</td>\n",
       "      <td>im getting on borderlands 2 and i will murder ...</td>\n",
       "      <td>[im, getting, borderland, 2, murder]</td>\n",
       "      <td>[-0.5323394, 1.0609424, -0.353757, 0.9255788, ...</td>\n",
       "    </tr>\n",
       "    <tr>\n",
       "      <th>4</th>\n",
       "      <td>Positive</td>\n",
       "      <td>im getting into borderlands and i can murder y...</td>\n",
       "      <td>[im, getting, borderland, murder]</td>\n",
       "      <td>[-0.4640879, 1.2114525, -0.38003448, 0.7277281...</td>\n",
       "    </tr>\n",
       "    <tr>\n",
       "      <th>5</th>\n",
       "      <td>Positive</td>\n",
       "      <td>So I spent a few hours making something for fu...</td>\n",
       "      <td>[spent, hour, making, something, fun, dont, kn...</td>\n",
       "      <td>[-0.32048345, 0.73359525, 0.2611519, 0.5206864...</td>\n",
       "    </tr>\n",
       "    <tr>\n",
       "      <th>6</th>\n",
       "      <td>Positive</td>\n",
       "      <td>So I spent a couple of hours doing something f...</td>\n",
       "      <td>[spent, couple, hour, something, fun, dont, kn...</td>\n",
       "      <td>[-0.41701132, 0.7542409, 0.19991575, 0.5999143...</td>\n",
       "    </tr>\n",
       "  </tbody>\n",
       "</table>\n",
       "</div>"
      ],
      "text/plain": [
       "     target                                              tweet  \\\n",
       "0  Positive  I am coming to the borders and I will kill you...   \n",
       "1  Positive  im getting on borderlands and i will kill you ...   \n",
       "2  Positive  im coming on borderlands and i will murder you...   \n",
       "3  Positive  im getting on borderlands 2 and i will murder ...   \n",
       "4  Positive  im getting into borderlands and i can murder y...   \n",
       "5  Positive  So I spent a few hours making something for fu...   \n",
       "6  Positive  So I spent a couple of hours doing something f...   \n",
       "\n",
       "                                    Lemmatized_words  \\\n",
       "0                             [coming, border, kill]   \n",
       "1                    [im, getting, borderland, kill]   \n",
       "2                   [im, coming, borderland, murder]   \n",
       "3               [im, getting, borderland, 2, murder]   \n",
       "4                  [im, getting, borderland, murder]   \n",
       "5  [spent, hour, making, something, fun, dont, kn...   \n",
       "6  [spent, couple, hour, something, fun, dont, kn...   \n",
       "\n",
       "                                     cbow_embeddings  \n",
       "0  [-0.18190455, 0.94408035, 0.022333423, 0.56828...  \n",
       "1  [-0.6019897, 1.2514751, -0.4451688, 0.85244524...  \n",
       "2  [-0.52148634, 1.1655602, -0.28029898, 0.743668...  \n",
       "3  [-0.5323394, 1.0609424, -0.353757, 0.9255788, ...  \n",
       "4  [-0.4640879, 1.2114525, -0.38003448, 0.7277281...  \n",
       "5  [-0.32048345, 0.73359525, 0.2611519, 0.5206864...  \n",
       "6  [-0.41701132, 0.7542409, 0.19991575, 0.5999143...  "
      ]
     },
     "execution_count": 18,
     "metadata": {},
     "output_type": "execute_result"
    }
   ],
   "source": [
    "data2.head(7)"
   ]
  },
  {
   "cell_type": "code",
   "execution_count": 13,
   "id": "c17083ed-f07a-4c8c-9a15-9726b7c0adef",
   "metadata": {},
   "outputs": [
    {
     "name": "stdout",
     "output_type": "stream",
     "text": [
      "Length of X: 62539\n",
      "Length of target: 62539\n"
     ]
    }
   ],
   "source": [
    "print(\"Length of X:\", len(data2[\"cbow_embeddings\"]))\n",
    "print(\"Length of target:\", len(data2[\"target\"]))"
   ]
  },
  {
   "cell_type": "code",
   "execution_count": 14,
   "id": "ed7ea2d0-c3d7-4711-aa3c-8841678e18da",
   "metadata": {},
   "outputs": [],
   "source": [
    "X2 = np.vstack(data2['cbow_embeddings'].values)\n",
    "y2 = data2[\"target\"]\n",
    "\n",
    "# Split data into training and testing sets\n",
    "X_train2, X_test2, y_train2, y_test2 = train_test_split(X2, y2, test_size=0.2, random_state=42)"
   ]
  },
  {
   "cell_type": "code",
   "execution_count": 15,
   "id": "d8bce8be-f951-4fef-be07-cc241e083cc6",
   "metadata": {},
   "outputs": [
    {
     "name": "stderr",
     "output_type": "stream",
     "text": [
      "C:\\Users\\driss\\AppData\\Local\\Programs\\Python\\Python312\\Lib\\site-packages\\sklearn\\ensemble\\_weight_boosting.py:519: FutureWarning: The SAMME.R algorithm (the default) is deprecated and will be removed in 1.6. Use the SAMME algorithm to circumvent this warning.\n",
      "  warnings.warn(\n"
     ]
    }
   ],
   "source": [
    "### Support Vector Classifier (SVC)\n",
    "svc_model2 = SVC()\n",
    "svc_model2.fit(X_train2, y_train2)\n",
    "svc_predictions2 = svc_model2.predict(X_test2)\n",
    "\n",
    "### Naive Bayes\n",
    "nb_model2 = GaussianNB()\n",
    "nb_model2.fit(X_train2, y_train2)\n",
    "nb_predictions2 = nb_model2.predict(X_test2)\n",
    "\n",
    "### Logistic Regression\n",
    "lr_model2 = LogisticRegression(max_iter=1000)\n",
    "lr_model2.fit(X_train2, y_train2)\n",
    "lr_predictions2 = lr_model2.predict(X_test2)\n",
    "\n",
    "### AdaBoost Classifier\n",
    "ab_model = AdaBoostClassifier()\n",
    "ab_model.fit(X_train2, y_train2)\n",
    "ab_predictions = ab_model.predict(X_test2)"
   ]
  },
  {
   "cell_type": "markdown",
   "id": "34829fa4-adf7-46bd-8a9b-7cce55f83f7e",
   "metadata": {},
   "source": [
    "### 4. Evaluate the four languages models by using standards metrics (Accuracy, Loss, F1 Score, etc) and other metrics like blue score, choose the best model then argument your choice ."
   ]
  },
  {
   "cell_type": "code",
   "execution_count": 16,
   "id": "ee40b307-5d68-4ad9-9a18-6f457a9f5cd4",
   "metadata": {},
   "outputs": [
    {
     "name": "stdout",
     "output_type": "stream",
     "text": [
      "SVC Accuracy: 0.5506076111288776\n",
      "SVC Classification Report:\n",
      "              precision    recall  f1-score   support\n",
      "\n",
      "  Irrelevant       0.54      0.18      0.27      2205\n",
      "    Negative       0.56      0.75      0.64      3835\n",
      "     Neutral       0.54      0.51      0.52      3128\n",
      "    Positive       0.55      0.61      0.58      3340\n",
      "\n",
      "    accuracy                           0.55     12508\n",
      "   macro avg       0.55      0.51      0.50     12508\n",
      "weighted avg       0.55      0.55      0.53     12508\n",
      "\n",
      "**********************************************************************\n",
      "Naive Bayes Accuracy: 0.4596258394627438\n",
      "Naive Bayes Classification Report:\n",
      "              precision    recall  f1-score   support\n",
      "\n",
      "  Irrelevant       0.27      0.32      0.30      2205\n",
      "    Negative       0.57      0.56      0.56      3835\n",
      "     Neutral       0.46      0.47      0.47      3128\n",
      "    Positive       0.48      0.42      0.45      3340\n",
      "\n",
      "    accuracy                           0.46     12508\n",
      "   macro avg       0.45      0.44      0.44     12508\n",
      "weighted avg       0.47      0.46      0.46     12508\n",
      "\n",
      "**********************************************************************\n",
      "Logistic Regression Accuracy: 0.5299008634473936\n",
      "Logistic Regression Classification Report:\n",
      "              precision    recall  f1-score   support\n",
      "\n",
      "  Irrelevant       0.46      0.20      0.28      2205\n",
      "    Negative       0.57      0.70      0.63      3835\n",
      "     Neutral       0.49      0.52      0.51      3128\n",
      "    Positive       0.53      0.56      0.55      3340\n",
      "\n",
      "    accuracy                           0.53     12508\n",
      "   macro avg       0.51      0.50      0.49     12508\n",
      "weighted avg       0.52      0.53      0.51     12508\n",
      "\n",
      "**********************************************************************\n",
      "AdaBoost Accuracy: 0.4927246562200192\n",
      "AdaBoost Classification Report:\n",
      "              precision    recall  f1-score   support\n",
      "\n",
      "  Irrelevant       0.36      0.19      0.25      2205\n",
      "    Negative       0.54      0.66      0.60      3835\n",
      "     Neutral       0.46      0.46      0.46      3128\n",
      "    Positive       0.49      0.52      0.51      3340\n",
      "\n",
      "    accuracy                           0.49     12508\n",
      "   macro avg       0.47      0.46      0.46     12508\n",
      "weighted avg       0.48      0.49      0.48     12508\n",
      "\n",
      "**********************************************************************\n"
     ]
    },
    {
     "data": {
      "image/png": "[encoded data removed]",
      "text/plain": [
       "<Figure size 1000x700 with 8 Axes>"
      ]
     },
     "metadata": {},
     "output_type": "display_data"
    }
   ],
   "source": [
    "### Support Vector Classifier (SVC)\n",
    "print(\"SVC Accuracy:\", accuracy_score(y_test2, svc_predictions2))\n",
    "print(\"SVC Classification Report:\")\n",
    "print(classification_report(y_test2, svc_predictions2))\n",
    "svc_cm = confusion_matrix(y_test2, svc_predictions2)\n",
    "print(\"*\"*70)\n",
    "\n",
    "### Naive Bayes\n",
    "print(\"Naive Bayes Accuracy:\", accuracy_score(y_test2, nb_predictions2))\n",
    "print(\"Naive Bayes Classification Report:\")\n",
    "print(classification_report(y_test2, nb_predictions2))\n",
    "nb_cm = confusion_matrix(y_test2, nb_predictions2)\n",
    "print(\"*\"*70)\n",
    "\n",
    "### Logistic Regression\n",
    "print(\"Logistic Regression Accuracy:\", accuracy_score(y_test2, lr_predictions2))\n",
    "print(\"Logistic Regression Classification Report:\")\n",
    "print(classification_report(y_test2, lr_predictions2))\n",
    "lr_cm = confusion_matrix(y_test2, lr_predictions2)\n",
    "print(\"*\"*70)\n",
    "\n",
    "### AdaBoost Classifier\n",
    "print(\"AdaBoost Accuracy:\", accuracy_score(y_test2, ab_predictions))\n",
    "print(\"AdaBoost Classification Report:\")\n",
    "print(classification_report(y_test2, ab_predictions))\n",
    "ab_cm = confusion_matrix(y_test2, ab_predictions)\n",
    "print(\"*\"*70)\n",
    "\n",
    "# Plot confusion matrices\n",
    "fig, axes = plt.subplots(2, 2, figsize=(10, 7))\n",
    "sns.heatmap(svc_cm, annot=True, fmt=\"d\", cmap=\"Blues\", ax=axes[0, 0])\n",
    "axes[0, 0].set_title(\"SVC Confusion Matrix\")\n",
    "sns.heatmap(nb_cm, annot=True, fmt=\"d\", cmap=\"Blues\", ax=axes[0, 1])\n",
    "axes[0, 1].set_title(\"Naive Bayes Confusion Matrix\")\n",
    "sns.heatmap(lr_cm, annot=True, fmt=\"d\", cmap=\"Blues\", ax=axes[1, 0])\n",
    "axes[1, 0].set_title(\"Logistic Regression Confusion Matrix\")\n",
    "sns.heatmap(ab_cm, annot=True, fmt=\"d\", cmap=\"Blues\", ax=axes[1, 1])\n",
    "axes[1, 1].set_title(\"AdaBoost Confusion Matrix\")\n",
    "\n",
    "plt.tight_layout()\n",
    "plt.show()"
   ]
  },
  {
   "cell_type": "markdown",
   "id": "5e6427d7-2f4e-437f-ae22-faefb7332db9",
   "metadata": {},
   "source": [
    "#### => The best model is **SVM**."
   ]
  },
  {
   "cell_type": "markdown",
   "id": "b6be02c0-9ef8-45b3-9ef5-bc5955c4e12a",
   "metadata": {},
   "source": [
    "### 5. Interpret the Obtained Results."
   ]
  },
  {
   "cell_type": "markdown",
   "id": "9447e3d1-8090-482b-bf11-6fa651c985a6",
   "metadata": {},
   "source": [
    "1. **Support Vector Classifier (SVC)** : Best overall, good with \"Negative\" and \"Positive\" classes, struggles with \"Irrelevant.\"\n",
    "\n",
    "2. **Naive Bayes** : Worst overall accuracy, poor with \"Irrelevant\" class, decent with \"Negative.\"\n",
    "\n",
    "3. **Logistic Regression** : Comparable to SVC, balanced but struggles with \"Irrelevant.\"\n",
    "\n",
    "4. **AdaBoost** : Lower accuracy, decent with \"Negative\" and \"Positive.\"\n"
   ]
  },
  {
   "cell_type": "markdown",
   "id": "a87f6ff0-09b6-41a1-8734-940bbee6d22f",
   "metadata": {},
   "source": [
    "### => Brief Synthesis about what I have learn during this lab.\n",
    "\n",
    "In this lab, I delved into Natural Language Processing (NLP) tasks using the Scikit-learn library. I explored both regression and classification tasks, aiming to understand how to preprocess text data, encode it into numerical vectors, train various models, and evaluate their performance.\n",
    "\n",
    "#### Key Learnings:\n",
    "\n",
    "1.  **Preprocessing Pipeline:** Understanding the importance of tokenization, stemming/lemmatization, stop words removal, and discretization in preparing text data for modeling.\n",
    "2.  **Encoding Data Vectors:** Utilizing techniques like Word2Vec (CBOW, Skip Gram), Bag of Words (BoW), and TF-IDF to convert text into numerical features.\n",
    "3.  **Regression Models:** Learned to train and evaluate models like Support Vector Regression (SVR), Linear Regression, and Decision Tree for predicting continuous target variables.\n",
    "4.  **Classification Models:** Explored classifiers such as Support Vector Classifier (SVC), Naive Bayes, Logistic Regression, and AdaBoost for classifying text into multiple categories.\n",
    "5.  **Evaluation Metrics:** Gained insights into metrics like Mean Squared Error (MSE), Root Mean Squared Error (RMSE), R-Squared (R2) for regression, and Accuracy, F1 Score, Confusion Matrix for classification.\n"
   ]
  }
 ],
 "metadata": {
  "kernelspec": {
   "display_name": "Python 3 (ipykernel)",
   "language": "python",
   "name": "python3"
  },
  "language_info": {
   "codemirror_mode": {
    "name": "ipython",
    "version": 3
   },
   "file_extension": ".py",
   "mimetype": "text/x-python",
   "name": "python",
   "nbconvert_exporter": "python",
   "pygments_lexer": "ipython3",
   "version": "3.12.2"
  }
 },
 "nbformat": 4,
 "nbformat_minor": 5
}
